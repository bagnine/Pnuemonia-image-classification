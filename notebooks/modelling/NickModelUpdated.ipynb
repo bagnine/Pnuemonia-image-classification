{
 "metadata": {
  "language_info": {
   "codemirror_mode": {
    "name": "ipython",
    "version": 3
   },
   "file_extension": ".py",
   "mimetype": "text/x-python",
   "name": "python",
   "nbconvert_exporter": "python",
   "pygments_lexer": "ipython3",
   "version": "3.6.9-final"
  },
  "orig_nbformat": 2,
  "kernelspec": {
   "name": "python3",
   "display_name": "Python 3",
   "language": "python"
  }
 },
 "nbformat": 4,
 "nbformat_minor": 2,
 "cells": [
  {
   "source": [
    "## Importing Libraries and Functions"
   ],
   "cell_type": "markdown",
   "metadata": {}
  },
  {
   "cell_type": "code",
   "execution_count": 1,
   "metadata": {},
   "outputs": [],
   "source": [
    "import keras\n",
    "import tensorflow as tf\n",
    "from keras.models import Sequential, Model\n",
    "from keras.layers import Dense, Dropout\n",
    "from keras.optimizers import Adam, SGD\n",
    "from keras import models\n",
    "from keras import layers\n",
    "from tensorflow.keras.preprocessing import image\n",
    "from tensorflow.keras.preprocessing.image import img_to_array, array_to_img\n",
    "from tensorflow.image import rgb_to_grayscale\n",
    "from tensorflow import reshape\n",
    "from tensorflow.image import resize_with_pad\n",
    "from tensorflow.keras.applications.vgg16 import VGG16\n",
    "from tensorflow.keras.applications.densenet import DenseNet121, preprocess_input\n",
    "from tensorflow.keras.applications import MobileNetV2\n",
    "from sklearn.metrics import confusion_matrix\n",
    "from sklearn.metrics import roc_curve, auc\n",
    "import matplotlib.pyplot as plt \n",
    "import seaborn as sns\n",
    "import os\n",
    "import numpy as np\n",
    "from imgaug import augmenters as iaa\n",
    "import imgaug as ia\n",
    "\n",
    "%matplotlib inline"
   ]
  },
  {
   "cell_type": "code",
   "execution_count": 2,
   "metadata": {},
   "outputs": [],
   "source": [
    "sys.path[0] = '/Users/nicksubic/Documents/flatiron/phase_1/nyc-mhtn-ds-091420-lectures/Phase_4/Pnuemonia-image-classification/src/modules/'\n",
    "import graphs\n",
    "import data"
   ]
  },
  {
   "source": [
    "## Importing the Data"
   ],
   "cell_type": "markdown",
   "metadata": {}
  },
  {
   "cell_type": "code",
   "execution_count": 3,
   "metadata": {},
   "outputs": [
    {
     "output_type": "stream",
     "name": "stdout",
     "text": [
      "Your relative directory is good, proceeding to import files...\n",
      "\n",
      "Loading images from train\n",
      "Finished loading images from NORMAL\n",
      "Finished loading images from PNEUMONIA\n",
      "\n",
      "Loading images from test\n",
      "Finished loading images from NORMAL\n",
      "Finished loading images from PNEUMONIA\n",
      "\n",
      "Loading images from val\n",
      "Finished loading images from NORMAL\n",
      "Finished loading images from PNEUMONIA\n",
      "\n"
     ]
    }
   ],
   "source": [
    "images = data.import_image_to_array('/../../../chest_xray/',\n",
    "         dir_names = ['train', 'test', 'val'],\n",
    "         sub_dir_names = ['NORMAL', 'PNEUMONIA'],\n",
    "         padding=False,\n",
    "         shape=(224,224), test=False, grayscale = False)"
   ]
  },
  {
   "source": [
    "### Splitting the train, test and validation data into just image arrays for modeling"
   ],
   "cell_type": "markdown",
   "metadata": {}
  },
  {
   "cell_type": "code",
   "execution_count": 6,
   "metadata": {},
   "outputs": [],
   "source": [
    "X_train = np.array([i[1] for i in images['train']])  \n",
    "y_train = np.array([i[2] for i in images['train']])\n",
    "\n",
    "X_test = np.array([i[1] for i in images['test']])\n",
    "y_test = np.array([i[2] for i in images['test']])\n",
    "\n",
    "X_val = np.array([i[1] for i in images['val']])\n",
    "y_val = np.array([i[2] for i in images['val']])"
   ]
  },
  {
   "source": [
    "### Creating a simple baseline CNN model with 2 Convolution layers, 1 densely connected and no regularization"
   ],
   "cell_type": "markdown",
   "metadata": {}
  },
  {
   "cell_type": "code",
   "execution_count": 5,
   "metadata": {},
   "outputs": [],
   "source": [
    "#baseline model- two convolution layers, maxpooling, one 32 node dense layer and the output\n",
    "\n",
    "cnn = models.Sequential()\n",
    "\n",
    "# Input convolution layer\n",
    "cnn.add(layers.Conv2D(64, kernel_size= (3, 3), activation='relu', input_shape=(224, 224,  3)))\n",
    "\n",
    "# Max pooling layer\n",
    "cnn.add(layers.MaxPooling2D((2, 2)))\n",
    "\n",
    "# Hidden convolution layer and pool\n",
    "cnn.add(layers.Conv2D(32, kernel_size= (3, 3), activation='relu'))\n",
    "cnn.add(layers.MaxPooling2D((2, 2)))\n",
    "\n",
    "# Flatten layer\n",
    "cnn.add(layers.Flatten())\n",
    "cnn.add(layers.Dense(32, activation='relu'))\n",
    "\n",
    "# Output\n",
    "cnn.add(layers.Dense(1, activation='sigmoid'))\n",
    "\n",
    "# Compiling with stochastic gradient descent, optimized for accuracy\n",
    "cnn.compile(loss='binary_crossentropy',\n",
    "              optimizer=\"sgd\",\n",
    "              metrics=['acc'])"
   ]
  },
  {
   "cell_type": "code",
   "execution_count": 6,
   "metadata": {},
   "outputs": [
    {
     "output_type": "stream",
     "name": "stdout",
     "text": [
      "Epoch 1/5\n",
      "105/105 [==============================] - 150s 1s/step - loss: 0.5063 - acc: 0.7648 - val_loss: 1.3311 - val_acc: 0.5000\n",
      "Epoch 2/5\n",
      "105/105 [==============================] - 136s 1s/step - loss: 0.3731 - acc: 0.8370 - val_loss: 0.5043 - val_acc: 0.8125\n",
      "Epoch 3/5\n",
      "105/105 [==============================] - 136s 1s/step - loss: 0.2753 - acc: 0.8905 - val_loss: 0.4259 - val_acc: 0.8125\n",
      "Epoch 4/5\n",
      "105/105 [==============================] - 142s 1s/step - loss: 0.1989 - acc: 0.9183 - val_loss: 0.7032 - val_acc: 0.5625\n",
      "Epoch 5/5\n",
      "105/105 [==============================] - 135s 1s/step - loss: 0.1697 - acc: 0.9371 - val_loss: 0.4399 - val_acc: 0.8125\n"
     ]
    }
   ],
   "source": [
    "cnn1 = cnn.fit(X_train,\n",
    "                    y_train,\n",
    "                    epochs=5,\n",
    "                    batch_size=50,\n",
    "                    validation_data=(X_val, y_val))"
   ]
  },
  {
   "cell_type": "code",
   "execution_count": 7,
   "metadata": {},
   "outputs": [
    {
     "output_type": "stream",
     "name": "stdout",
     "text": [
      "20/20 [==============================] - 4s 197ms/step - loss: 0.5827 - acc: 0.7692\n"
     ]
    }
   ],
   "source": [
    "results_test = cnn.evaluate(X_test, y_test)"
   ]
  },
  {
   "cell_type": "code",
   "execution_count": 8,
   "metadata": {},
   "outputs": [],
   "source": [
    "# Confusion Matrix functions\n",
    "def get_labels(fit_model, X, threshold):\n",
    "    return [1 if x >= threshold else 0 for x in fit_model.predict(X)]\n",
    "def get_false_positive(true, prediction):\n",
    "    return [1 if (x == 0 and y == 1) else 0 for x,y in zip(true,prediction)]\n",
    "def get_true_positive(true, prediction):\n",
    "    return [1 if (x == 1 and y == 1) else 0 for x,y in zip(true,prediction)]\n",
    "def get_false_negative(true, prediction):\n",
    "    return [1 if (x == 1 and y == 0) else 0 for x,y in zip(true,prediction)]"
   ]
  },
  {
   "cell_type": "code",
   "execution_count": 9,
   "metadata": {},
   "outputs": [
    {
     "output_type": "display_data",
     "data": {
      "text/plain": "<Figure size 864x432 with 2 Axes>",
      "image/svg+xml": "<?xml version=\"1.0\" encoding=\"utf-8\" standalone=\"no\"?>\n<!DOCTYPE svg PUBLIC \"-//W3C//DTD SVG 1.1//EN\"\n  \"http://www.w3.org/Graphics/SVG/1.1/DTD/svg11.dtd\">\n<!-- Created with matplotlib (https://matplotlib.org/) -->\n<svg height=\"395.4325pt\" version=\"1.1\" viewBox=\"0 0 661.150813 395.4325\" width=\"661.150813pt\" xmlns=\"http://www.w3.org/2000/svg\" xmlns:xlink=\"http://www.w3.org/1999/xlink\">\n <defs>\n  <style type=\"text/css\">\n*{stroke-linecap:butt;stroke-linejoin:round;}\n  </style>\n </defs>\n <g id=\"figure_1\">\n  <g id=\"patch_1\">\n   <path d=\"M 0 395.4325 \nL 661.150813 395.4325 \nL 661.150813 0 \nL 0 0 \nz\n\" style=\"fill:none;\"/>\n  </g>\n  <g id=\"axes_1\">\n   <g id=\"patch_2\">\n    <path d=\"M 42.395313 353.037188 \nL 578.075313 353.037188 \nL 578.075313 26.877187 \nL 42.395313 26.877187 \nz\n\" style=\"fill:#ffffff;\"/>\n   </g>\n   <g id=\"QuadMesh_1\">\n    <path clip-path=\"url(#p7bef68ddbc)\" d=\"M 42.395313 26.877187 \nL 310.235313 26.877187 \nL 310.235313 189.957188 \nL 42.395313 189.957188 \nL 42.395313 26.877187 \n\" style=\"fill:#c7dcef;\"/>\n    <path clip-path=\"url(#p7bef68ddbc)\" d=\"M 310.235313 26.877187 \nL 578.075313 26.877187 \nL 578.075313 189.957188 \nL 310.235313 189.957188 \nL 310.235313 26.877187 \n\" style=\"fill:#add0e6;\"/>\n    <path clip-path=\"url(#p7bef68ddbc)\" d=\"M 42.395313 189.957188 \nL 310.235313 189.957188 \nL 310.235313 353.037188 \nL 42.395313 353.037188 \nL 42.395313 189.957188 \n\" style=\"fill:#f7fbff;\"/>\n    <path clip-path=\"url(#p7bef68ddbc)\" d=\"M 310.235313 189.957188 \nL 578.075313 189.957188 \nL 578.075313 353.037188 \nL 310.235313 353.037188 \nL 310.235313 189.957188 \n\" style=\"fill:#08306b;\"/>\n   </g>\n   <g id=\"matplotlib.axis_1\">\n    <g id=\"xtick_1\">\n     <g id=\"line2d_1\">\n      <defs>\n       <path d=\"M 0 0 \nL 0 3.5 \n\" id=\"m7bd0199e56\" style=\"stroke:#000000;stroke-width:0.8;\"/>\n      </defs>\n      <g>\n       <use style=\"stroke:#000000;stroke-width:0.8;\" x=\"176.315313\" xlink:href=\"#m7bd0199e56\" y=\"353.037188\"/>\n      </g>\n     </g>\n     <g id=\"text_1\">\n      <!-- Healthy -->\n      <defs>\n       <path d=\"M 9.8125 72.90625 \nL 19.671875 72.90625 \nL 19.671875 43.015625 \nL 55.515625 43.015625 \nL 55.515625 72.90625 \nL 65.375 72.90625 \nL 65.375 0 \nL 55.515625 0 \nL 55.515625 34.71875 \nL 19.671875 34.71875 \nL 19.671875 0 \nL 9.8125 0 \nz\n\" id=\"DejaVuSans-72\"/>\n       <path d=\"M 56.203125 29.59375 \nL 56.203125 25.203125 \nL 14.890625 25.203125 \nQ 15.484375 15.921875 20.484375 11.0625 \nQ 25.484375 6.203125 34.421875 6.203125 \nQ 39.59375 6.203125 44.453125 7.46875 \nQ 49.3125 8.734375 54.109375 11.28125 \nL 54.109375 2.78125 \nQ 49.265625 0.734375 44.1875 -0.34375 \nQ 39.109375 -1.421875 33.890625 -1.421875 \nQ 20.796875 -1.421875 13.15625 6.1875 \nQ 5.515625 13.8125 5.515625 26.8125 \nQ 5.515625 40.234375 12.765625 48.109375 \nQ 20.015625 56 32.328125 56 \nQ 43.359375 56 49.78125 48.890625 \nQ 56.203125 41.796875 56.203125 29.59375 \nz\nM 47.21875 32.234375 \nQ 47.125 39.59375 43.09375 43.984375 \nQ 39.0625 48.390625 32.421875 48.390625 \nQ 24.90625 48.390625 20.390625 44.140625 \nQ 15.875 39.890625 15.1875 32.171875 \nz\n\" id=\"DejaVuSans-101\"/>\n       <path d=\"M 34.28125 27.484375 \nQ 23.390625 27.484375 19.1875 25 \nQ 14.984375 22.515625 14.984375 16.5 \nQ 14.984375 11.71875 18.140625 8.90625 \nQ 21.296875 6.109375 26.703125 6.109375 \nQ 34.1875 6.109375 38.703125 11.40625 \nQ 43.21875 16.703125 43.21875 25.484375 \nL 43.21875 27.484375 \nz\nM 52.203125 31.203125 \nL 52.203125 0 \nL 43.21875 0 \nL 43.21875 8.296875 \nQ 40.140625 3.328125 35.546875 0.953125 \nQ 30.953125 -1.421875 24.3125 -1.421875 \nQ 15.921875 -1.421875 10.953125 3.296875 \nQ 6 8.015625 6 15.921875 \nQ 6 25.140625 12.171875 29.828125 \nQ 18.359375 34.515625 30.609375 34.515625 \nL 43.21875 34.515625 \nL 43.21875 35.40625 \nQ 43.21875 41.609375 39.140625 45 \nQ 35.0625 48.390625 27.6875 48.390625 \nQ 23 48.390625 18.546875 47.265625 \nQ 14.109375 46.140625 10.015625 43.890625 \nL 10.015625 52.203125 \nQ 14.9375 54.109375 19.578125 55.046875 \nQ 24.21875 56 28.609375 56 \nQ 40.484375 56 46.34375 49.84375 \nQ 52.203125 43.703125 52.203125 31.203125 \nz\n\" id=\"DejaVuSans-97\"/>\n       <path d=\"M 9.421875 75.984375 \nL 18.40625 75.984375 \nL 18.40625 0 \nL 9.421875 0 \nz\n\" id=\"DejaVuSans-108\"/>\n       <path d=\"M 18.3125 70.21875 \nL 18.3125 54.6875 \nL 36.8125 54.6875 \nL 36.8125 47.703125 \nL 18.3125 47.703125 \nL 18.3125 18.015625 \nQ 18.3125 11.328125 20.140625 9.421875 \nQ 21.96875 7.515625 27.59375 7.515625 \nL 36.8125 7.515625 \nL 36.8125 0 \nL 27.59375 0 \nQ 17.1875 0 13.234375 3.875 \nQ 9.28125 7.765625 9.28125 18.015625 \nL 9.28125 47.703125 \nL 2.6875 47.703125 \nL 2.6875 54.6875 \nL 9.28125 54.6875 \nL 9.28125 70.21875 \nz\n\" id=\"DejaVuSans-116\"/>\n       <path d=\"M 54.890625 33.015625 \nL 54.890625 0 \nL 45.90625 0 \nL 45.90625 32.71875 \nQ 45.90625 40.484375 42.875 44.328125 \nQ 39.84375 48.1875 33.796875 48.1875 \nQ 26.515625 48.1875 22.3125 43.546875 \nQ 18.109375 38.921875 18.109375 30.90625 \nL 18.109375 0 \nL 9.078125 0 \nL 9.078125 75.984375 \nL 18.109375 75.984375 \nL 18.109375 46.1875 \nQ 21.34375 51.125 25.703125 53.5625 \nQ 30.078125 56 35.796875 56 \nQ 45.21875 56 50.046875 50.171875 \nQ 54.890625 44.34375 54.890625 33.015625 \nz\n\" id=\"DejaVuSans-104\"/>\n       <path d=\"M 32.171875 -5.078125 \nQ 28.375 -14.84375 24.75 -17.8125 \nQ 21.140625 -20.796875 15.09375 -20.796875 \nL 7.90625 -20.796875 \nL 7.90625 -13.28125 \nL 13.1875 -13.28125 \nQ 16.890625 -13.28125 18.9375 -11.515625 \nQ 21 -9.765625 23.484375 -3.21875 \nL 25.09375 0.875 \nL 2.984375 54.6875 \nL 12.5 54.6875 \nL 29.59375 11.921875 \nL 46.6875 54.6875 \nL 56.203125 54.6875 \nz\n\" id=\"DejaVuSans-121\"/>\n      </defs>\n      <g transform=\"translate(156.937188 367.635625)scale(0.1 -0.1)\">\n       <use xlink:href=\"#DejaVuSans-72\"/>\n       <use x=\"75.195312\" xlink:href=\"#DejaVuSans-101\"/>\n       <use x=\"136.71875\" xlink:href=\"#DejaVuSans-97\"/>\n       <use x=\"197.998047\" xlink:href=\"#DejaVuSans-108\"/>\n       <use x=\"225.78125\" xlink:href=\"#DejaVuSans-116\"/>\n       <use x=\"264.990234\" xlink:href=\"#DejaVuSans-104\"/>\n       <use x=\"328.369141\" xlink:href=\"#DejaVuSans-121\"/>\n      </g>\n     </g>\n    </g>\n    <g id=\"xtick_2\">\n     <g id=\"line2d_2\">\n      <g>\n       <use style=\"stroke:#000000;stroke-width:0.8;\" x=\"444.155313\" xlink:href=\"#m7bd0199e56\" y=\"353.037188\"/>\n      </g>\n     </g>\n     <g id=\"text_2\">\n      <!-- Pneumonia -->\n      <defs>\n       <path d=\"M 19.671875 64.796875 \nL 19.671875 37.40625 \nL 32.078125 37.40625 \nQ 38.96875 37.40625 42.71875 40.96875 \nQ 46.484375 44.53125 46.484375 51.125 \nQ 46.484375 57.671875 42.71875 61.234375 \nQ 38.96875 64.796875 32.078125 64.796875 \nz\nM 9.8125 72.90625 \nL 32.078125 72.90625 \nQ 44.34375 72.90625 50.609375 67.359375 \nQ 56.890625 61.8125 56.890625 51.125 \nQ 56.890625 40.328125 50.609375 34.8125 \nQ 44.34375 29.296875 32.078125 29.296875 \nL 19.671875 29.296875 \nL 19.671875 0 \nL 9.8125 0 \nz\n\" id=\"DejaVuSans-80\"/>\n       <path d=\"M 54.890625 33.015625 \nL 54.890625 0 \nL 45.90625 0 \nL 45.90625 32.71875 \nQ 45.90625 40.484375 42.875 44.328125 \nQ 39.84375 48.1875 33.796875 48.1875 \nQ 26.515625 48.1875 22.3125 43.546875 \nQ 18.109375 38.921875 18.109375 30.90625 \nL 18.109375 0 \nL 9.078125 0 \nL 9.078125 54.6875 \nL 18.109375 54.6875 \nL 18.109375 46.1875 \nQ 21.34375 51.125 25.703125 53.5625 \nQ 30.078125 56 35.796875 56 \nQ 45.21875 56 50.046875 50.171875 \nQ 54.890625 44.34375 54.890625 33.015625 \nz\n\" id=\"DejaVuSans-110\"/>\n       <path d=\"M 8.5 21.578125 \nL 8.5 54.6875 \nL 17.484375 54.6875 \nL 17.484375 21.921875 \nQ 17.484375 14.15625 20.5 10.265625 \nQ 23.53125 6.390625 29.59375 6.390625 \nQ 36.859375 6.390625 41.078125 11.03125 \nQ 45.3125 15.671875 45.3125 23.6875 \nL 45.3125 54.6875 \nL 54.296875 54.6875 \nL 54.296875 0 \nL 45.3125 0 \nL 45.3125 8.40625 \nQ 42.046875 3.421875 37.71875 1 \nQ 33.40625 -1.421875 27.6875 -1.421875 \nQ 18.265625 -1.421875 13.375 4.4375 \nQ 8.5 10.296875 8.5 21.578125 \nz\nM 31.109375 56 \nz\n\" id=\"DejaVuSans-117\"/>\n       <path d=\"M 52 44.1875 \nQ 55.375 50.25 60.0625 53.125 \nQ 64.75 56 71.09375 56 \nQ 79.640625 56 84.28125 50.015625 \nQ 88.921875 44.046875 88.921875 33.015625 \nL 88.921875 0 \nL 79.890625 0 \nL 79.890625 32.71875 \nQ 79.890625 40.578125 77.09375 44.375 \nQ 74.3125 48.1875 68.609375 48.1875 \nQ 61.625 48.1875 57.5625 43.546875 \nQ 53.515625 38.921875 53.515625 30.90625 \nL 53.515625 0 \nL 44.484375 0 \nL 44.484375 32.71875 \nQ 44.484375 40.625 41.703125 44.40625 \nQ 38.921875 48.1875 33.109375 48.1875 \nQ 26.21875 48.1875 22.15625 43.53125 \nQ 18.109375 38.875 18.109375 30.90625 \nL 18.109375 0 \nL 9.078125 0 \nL 9.078125 54.6875 \nL 18.109375 54.6875 \nL 18.109375 46.1875 \nQ 21.1875 51.21875 25.484375 53.609375 \nQ 29.78125 56 35.6875 56 \nQ 41.65625 56 45.828125 52.96875 \nQ 50 49.953125 52 44.1875 \nz\n\" id=\"DejaVuSans-109\"/>\n       <path d=\"M 30.609375 48.390625 \nQ 23.390625 48.390625 19.1875 42.75 \nQ 14.984375 37.109375 14.984375 27.296875 \nQ 14.984375 17.484375 19.15625 11.84375 \nQ 23.34375 6.203125 30.609375 6.203125 \nQ 37.796875 6.203125 41.984375 11.859375 \nQ 46.1875 17.53125 46.1875 27.296875 \nQ 46.1875 37.015625 41.984375 42.703125 \nQ 37.796875 48.390625 30.609375 48.390625 \nz\nM 30.609375 56 \nQ 42.328125 56 49.015625 48.375 \nQ 55.71875 40.765625 55.71875 27.296875 \nQ 55.71875 13.875 49.015625 6.21875 \nQ 42.328125 -1.421875 30.609375 -1.421875 \nQ 18.84375 -1.421875 12.171875 6.21875 \nQ 5.515625 13.875 5.515625 27.296875 \nQ 5.515625 40.765625 12.171875 48.375 \nQ 18.84375 56 30.609375 56 \nz\n\" id=\"DejaVuSans-111\"/>\n       <path d=\"M 9.421875 54.6875 \nL 18.40625 54.6875 \nL 18.40625 0 \nL 9.421875 0 \nz\nM 9.421875 75.984375 \nL 18.40625 75.984375 \nL 18.40625 64.59375 \nL 9.421875 64.59375 \nz\n\" id=\"DejaVuSans-105\"/>\n      </defs>\n      <g transform=\"translate(416.175625 367.635625)scale(0.1 -0.1)\">\n       <use xlink:href=\"#DejaVuSans-80\"/>\n       <use x=\"60.287109\" xlink:href=\"#DejaVuSans-110\"/>\n       <use x=\"123.666016\" xlink:href=\"#DejaVuSans-101\"/>\n       <use x=\"185.189453\" xlink:href=\"#DejaVuSans-117\"/>\n       <use x=\"248.568359\" xlink:href=\"#DejaVuSans-109\"/>\n       <use x=\"345.980469\" xlink:href=\"#DejaVuSans-111\"/>\n       <use x=\"407.162109\" xlink:href=\"#DejaVuSans-110\"/>\n       <use x=\"470.541016\" xlink:href=\"#DejaVuSans-105\"/>\n       <use x=\"498.324219\" xlink:href=\"#DejaVuSans-97\"/>\n      </g>\n     </g>\n    </g>\n    <g id=\"text_3\">\n     <!-- Predicted -->\n     <defs>\n      <path d=\"M 41.109375 46.296875 \nQ 39.59375 47.171875 37.8125 47.578125 \nQ 36.03125 48 33.890625 48 \nQ 26.265625 48 22.1875 43.046875 \nQ 18.109375 38.09375 18.109375 28.8125 \nL 18.109375 0 \nL 9.078125 0 \nL 9.078125 54.6875 \nL 18.109375 54.6875 \nL 18.109375 46.1875 \nQ 20.953125 51.171875 25.484375 53.578125 \nQ 30.03125 56 36.53125 56 \nQ 37.453125 56 38.578125 55.875 \nQ 39.703125 55.765625 41.0625 55.515625 \nz\n\" id=\"DejaVuSans-114\"/>\n      <path d=\"M 45.40625 46.390625 \nL 45.40625 75.984375 \nL 54.390625 75.984375 \nL 54.390625 0 \nL 45.40625 0 \nL 45.40625 8.203125 \nQ 42.578125 3.328125 38.25 0.953125 \nQ 33.9375 -1.421875 27.875 -1.421875 \nQ 17.96875 -1.421875 11.734375 6.484375 \nQ 5.515625 14.40625 5.515625 27.296875 \nQ 5.515625 40.1875 11.734375 48.09375 \nQ 17.96875 56 27.875 56 \nQ 33.9375 56 38.25 53.625 \nQ 42.578125 51.265625 45.40625 46.390625 \nz\nM 14.796875 27.296875 \nQ 14.796875 17.390625 18.875 11.75 \nQ 22.953125 6.109375 30.078125 6.109375 \nQ 37.203125 6.109375 41.296875 11.75 \nQ 45.40625 17.390625 45.40625 27.296875 \nQ 45.40625 37.203125 41.296875 42.84375 \nQ 37.203125 48.484375 30.078125 48.484375 \nQ 22.953125 48.484375 18.875 42.84375 \nQ 14.796875 37.203125 14.796875 27.296875 \nz\n\" id=\"DejaVuSans-100\"/>\n      <path d=\"M 48.78125 52.59375 \nL 48.78125 44.1875 \nQ 44.96875 46.296875 41.140625 47.34375 \nQ 37.3125 48.390625 33.40625 48.390625 \nQ 24.65625 48.390625 19.8125 42.84375 \nQ 14.984375 37.3125 14.984375 27.296875 \nQ 14.984375 17.28125 19.8125 11.734375 \nQ 24.65625 6.203125 33.40625 6.203125 \nQ 37.3125 6.203125 41.140625 7.25 \nQ 44.96875 8.296875 48.78125 10.40625 \nL 48.78125 2.09375 \nQ 45.015625 0.34375 40.984375 -0.53125 \nQ 36.96875 -1.421875 32.421875 -1.421875 \nQ 20.0625 -1.421875 12.78125 6.34375 \nQ 5.515625 14.109375 5.515625 27.296875 \nQ 5.515625 40.671875 12.859375 48.328125 \nQ 20.21875 56 33.015625 56 \nQ 37.15625 56 41.109375 55.140625 \nQ 45.0625 54.296875 48.78125 52.59375 \nz\n\" id=\"DejaVuSans-99\"/>\n     </defs>\n     <g transform=\"translate(274.733359 385.112969)scale(0.15 -0.15)\">\n      <use xlink:href=\"#DejaVuSans-80\"/>\n      <use x=\"60.287109\" xlink:href=\"#DejaVuSans-114\"/>\n      <use x=\"101.369141\" xlink:href=\"#DejaVuSans-101\"/>\n      <use x=\"162.892578\" xlink:href=\"#DejaVuSans-100\"/>\n      <use x=\"226.369141\" xlink:href=\"#DejaVuSans-105\"/>\n      <use x=\"254.152344\" xlink:href=\"#DejaVuSans-99\"/>\n      <use x=\"309.132812\" xlink:href=\"#DejaVuSans-116\"/>\n      <use x=\"348.341797\" xlink:href=\"#DejaVuSans-101\"/>\n      <use x=\"409.865234\" xlink:href=\"#DejaVuSans-100\"/>\n     </g>\n    </g>\n   </g>\n   <g id=\"matplotlib.axis_2\">\n    <g id=\"ytick_1\">\n     <g id=\"line2d_3\">\n      <defs>\n       <path d=\"M 0 0 \nL -3.5 0 \n\" id=\"m13bb21201e\" style=\"stroke:#000000;stroke-width:0.8;\"/>\n      </defs>\n      <g>\n       <use style=\"stroke:#000000;stroke-width:0.8;\" x=\"42.395313\" xlink:href=\"#m13bb21201e\" y=\"108.417187\"/>\n      </g>\n     </g>\n     <g id=\"text_4\">\n      <!-- Healthy -->\n      <g transform=\"translate(33.315625 143.374219)rotate(-90)scale(0.1 -0.1)\">\n       <use xlink:href=\"#DejaVuSans-72\"/>\n       <use x=\"75.195312\" xlink:href=\"#DejaVuSans-101\"/>\n       <use x=\"136.71875\" xlink:href=\"#DejaVuSans-97\"/>\n       <use x=\"197.998047\" xlink:href=\"#DejaVuSans-108\"/>\n       <use x=\"225.78125\" xlink:href=\"#DejaVuSans-116\"/>\n       <use x=\"264.990234\" xlink:href=\"#DejaVuSans-104\"/>\n       <use x=\"328.369141\" xlink:href=\"#DejaVuSans-121\"/>\n      </g>\n     </g>\n    </g>\n    <g id=\"ytick_2\">\n     <g id=\"line2d_4\">\n      <g>\n       <use style=\"stroke:#000000;stroke-width:0.8;\" x=\"42.395313\" xlink:href=\"#m13bb21201e\" y=\"271.497187\"/>\n      </g>\n     </g>\n     <g id=\"text_5\">\n      <!-- Pneumonia -->\n      <g transform=\"translate(33.315625 323.657344)rotate(-90)scale(0.1 -0.1)\">\n       <use xlink:href=\"#DejaVuSans-80\"/>\n       <use x=\"60.287109\" xlink:href=\"#DejaVuSans-110\"/>\n       <use x=\"123.666016\" xlink:href=\"#DejaVuSans-101\"/>\n       <use x=\"185.189453\" xlink:href=\"#DejaVuSans-117\"/>\n       <use x=\"248.568359\" xlink:href=\"#DejaVuSans-109\"/>\n       <use x=\"345.980469\" xlink:href=\"#DejaVuSans-111\"/>\n       <use x=\"407.162109\" xlink:href=\"#DejaVuSans-110\"/>\n       <use x=\"470.541016\" xlink:href=\"#DejaVuSans-105\"/>\n       <use x=\"498.324219\" xlink:href=\"#DejaVuSans-97\"/>\n      </g>\n     </g>\n    </g>\n    <g id=\"text_6\">\n     <!-- Actual -->\n     <defs>\n      <path d=\"M 34.1875 63.1875 \nL 20.796875 26.90625 \nL 47.609375 26.90625 \nz\nM 28.609375 72.90625 \nL 39.796875 72.90625 \nL 67.578125 0 \nL 57.328125 0 \nL 50.6875 18.703125 \nL 17.828125 18.703125 \nL 11.1875 0 \nL 0.78125 0 \nz\n\" id=\"DejaVuSans-65\"/>\n     </defs>\n     <g transform=\"translate(18.597656 213.583359)rotate(-90)scale(0.15 -0.15)\">\n      <use xlink:href=\"#DejaVuSans-65\"/>\n      <use x=\"68.392578\" xlink:href=\"#DejaVuSans-99\"/>\n      <use x=\"123.373047\" xlink:href=\"#DejaVuSans-116\"/>\n      <use x=\"162.582031\" xlink:href=\"#DejaVuSans-117\"/>\n      <use x=\"225.960938\" xlink:href=\"#DejaVuSans-97\"/>\n      <use x=\"287.240234\" xlink:href=\"#DejaVuSans-108\"/>\n     </g>\n    </g>\n   </g>\n   <g id=\"text_7\">\n    <!-- 101 -->\n    <defs>\n     <path d=\"M 12.40625 8.296875 \nL 28.515625 8.296875 \nL 28.515625 63.921875 \nL 10.984375 60.40625 \nL 10.984375 69.390625 \nL 28.421875 72.90625 \nL 38.28125 72.90625 \nL 38.28125 8.296875 \nL 54.390625 8.296875 \nL 54.390625 0 \nL 12.40625 0 \nz\n\" id=\"DejaVuSans-49\"/>\n     <path d=\"M 31.78125 66.40625 \nQ 24.171875 66.40625 20.328125 58.90625 \nQ 16.5 51.421875 16.5 36.375 \nQ 16.5 21.390625 20.328125 13.890625 \nQ 24.171875 6.390625 31.78125 6.390625 \nQ 39.453125 6.390625 43.28125 13.890625 \nQ 47.125 21.390625 47.125 36.375 \nQ 47.125 51.421875 43.28125 58.90625 \nQ 39.453125 66.40625 31.78125 66.40625 \nz\nM 31.78125 74.21875 \nQ 44.046875 74.21875 50.515625 64.515625 \nQ 56.984375 54.828125 56.984375 36.375 \nQ 56.984375 17.96875 50.515625 8.265625 \nQ 44.046875 -1.421875 31.78125 -1.421875 \nQ 19.53125 -1.421875 13.0625 8.265625 \nQ 6.59375 17.96875 6.59375 36.375 \nQ 6.59375 54.828125 13.0625 64.515625 \nQ 19.53125 74.21875 31.78125 74.21875 \nz\n\" id=\"DejaVuSans-48\"/>\n    </defs>\n    <g style=\"fill:#262626;\" transform=\"translate(166.771563 111.176562)scale(0.1 -0.1)\">\n     <use xlink:href=\"#DejaVuSans-49\"/>\n     <use x=\"63.623047\" xlink:href=\"#DejaVuSans-48\"/>\n     <use x=\"127.246094\" xlink:href=\"#DejaVuSans-49\"/>\n    </g>\n   </g>\n   <g id=\"text_8\">\n    <!-- 133 -->\n    <defs>\n     <path d=\"M 40.578125 39.3125 \nQ 47.65625 37.796875 51.625 33 \nQ 55.609375 28.21875 55.609375 21.1875 \nQ 55.609375 10.40625 48.1875 4.484375 \nQ 40.765625 -1.421875 27.09375 -1.421875 \nQ 22.515625 -1.421875 17.65625 -0.515625 \nQ 12.796875 0.390625 7.625 2.203125 \nL 7.625 11.71875 \nQ 11.71875 9.328125 16.59375 8.109375 \nQ 21.484375 6.890625 26.8125 6.890625 \nQ 36.078125 6.890625 40.9375 10.546875 \nQ 45.796875 14.203125 45.796875 21.1875 \nQ 45.796875 27.640625 41.28125 31.265625 \nQ 36.765625 34.90625 28.71875 34.90625 \nL 20.21875 34.90625 \nL 20.21875 43.015625 \nL 29.109375 43.015625 \nQ 36.375 43.015625 40.234375 45.921875 \nQ 44.09375 48.828125 44.09375 54.296875 \nQ 44.09375 59.90625 40.109375 62.90625 \nQ 36.140625 65.921875 28.71875 65.921875 \nQ 24.65625 65.921875 20.015625 65.03125 \nQ 15.375 64.15625 9.8125 62.3125 \nL 9.8125 71.09375 \nQ 15.4375 72.65625 20.34375 73.4375 \nQ 25.25 74.21875 29.59375 74.21875 \nQ 40.828125 74.21875 47.359375 69.109375 \nQ 53.90625 64.015625 53.90625 55.328125 \nQ 53.90625 49.265625 50.4375 45.09375 \nQ 46.96875 40.921875 40.578125 39.3125 \nz\n\" id=\"DejaVuSans-51\"/>\n    </defs>\n    <g style=\"fill:#262626;\" transform=\"translate(434.611563 111.176562)scale(0.1 -0.1)\">\n     <use xlink:href=\"#DejaVuSans-49\"/>\n     <use x=\"63.623047\" xlink:href=\"#DejaVuSans-51\"/>\n     <use x=\"127.246094\" xlink:href=\"#DejaVuSans-51\"/>\n    </g>\n   </g>\n   <g id=\"text_9\">\n    <!-- 11 -->\n    <g style=\"fill:#262626;\" transform=\"translate(169.952813 274.256562)scale(0.1 -0.1)\">\n     <use xlink:href=\"#DejaVuSans-49\"/>\n     <use x=\"63.623047\" xlink:href=\"#DejaVuSans-49\"/>\n    </g>\n   </g>\n   <g id=\"text_10\">\n    <!-- 379 -->\n    <defs>\n     <path d=\"M 8.203125 72.90625 \nL 55.078125 72.90625 \nL 55.078125 68.703125 \nL 28.609375 0 \nL 18.3125 0 \nL 43.21875 64.59375 \nL 8.203125 64.59375 \nz\n\" id=\"DejaVuSans-55\"/>\n     <path d=\"M 10.984375 1.515625 \nL 10.984375 10.5 \nQ 14.703125 8.734375 18.5 7.8125 \nQ 22.3125 6.890625 25.984375 6.890625 \nQ 35.75 6.890625 40.890625 13.453125 \nQ 46.046875 20.015625 46.78125 33.40625 \nQ 43.953125 29.203125 39.59375 26.953125 \nQ 35.25 24.703125 29.984375 24.703125 \nQ 19.046875 24.703125 12.671875 31.3125 \nQ 6.296875 37.9375 6.296875 49.421875 \nQ 6.296875 60.640625 12.9375 67.421875 \nQ 19.578125 74.21875 30.609375 74.21875 \nQ 43.265625 74.21875 49.921875 64.515625 \nQ 56.59375 54.828125 56.59375 36.375 \nQ 56.59375 19.140625 48.40625 8.859375 \nQ 40.234375 -1.421875 26.421875 -1.421875 \nQ 22.703125 -1.421875 18.890625 -0.6875 \nQ 15.09375 0.046875 10.984375 1.515625 \nz\nM 30.609375 32.421875 \nQ 37.25 32.421875 41.125 36.953125 \nQ 45.015625 41.5 45.015625 49.421875 \nQ 45.015625 57.28125 41.125 61.84375 \nQ 37.25 66.40625 30.609375 66.40625 \nQ 23.96875 66.40625 20.09375 61.84375 \nQ 16.21875 57.28125 16.21875 49.421875 \nQ 16.21875 41.5 20.09375 36.953125 \nQ 23.96875 32.421875 30.609375 32.421875 \nz\n\" id=\"DejaVuSans-57\"/>\n    </defs>\n    <g style=\"fill:#ffffff;\" transform=\"translate(434.611563 274.256562)scale(0.1 -0.1)\">\n     <use xlink:href=\"#DejaVuSans-51\"/>\n     <use x=\"63.623047\" xlink:href=\"#DejaVuSans-55\"/>\n     <use x=\"127.246094\" xlink:href=\"#DejaVuSans-57\"/>\n    </g>\n   </g>\n   <g id=\"text_11\">\n    <!-- Confusion Matrix for CNN Predictions -->\n    <defs>\n     <path d=\"M 64.40625 67.28125 \nL 64.40625 56.890625 \nQ 59.421875 61.53125 53.78125 63.8125 \nQ 48.140625 66.109375 41.796875 66.109375 \nQ 29.296875 66.109375 22.65625 58.46875 \nQ 16.015625 50.828125 16.015625 36.375 \nQ 16.015625 21.96875 22.65625 14.328125 \nQ 29.296875 6.6875 41.796875 6.6875 \nQ 48.140625 6.6875 53.78125 8.984375 \nQ 59.421875 11.28125 64.40625 15.921875 \nL 64.40625 5.609375 \nQ 59.234375 2.09375 53.4375 0.328125 \nQ 47.65625 -1.421875 41.21875 -1.421875 \nQ 24.65625 -1.421875 15.125 8.703125 \nQ 5.609375 18.84375 5.609375 36.375 \nQ 5.609375 53.953125 15.125 64.078125 \nQ 24.65625 74.21875 41.21875 74.21875 \nQ 47.75 74.21875 53.53125 72.484375 \nQ 59.328125 70.75 64.40625 67.28125 \nz\n\" id=\"DejaVuSans-67\"/>\n     <path d=\"M 37.109375 75.984375 \nL 37.109375 68.5 \nL 28.515625 68.5 \nQ 23.6875 68.5 21.796875 66.546875 \nQ 19.921875 64.59375 19.921875 59.515625 \nL 19.921875 54.6875 \nL 34.71875 54.6875 \nL 34.71875 47.703125 \nL 19.921875 47.703125 \nL 19.921875 0 \nL 10.890625 0 \nL 10.890625 47.703125 \nL 2.296875 47.703125 \nL 2.296875 54.6875 \nL 10.890625 54.6875 \nL 10.890625 58.5 \nQ 10.890625 67.625 15.140625 71.796875 \nQ 19.390625 75.984375 28.609375 75.984375 \nz\n\" id=\"DejaVuSans-102\"/>\n     <path d=\"M 44.28125 53.078125 \nL 44.28125 44.578125 \nQ 40.484375 46.53125 36.375 47.5 \nQ 32.28125 48.484375 27.875 48.484375 \nQ 21.1875 48.484375 17.84375 46.4375 \nQ 14.5 44.390625 14.5 40.28125 \nQ 14.5 37.15625 16.890625 35.375 \nQ 19.28125 33.59375 26.515625 31.984375 \nL 29.59375 31.296875 \nQ 39.15625 29.25 43.1875 25.515625 \nQ 47.21875 21.78125 47.21875 15.09375 \nQ 47.21875 7.46875 41.1875 3.015625 \nQ 35.15625 -1.421875 24.609375 -1.421875 \nQ 20.21875 -1.421875 15.453125 -0.5625 \nQ 10.6875 0.296875 5.421875 2 \nL 5.421875 11.28125 \nQ 10.40625 8.6875 15.234375 7.390625 \nQ 20.0625 6.109375 24.8125 6.109375 \nQ 31.15625 6.109375 34.5625 8.28125 \nQ 37.984375 10.453125 37.984375 14.40625 \nQ 37.984375 18.0625 35.515625 20.015625 \nQ 33.0625 21.96875 24.703125 23.78125 \nL 21.578125 24.515625 \nQ 13.234375 26.265625 9.515625 29.90625 \nQ 5.8125 33.546875 5.8125 39.890625 \nQ 5.8125 47.609375 11.28125 51.796875 \nQ 16.75 56 26.8125 56 \nQ 31.78125 56 36.171875 55.265625 \nQ 40.578125 54.546875 44.28125 53.078125 \nz\n\" id=\"DejaVuSans-115\"/>\n     <path id=\"DejaVuSans-32\"/>\n     <path d=\"M 9.8125 72.90625 \nL 24.515625 72.90625 \nL 43.109375 23.296875 \nL 61.8125 72.90625 \nL 76.515625 72.90625 \nL 76.515625 0 \nL 66.890625 0 \nL 66.890625 64.015625 \nL 48.09375 14.015625 \nL 38.1875 14.015625 \nL 19.390625 64.015625 \nL 19.390625 0 \nL 9.8125 0 \nz\n\" id=\"DejaVuSans-77\"/>\n     <path d=\"M 54.890625 54.6875 \nL 35.109375 28.078125 \nL 55.90625 0 \nL 45.3125 0 \nL 29.390625 21.484375 \nL 13.484375 0 \nL 2.875 0 \nL 24.125 28.609375 \nL 4.6875 54.6875 \nL 15.28125 54.6875 \nL 29.78125 35.203125 \nL 44.28125 54.6875 \nz\n\" id=\"DejaVuSans-120\"/>\n     <path d=\"M 9.8125 72.90625 \nL 23.09375 72.90625 \nL 55.421875 11.921875 \nL 55.421875 72.90625 \nL 64.984375 72.90625 \nL 64.984375 0 \nL 51.703125 0 \nL 19.390625 60.984375 \nL 19.390625 0 \nL 9.8125 0 \nz\n\" id=\"DejaVuSans-78\"/>\n    </defs>\n    <g transform=\"translate(143.815469 20.877187)scale(0.18 -0.18)\">\n     <use xlink:href=\"#DejaVuSans-67\"/>\n     <use x=\"69.824219\" xlink:href=\"#DejaVuSans-111\"/>\n     <use x=\"131.005859\" xlink:href=\"#DejaVuSans-110\"/>\n     <use x=\"194.384766\" xlink:href=\"#DejaVuSans-102\"/>\n     <use x=\"229.589844\" xlink:href=\"#DejaVuSans-117\"/>\n     <use x=\"292.96875\" xlink:href=\"#DejaVuSans-115\"/>\n     <use x=\"345.068359\" xlink:href=\"#DejaVuSans-105\"/>\n     <use x=\"372.851562\" xlink:href=\"#DejaVuSans-111\"/>\n     <use x=\"434.033203\" xlink:href=\"#DejaVuSans-110\"/>\n     <use x=\"497.412109\" xlink:href=\"#DejaVuSans-32\"/>\n     <use x=\"529.199219\" xlink:href=\"#DejaVuSans-77\"/>\n     <use x=\"615.478516\" xlink:href=\"#DejaVuSans-97\"/>\n     <use x=\"676.757812\" xlink:href=\"#DejaVuSans-116\"/>\n     <use x=\"715.966797\" xlink:href=\"#DejaVuSans-114\"/>\n     <use x=\"757.080078\" xlink:href=\"#DejaVuSans-105\"/>\n     <use x=\"784.863281\" xlink:href=\"#DejaVuSans-120\"/>\n     <use x=\"844.042969\" xlink:href=\"#DejaVuSans-32\"/>\n     <use x=\"875.830078\" xlink:href=\"#DejaVuSans-102\"/>\n     <use x=\"911.035156\" xlink:href=\"#DejaVuSans-111\"/>\n     <use x=\"972.216797\" xlink:href=\"#DejaVuSans-114\"/>\n     <use x=\"1013.330078\" xlink:href=\"#DejaVuSans-32\"/>\n     <use x=\"1045.117188\" xlink:href=\"#DejaVuSans-67\"/>\n     <use x=\"1114.941406\" xlink:href=\"#DejaVuSans-78\"/>\n     <use x=\"1189.746094\" xlink:href=\"#DejaVuSans-78\"/>\n     <use x=\"1264.550781\" xlink:href=\"#DejaVuSans-32\"/>\n     <use x=\"1296.337891\" xlink:href=\"#DejaVuSans-80\"/>\n     <use x=\"1356.625\" xlink:href=\"#DejaVuSans-114\"/>\n     <use x=\"1397.707031\" xlink:href=\"#DejaVuSans-101\"/>\n     <use x=\"1459.230469\" xlink:href=\"#DejaVuSans-100\"/>\n     <use x=\"1522.707031\" xlink:href=\"#DejaVuSans-105\"/>\n     <use x=\"1550.490234\" xlink:href=\"#DejaVuSans-99\"/>\n     <use x=\"1605.470703\" xlink:href=\"#DejaVuSans-116\"/>\n     <use x=\"1644.679688\" xlink:href=\"#DejaVuSans-105\"/>\n     <use x=\"1672.462891\" xlink:href=\"#DejaVuSans-111\"/>\n     <use x=\"1733.644531\" xlink:href=\"#DejaVuSans-110\"/>\n     <use x=\"1797.023438\" xlink:href=\"#DejaVuSans-115\"/>\n    </g>\n   </g>\n  </g>\n  <g id=\"axes_2\">\n   <g id=\"patch_3\">\n    <path clip-path=\"url(#p944a256584)\" d=\"M 611.555313 353.037187 \nL 611.555313 351.763125 \nL 611.555313 28.15125 \nL 611.555313 26.877187 \nL 627.863313 26.877187 \nL 627.863313 28.15125 \nL 627.863313 351.763125 \nL 627.863313 353.037187 \nz\n\" style=\"fill:#ffffff;stroke:#ffffff;stroke-linejoin:miter;stroke-width:0.01;\"/>\n   </g>\n   <image height=\"327\" id=\"image465433d1cf\" transform=\"scale(1 -1)translate(0 -327)\" width=\"16\" x=\"612\" xlink:href=\"data:image/png;base64,\niVBORw0KGgoAAAANSUhEUgAAABAAAAFHCAYAAACoD8yaAAAABHNCSVQICAgIfAhkiAAAAXNJREFUeJztm0EOwkAMAw3a/3+XA1LLhR9MJLuRuTckE8ebtvD6fO9b4HPY5dK5xSK82fdLByagA6/nEDkD2oVCnIAYUII/AzdErMQIRyrEQgzwgyM3xAlHogHsSqSzUIiF+M+g23ohBkAMWDQLsRBViFLEolmIhagJiBekWEeSzmVXYiHugEgZXAsYuEvYAZEGoOfC5c6gEGccyT2NuAt0xamQIiyNb6r4XLALie9IPRs5xAQlsgAB58JAF1iAgE01YJxraQEMBlyZBnBbWoSQ3OMcYGkBi+bzp9E9TIWYcNO1wdL8tu53ZQ6RJbDi3nmBEp8PMcGR3M8PVkC0K3HBPZMdYsDZmACxQrJnUIidxpEMCrEMRjIYWLLgllWICSVsmEb+K9ENS5a5BH8XCnEHA3uAhD9EuRkUYgQDewn+LmyAaO/CBoiyC0k3e/uOS/BnEAHx6V2YgFgh2UvwZ5AAkT4GsvtBpzFDSIXoL6HDNFDCD6bjG0oQZCHjAAAAAElFTkSuQmCC\" y=\"-26\"/>\n   <g id=\"matplotlib.axis_3\"/>\n   <g id=\"matplotlib.axis_4\">\n    <g id=\"ytick_3\">\n     <g id=\"line2d_5\">\n      <defs>\n       <path d=\"M 0 0 \nL 3.5 0 \n\" id=\"m4bd756cea9\" style=\"stroke:#000000;stroke-width:0.8;\"/>\n      </defs>\n      <g>\n       <use style=\"stroke:#000000;stroke-width:0.8;\" x=\"627.863313\" xlink:href=\"#m4bd756cea9\" y=\"318.471318\"/>\n      </g>\n     </g>\n     <g id=\"text_12\">\n      <!-- 50 -->\n      <defs>\n       <path d=\"M 10.796875 72.90625 \nL 49.515625 72.90625 \nL 49.515625 64.59375 \nL 19.828125 64.59375 \nL 19.828125 46.734375 \nQ 21.96875 47.46875 24.109375 47.828125 \nQ 26.265625 48.1875 28.421875 48.1875 \nQ 40.625 48.1875 47.75 41.5 \nQ 54.890625 34.8125 54.890625 23.390625 \nQ 54.890625 11.625 47.5625 5.09375 \nQ 40.234375 -1.421875 26.90625 -1.421875 \nQ 22.3125 -1.421875 17.546875 -0.640625 \nQ 12.796875 0.140625 7.71875 1.703125 \nL 7.71875 11.625 \nQ 12.109375 9.234375 16.796875 8.0625 \nQ 21.484375 6.890625 26.703125 6.890625 \nQ 35.15625 6.890625 40.078125 11.328125 \nQ 45.015625 15.765625 45.015625 23.390625 \nQ 45.015625 31 40.078125 35.4375 \nQ 35.15625 39.890625 26.703125 39.890625 \nQ 22.75 39.890625 18.8125 39.015625 \nQ 14.890625 38.140625 10.796875 36.28125 \nz\n\" id=\"DejaVuSans-53\"/>\n      </defs>\n      <g transform=\"translate(634.863313 322.270537)scale(0.1 -0.1)\">\n       <use xlink:href=\"#DejaVuSans-53\"/>\n       <use x=\"63.623047\" xlink:href=\"#DejaVuSans-48\"/>\n      </g>\n     </g>\n    </g>\n    <g id=\"ytick_4\">\n     <g id=\"line2d_6\">\n      <g>\n       <use style=\"stroke:#000000;stroke-width:0.8;\" x=\"627.863313\" xlink:href=\"#m4bd756cea9\" y=\"274.156101\"/>\n      </g>\n     </g>\n     <g id=\"text_13\">\n      <!-- 100 -->\n      <g transform=\"translate(634.863313 277.955319)scale(0.1 -0.1)\">\n       <use xlink:href=\"#DejaVuSans-49\"/>\n       <use x=\"63.623047\" xlink:href=\"#DejaVuSans-48\"/>\n       <use x=\"127.246094\" xlink:href=\"#DejaVuSans-48\"/>\n      </g>\n     </g>\n    </g>\n    <g id=\"ytick_5\">\n     <g id=\"line2d_7\">\n      <g>\n       <use style=\"stroke:#000000;stroke-width:0.8;\" x=\"627.863313\" xlink:href=\"#m4bd756cea9\" y=\"229.840883\"/>\n      </g>\n     </g>\n     <g id=\"text_14\">\n      <!-- 150 -->\n      <g transform=\"translate(634.863313 233.640102)scale(0.1 -0.1)\">\n       <use xlink:href=\"#DejaVuSans-49\"/>\n       <use x=\"63.623047\" xlink:href=\"#DejaVuSans-53\"/>\n       <use x=\"127.246094\" xlink:href=\"#DejaVuSans-48\"/>\n      </g>\n     </g>\n    </g>\n    <g id=\"ytick_6\">\n     <g id=\"line2d_8\">\n      <g>\n       <use style=\"stroke:#000000;stroke-width:0.8;\" x=\"627.863313\" xlink:href=\"#m4bd756cea9\" y=\"185.525666\"/>\n      </g>\n     </g>\n     <g id=\"text_15\">\n      <!-- 200 -->\n      <defs>\n       <path d=\"M 19.1875 8.296875 \nL 53.609375 8.296875 \nL 53.609375 0 \nL 7.328125 0 \nL 7.328125 8.296875 \nQ 12.9375 14.109375 22.625 23.890625 \nQ 32.328125 33.6875 34.8125 36.53125 \nQ 39.546875 41.84375 41.421875 45.53125 \nQ 43.3125 49.21875 43.3125 52.78125 \nQ 43.3125 58.59375 39.234375 62.25 \nQ 35.15625 65.921875 28.609375 65.921875 \nQ 23.96875 65.921875 18.8125 64.3125 \nQ 13.671875 62.703125 7.8125 59.421875 \nL 7.8125 69.390625 \nQ 13.765625 71.78125 18.9375 73 \nQ 24.125 74.21875 28.421875 74.21875 \nQ 39.75 74.21875 46.484375 68.546875 \nQ 53.21875 62.890625 53.21875 53.421875 \nQ 53.21875 48.921875 51.53125 44.890625 \nQ 49.859375 40.875 45.40625 35.40625 \nQ 44.1875 33.984375 37.640625 27.21875 \nQ 31.109375 20.453125 19.1875 8.296875 \nz\n\" id=\"DejaVuSans-50\"/>\n      </defs>\n      <g transform=\"translate(634.863313 189.324885)scale(0.1 -0.1)\">\n       <use xlink:href=\"#DejaVuSans-50\"/>\n       <use x=\"63.623047\" xlink:href=\"#DejaVuSans-48\"/>\n       <use x=\"127.246094\" xlink:href=\"#DejaVuSans-48\"/>\n      </g>\n     </g>\n    </g>\n    <g id=\"ytick_7\">\n     <g id=\"line2d_9\">\n      <g>\n       <use style=\"stroke:#000000;stroke-width:0.8;\" x=\"627.863313\" xlink:href=\"#m4bd756cea9\" y=\"141.210448\"/>\n      </g>\n     </g>\n     <g id=\"text_16\">\n      <!-- 250 -->\n      <g transform=\"translate(634.863313 145.009667)scale(0.1 -0.1)\">\n       <use xlink:href=\"#DejaVuSans-50\"/>\n       <use x=\"63.623047\" xlink:href=\"#DejaVuSans-53\"/>\n       <use x=\"127.246094\" xlink:href=\"#DejaVuSans-48\"/>\n      </g>\n     </g>\n    </g>\n    <g id=\"ytick_8\">\n     <g id=\"line2d_10\">\n      <g>\n       <use style=\"stroke:#000000;stroke-width:0.8;\" x=\"627.863313\" xlink:href=\"#m4bd756cea9\" y=\"96.895231\"/>\n      </g>\n     </g>\n     <g id=\"text_17\">\n      <!-- 300 -->\n      <g transform=\"translate(634.863313 100.69445)scale(0.1 -0.1)\">\n       <use xlink:href=\"#DejaVuSans-51\"/>\n       <use x=\"63.623047\" xlink:href=\"#DejaVuSans-48\"/>\n       <use x=\"127.246094\" xlink:href=\"#DejaVuSans-48\"/>\n      </g>\n     </g>\n    </g>\n    <g id=\"ytick_9\">\n     <g id=\"line2d_11\">\n      <g>\n       <use style=\"stroke:#000000;stroke-width:0.8;\" x=\"627.863313\" xlink:href=\"#m4bd756cea9\" y=\"52.580014\"/>\n      </g>\n     </g>\n     <g id=\"text_18\">\n      <!-- 350 -->\n      <g transform=\"translate(634.863313 56.379232)scale(0.1 -0.1)\">\n       <use xlink:href=\"#DejaVuSans-51\"/>\n       <use x=\"63.623047\" xlink:href=\"#DejaVuSans-53\"/>\n       <use x=\"127.246094\" xlink:href=\"#DejaVuSans-48\"/>\n      </g>\n     </g>\n    </g>\n   </g>\n   <g id=\"patch_4\">\n    <path d=\"M 611.555313 353.037187 \nL 611.555313 351.763125 \nL 611.555313 28.15125 \nL 611.555313 26.877187 \nL 627.863313 26.877187 \nL 627.863313 28.15125 \nL 627.863313 351.763125 \nL 627.863313 353.037187 \nz\n\" style=\"fill:none;\"/>\n   </g>\n  </g>\n </g>\n <defs>\n  <clipPath id=\"p7bef68ddbc\">\n   <rect height=\"326.16\" width=\"535.68\" x=\"42.395313\" y=\"26.877187\"/>\n  </clipPath>\n  <clipPath id=\"p944a256584\">\n   <rect height=\"326.16\" width=\"16.308\" x=\"611.555313\" y=\"26.877187\"/>\n  </clipPath>\n </defs>\n</svg>\n",
      "image/png": "[encoded data removed]"
     },
     "metadata": {
      "needs_background": "light"
     }
    }
   ],
   "source": [
    "# Generating a confusion matrix from the model predictions\n",
    "\n",
    "predictions = get_labels(cnn, X_test, 0.5)\n",
    "graphs.plot_cmatrix(y_test, predictions)"
   ]
  },
  {
   "source": [
    "## Creating a more optimized model\n",
    "\n",
    "#### Next, we created a much more complex model. We expanded our metrics from just Accuracy to adding AUC and Recall. We changed our optimizer to Adam in order to reduce improve our learning rate. We created overlaps in our pools, added regularization layers and increased the number of graduated dense layers. We also calculated the inverse class frequency to further compensate for our class imbalance."
   ],
   "cell_type": "markdown",
   "metadata": {}
  },
  {
   "cell_type": "code",
   "execution_count": 7,
   "metadata": {},
   "outputs": [],
   "source": [
    "# calculate inverse \n",
    "pnue_frequency = sum(y_train)/len(y_train)\n",
    "inv_pnue_frequency = 1/pnue_frequency\n",
    "normal_frequency = (len(y_train)-sum(y_train))/len(y_train)\n",
    "inv_normal_frequency = 1/normal_frequency\n",
    "weights = {\n",
    "    0: inv_normal_frequency,\n",
    "    1: inv_pnue_frequency\n",
    "    }"
   ]
  },
  {
   "cell_type": "code",
   "execution_count": 8,
   "metadata": {},
   "outputs": [
    {
     "output_type": "stream",
     "name": "stdout",
     "text": [
      "Epoch 1/20\n",
      "105/105 [==============================] - 441s 4s/step - loss: 1.3880 - acc: 0.4306 - recall: 0.3737 - auc: 0.4917 - val_loss: 0.6931 - val_acc: 0.5000 - val_recall: 1.0000 - val_auc: 0.5000\n",
      "Epoch 2/20\n",
      "105/105 [==============================] - 432s 4s/step - loss: 1.3865 - acc: 0.7373 - recall: 0.9866 - auc: 0.4908 - val_loss: 0.6931 - val_acc: 0.5000 - val_recall: 1.0000 - val_auc: 0.5000\n",
      "Epoch 3/20\n",
      "105/105 [==============================] - 402s 4s/step - loss: 1.3865 - acc: 0.3117 - recall: 0.1159 - auc: 0.4950 - val_loss: 0.6931 - val_acc: 0.5000 - val_recall: 0.0000e+00 - val_auc: 0.5000\n",
      "Epoch 4/20\n",
      "105/105 [==============================] - 403s 4s/step - loss: 1.3864 - acc: 0.5817 - recall: 0.6684 - auc: 0.4976 - val_loss: 0.6932 - val_acc: 0.5000 - val_recall: 0.0000e+00 - val_auc: 0.5000\n",
      "Epoch 5/20\n",
      "105/105 [==============================] - 405s 4s/step - loss: 1.3880 - acc: 0.3869 - recall: 0.2686 - auc: 0.5234 - val_loss: 0.6587 - val_acc: 0.6875 - val_recall: 0.5000 - val_auc: 0.8594\n",
      "Epoch 6/20\n",
      "105/105 [==============================] - 402s 4s/step - loss: 0.9902 - acc: 0.7985 - recall: 0.7876 - auc: 0.8712 - val_loss: 0.2806 - val_acc: 0.8750 - val_recall: 0.7500 - val_auc: 0.9688\n",
      "Epoch 7/20\n",
      "105/105 [==============================] - 446s 4s/step - loss: 0.5680 - acc: 0.9124 - recall: 0.9156 - auc: 0.9565 - val_loss: 0.2780 - val_acc: 0.8750 - val_recall: 0.7500 - val_auc: 0.9844\n",
      "Epoch 8/20\n",
      "105/105 [==============================] - 418s 4s/step - loss: 0.3896 - acc: 0.9340 - recall: 0.9326 - auc: 0.9776 - val_loss: 0.2724 - val_acc: 0.9375 - val_recall: 1.0000 - val_auc: 0.9766\n",
      "Epoch 9/20\n",
      "105/105 [==============================] - 415s 4s/step - loss: 0.3449 - acc: 0.9388 - recall: 0.9357 - auc: 0.9815 - val_loss: 0.2832 - val_acc: 0.9375 - val_recall: 1.0000 - val_auc: 0.9531\n",
      "Epoch 10/20\n",
      "105/105 [==============================] - 418s 4s/step - loss: 0.2732 - acc: 0.9528 - recall: 0.9520 - auc: 0.9880 - val_loss: 0.1668 - val_acc: 0.9375 - val_recall: 1.0000 - val_auc: 1.0000\n",
      "Epoch 11/20\n",
      "105/105 [==============================] - 419s 4s/step - loss: 0.2794 - acc: 0.9467 - recall: 0.9422 - auc: 0.9874 - val_loss: 0.2306 - val_acc: 0.9375 - val_recall: 1.0000 - val_auc: 0.9844\n",
      "Epoch 12/20\n",
      "105/105 [==============================] - 419s 4s/step - loss: 0.2212 - acc: 0.9588 - recall: 0.9559 - auc: 0.9913 - val_loss: 0.1289 - val_acc: 0.9375 - val_recall: 1.0000 - val_auc: 1.0000\n",
      "Epoch 13/20\n",
      "105/105 [==============================] - 418s 4s/step - loss: 0.1940 - acc: 0.9622 - recall: 0.9587 - auc: 0.9935 - val_loss: 0.1107 - val_acc: 1.0000 - val_recall: 1.0000 - val_auc: 1.0000\n",
      "Epoch 14/20\n",
      "105/105 [==============================] - 420s 4s/step - loss: 0.1827 - acc: 0.9659 - recall: 0.9628 - auc: 0.9939 - val_loss: 0.3077 - val_acc: 0.8125 - val_recall: 1.0000 - val_auc: 1.0000\n",
      "Epoch 15/20\n",
      "105/105 [==============================] - 418s 4s/step - loss: 0.1660 - acc: 0.9705 - recall: 0.9708 - auc: 0.9950 - val_loss: 0.0920 - val_acc: 1.0000 - val_recall: 1.0000 - val_auc: 1.0000\n",
      "Epoch 16/20\n",
      "105/105 [==============================] - 416s 4s/step - loss: 0.1488 - acc: 0.9716 - recall: 0.9698 - auc: 0.9958 - val_loss: 0.1112 - val_acc: 1.0000 - val_recall: 1.0000 - val_auc: 1.0000\n",
      "Epoch 17/20\n",
      "105/105 [==============================] - 418s 4s/step - loss: 0.1698 - acc: 0.9657 - recall: 0.9631 - auc: 0.9952 - val_loss: 0.0913 - val_acc: 1.0000 - val_recall: 1.0000 - val_auc: 1.0000\n",
      "Epoch 18/20\n",
      "105/105 [==============================] - 419s 4s/step - loss: 0.1471 - acc: 0.9718 - recall: 0.9685 - auc: 0.9956 - val_loss: 0.3157 - val_acc: 0.8125 - val_recall: 1.0000 - val_auc: 1.0000\n",
      "Epoch 19/20\n",
      "105/105 [==============================] - 423s 4s/step - loss: 0.1452 - acc: 0.9739 - recall: 0.9726 - auc: 0.9962 - val_loss: 0.5144 - val_acc: 0.8125 - val_recall: 1.0000 - val_auc: 0.9297\n",
      "Epoch 20/20\n",
      "105/105 [==============================] - 429s 4s/step - loss: 0.1218 - acc: 0.9772 - recall: 0.9765 - auc: 0.9972 - val_loss: 0.1073 - val_acc: 0.9375 - val_recall: 1.0000 - val_auc: 1.0000\n"
     ]
    }
   ],
   "source": [
    "# Setting an early stop feature\n",
    "callback = tf.keras.callbacks.EarlyStopping(monitor='loss', patience=3)\n",
    "\n",
    "rms = tf.keras.optimizers.RMSprop(learning_rate=0.1)\n",
    "\n",
    "cnn2 = models.Sequential()\n",
    "# Input convolution layers\n",
    "cnn2.add(layers.Conv2D(64, (3, 3), activation='relu', input_shape=(224, 224,  3)))\n",
    "cnn2.add(layers.Conv2D(64, (3, 3), activation='relu'))\n",
    "\n",
    "# Overlapped pooling\n",
    "cnn2.add(layers.MaxPooling2D((2, 3)))\n",
    "\n",
    "# First hidden convolution layers and pool\n",
    "cnn2.add(layers.Conv2D(32, (3, 3), activation='relu'))\n",
    "cnn2.add(layers.Conv2D(32, (3, 3), activation='relu'))\n",
    "cnn2.add(layers.MaxPooling2D((2, 3)))\n",
    "\n",
    "# Second hidden convolution layers and pools\n",
    "cnn2.add(layers.Conv2D(16, (6, 6), activation='relu'))\n",
    "cnn2.add(layers.Conv2D(16, (3, 3), activation='relu'))\n",
    "cnn2.add(layers.MaxPooling2D((2, 3)))\n",
    "\n",
    "# Flatten layer\n",
    "cnn2.add(layers.Flatten())\n",
    "\n",
    "# 3 Graduated densely connected layers with graduated regularization\n",
    "cnn2.add(layers.Dense(64, activation='relu'))\n",
    "cnn2.add(layers.Dropout(.5))\n",
    "cnn2.add(layers.Dense(32, activation='relu'))\n",
    "cnn2.add(layers.Dropout(.3))\n",
    "cnn2.add(layers.Dense(16, activation='relu'))\n",
    "cnn2.add(layers.Dropout(.1))\n",
    "\n",
    "# Output layer\n",
    "cnn2.add(layers.Dense(1, activation='sigmoid'))\n",
    "cnn2.compile(loss='binary_crossentropy',\n",
    "              optimizer= 'Adam',\n",
    "              metrics=['acc', 'Recall', 'AUC'])\n",
    "\n",
    "# Fitting the model with our additional class weight parameter\n",
    "cnn3 = cnn2.fit(X_train, y_train,\n",
    "               epochs=20,\n",
    "               batch_size=50,\n",
    "               validation_data = (X_val, y_val), \n",
    "               class_weight=weights,\n",
    "               verbose=True,\n",
    "               callbacks = callback)"
   ]
  },
  {
   "cell_type": "code",
   "execution_count": 9,
   "metadata": {},
   "outputs": [
    {
     "output_type": "stream",
     "name": "stdout",
     "text": [
      "20/20 [==============================] - 12s 593ms/step - loss: 1.2493 - acc: 0.7885 - recall: 0.9821 - auc: 0.8473\n"
     ]
    }
   ],
   "source": [
    "#evaluating the model on the test set\n",
    "\n",
    "results_test2 = cnn2.evaluate(X_test, y_test)"
   ]
  },
  {
   "cell_type": "code",
   "execution_count": 12,
   "metadata": {},
   "outputs": [
    {
     "output_type": "display_data",
     "data": {
      "text/plain": "<Figure size 1080x864 with 4 Axes>",
      "image/svg+xml": "<?xml version=\"1.0\" encoding=\"utf-8\" standalone=\"no\"?>\n<!DOCTYPE svg PUBLIC \"-//W3C//DTD SVG 1.1//EN\"\n  \"http://www.w3.org/Graphics/SVG/1.1/DTD/svg11.dtd\">\n<!-- Created with matplotlib (https://matplotlib.org/) -->\n<svg height=\"712.194375pt\" version=\"1.1\" viewBox=\"0 0 887.98125 712.194375\" width=\"887.98125pt\" xmlns=\"http://www.w3.org/2000/svg\" xmlns:xlink=\"http://www.w3.org/1999/xlink\">\n <defs>\n  <style type=\"text/css\">\n*{stroke-linecap:butt;stroke-linejoin:round;}\n  </style>\n </defs>\n <g id=\"figure_1\">\n  <g id=\"patch_1\">\n   <path d=\"M 0 712.194375 \nL 887.98125 712.194375 \nL 887.98125 0 \nL 0 0 \nz\n\" style=\"fill:none;\"/>\n  </g>\n  <g id=\"axes_1\">\n   <g id=\"patch_2\">\n    <path d=\"M 43.78125 318.827216 \nL 424.235795 318.827216 \nL 424.235795 22.318125 \nL 43.78125 22.318125 \nz\n\" style=\"fill:#ffffff;\"/>\n   </g>\n   <g id=\"matplotlib.axis_1\">\n    <g id=\"xtick_1\">\n     <g id=\"line2d_1\">\n      <defs>\n       <path d=\"M 0 0 \nL 0 3.5 \n\" id=\"me6cb09feda\" style=\"stroke:#000000;stroke-width:0.8;\"/>\n      </defs>\n      <g>\n       <use style=\"stroke:#000000;stroke-width:0.8;\" x=\"87.679851\" xlink:href=\"#me6cb09feda\" y=\"318.827216\"/>\n      </g>\n     </g>\n     <g id=\"text_1\">\n      <!-- 2 -->\n      <defs>\n       <path d=\"M 19.1875 8.296875 \nL 53.609375 8.296875 \nL 53.609375 0 \nL 7.328125 0 \nL 7.328125 8.296875 \nQ 12.9375 14.109375 22.625 23.890625 \nQ 32.328125 33.6875 34.8125 36.53125 \nQ 39.546875 41.84375 41.421875 45.53125 \nQ 43.3125 49.21875 43.3125 52.78125 \nQ 43.3125 58.59375 39.234375 62.25 \nQ 35.15625 65.921875 28.609375 65.921875 \nQ 23.96875 65.921875 18.8125 64.3125 \nQ 13.671875 62.703125 7.8125 59.421875 \nL 7.8125 69.390625 \nQ 13.765625 71.78125 18.9375 73 \nQ 24.125 74.21875 28.421875 74.21875 \nQ 39.75 74.21875 46.484375 68.546875 \nQ 53.21875 62.890625 53.21875 53.421875 \nQ 53.21875 48.921875 51.53125 44.890625 \nQ 49.859375 40.875 45.40625 35.40625 \nQ 44.1875 33.984375 37.640625 27.21875 \nQ 31.109375 20.453125 19.1875 8.296875 \nz\n\" id=\"DejaVuSans-50\"/>\n      </defs>\n      <g transform=\"translate(84.498601 333.425653)scale(0.1 -0.1)\">\n       <use xlink:href=\"#DejaVuSans-50\"/>\n      </g>\n     </g>\n    </g>\n    <g id=\"xtick_2\">\n     <g id=\"line2d_2\">\n      <g>\n       <use style=\"stroke:#000000;stroke-width:0.8;\" x=\"140.890277\" xlink:href=\"#me6cb09feda\" y=\"318.827216\"/>\n      </g>\n     </g>\n     <g id=\"text_2\">\n      <!-- 4 -->\n      <defs>\n       <path d=\"M 37.796875 64.3125 \nL 12.890625 25.390625 \nL 37.796875 25.390625 \nz\nM 35.203125 72.90625 \nL 47.609375 72.90625 \nL 47.609375 25.390625 \nL 58.015625 25.390625 \nL 58.015625 17.1875 \nL 47.609375 17.1875 \nL 47.609375 0 \nL 37.796875 0 \nL 37.796875 17.1875 \nL 4.890625 17.1875 \nL 4.890625 26.703125 \nz\n\" id=\"DejaVuSans-52\"/>\n      </defs>\n      <g transform=\"translate(137.709027 333.425653)scale(0.1 -0.1)\">\n       <use xlink:href=\"#DejaVuSans-52\"/>\n      </g>\n     </g>\n    </g>\n    <g id=\"xtick_3\">\n     <g id=\"line2d_3\">\n      <g>\n       <use style=\"stroke:#000000;stroke-width:0.8;\" x=\"194.100703\" xlink:href=\"#me6cb09feda\" y=\"318.827216\"/>\n      </g>\n     </g>\n     <g id=\"text_3\">\n      <!-- 6 -->\n      <defs>\n       <path d=\"M 33.015625 40.375 \nQ 26.375 40.375 22.484375 35.828125 \nQ 18.609375 31.296875 18.609375 23.390625 \nQ 18.609375 15.53125 22.484375 10.953125 \nQ 26.375 6.390625 33.015625 6.390625 \nQ 39.65625 6.390625 43.53125 10.953125 \nQ 47.40625 15.53125 47.40625 23.390625 \nQ 47.40625 31.296875 43.53125 35.828125 \nQ 39.65625 40.375 33.015625 40.375 \nz\nM 52.59375 71.296875 \nL 52.59375 62.3125 \nQ 48.875 64.0625 45.09375 64.984375 \nQ 41.3125 65.921875 37.59375 65.921875 \nQ 27.828125 65.921875 22.671875 59.328125 \nQ 17.53125 52.734375 16.796875 39.40625 \nQ 19.671875 43.65625 24.015625 45.921875 \nQ 28.375 48.1875 33.59375 48.1875 \nQ 44.578125 48.1875 50.953125 41.515625 \nQ 57.328125 34.859375 57.328125 23.390625 \nQ 57.328125 12.15625 50.6875 5.359375 \nQ 44.046875 -1.421875 33.015625 -1.421875 \nQ 20.359375 -1.421875 13.671875 8.265625 \nQ 6.984375 17.96875 6.984375 36.375 \nQ 6.984375 53.65625 15.1875 63.9375 \nQ 23.390625 74.21875 37.203125 74.21875 \nQ 40.921875 74.21875 44.703125 73.484375 \nQ 48.484375 72.75 52.59375 71.296875 \nz\n\" id=\"DejaVuSans-54\"/>\n      </defs>\n      <g transform=\"translate(190.919453 333.425653)scale(0.1 -0.1)\">\n       <use xlink:href=\"#DejaVuSans-54\"/>\n      </g>\n     </g>\n    </g>\n    <g id=\"xtick_4\">\n     <g id=\"line2d_4\">\n      <g>\n       <use style=\"stroke:#000000;stroke-width:0.8;\" x=\"247.311129\" xlink:href=\"#me6cb09feda\" y=\"318.827216\"/>\n      </g>\n     </g>\n     <g id=\"text_4\">\n      <!-- 8 -->\n      <defs>\n       <path d=\"M 31.78125 34.625 \nQ 24.75 34.625 20.71875 30.859375 \nQ 16.703125 27.09375 16.703125 20.515625 \nQ 16.703125 13.921875 20.71875 10.15625 \nQ 24.75 6.390625 31.78125 6.390625 \nQ 38.8125 6.390625 42.859375 10.171875 \nQ 46.921875 13.96875 46.921875 20.515625 \nQ 46.921875 27.09375 42.890625 30.859375 \nQ 38.875 34.625 31.78125 34.625 \nz\nM 21.921875 38.8125 \nQ 15.578125 40.375 12.03125 44.71875 \nQ 8.5 49.078125 8.5 55.328125 \nQ 8.5 64.0625 14.71875 69.140625 \nQ 20.953125 74.21875 31.78125 74.21875 \nQ 42.671875 74.21875 48.875 69.140625 \nQ 55.078125 64.0625 55.078125 55.328125 \nQ 55.078125 49.078125 51.53125 44.71875 \nQ 48 40.375 41.703125 38.8125 \nQ 48.828125 37.15625 52.796875 32.3125 \nQ 56.78125 27.484375 56.78125 20.515625 \nQ 56.78125 9.90625 50.3125 4.234375 \nQ 43.84375 -1.421875 31.78125 -1.421875 \nQ 19.734375 -1.421875 13.25 4.234375 \nQ 6.78125 9.90625 6.78125 20.515625 \nQ 6.78125 27.484375 10.78125 32.3125 \nQ 14.796875 37.15625 21.921875 38.8125 \nz\nM 18.3125 54.390625 \nQ 18.3125 48.734375 21.84375 45.5625 \nQ 25.390625 42.390625 31.78125 42.390625 \nQ 38.140625 42.390625 41.71875 45.5625 \nQ 45.3125 48.734375 45.3125 54.390625 \nQ 45.3125 60.0625 41.71875 63.234375 \nQ 38.140625 66.40625 31.78125 66.40625 \nQ 25.390625 66.40625 21.84375 63.234375 \nQ 18.3125 60.0625 18.3125 54.390625 \nz\n\" id=\"DejaVuSans-56\"/>\n      </defs>\n      <g transform=\"translate(244.129879 333.425653)scale(0.1 -0.1)\">\n       <use xlink:href=\"#DejaVuSans-56\"/>\n      </g>\n     </g>\n    </g>\n    <g id=\"xtick_5\">\n     <g id=\"line2d_5\">\n      <g>\n       <use style=\"stroke:#000000;stroke-width:0.8;\" x=\"300.521555\" xlink:href=\"#me6cb09feda\" y=\"318.827216\"/>\n      </g>\n     </g>\n     <g id=\"text_5\">\n      <!-- 10 -->\n      <defs>\n       <path d=\"M 12.40625 8.296875 \nL 28.515625 8.296875 \nL 28.515625 63.921875 \nL 10.984375 60.40625 \nL 10.984375 69.390625 \nL 28.421875 72.90625 \nL 38.28125 72.90625 \nL 38.28125 8.296875 \nL 54.390625 8.296875 \nL 54.390625 0 \nL 12.40625 0 \nz\n\" id=\"DejaVuSans-49\"/>\n       <path d=\"M 31.78125 66.40625 \nQ 24.171875 66.40625 20.328125 58.90625 \nQ 16.5 51.421875 16.5 36.375 \nQ 16.5 21.390625 20.328125 13.890625 \nQ 24.171875 6.390625 31.78125 6.390625 \nQ 39.453125 6.390625 43.28125 13.890625 \nQ 47.125 21.390625 47.125 36.375 \nQ 47.125 51.421875 43.28125 58.90625 \nQ 39.453125 66.40625 31.78125 66.40625 \nz\nM 31.78125 74.21875 \nQ 44.046875 74.21875 50.515625 64.515625 \nQ 56.984375 54.828125 56.984375 36.375 \nQ 56.984375 17.96875 50.515625 8.265625 \nQ 44.046875 -1.421875 31.78125 -1.421875 \nQ 19.53125 -1.421875 13.0625 8.265625 \nQ 6.59375 17.96875 6.59375 36.375 \nQ 6.59375 54.828125 13.0625 64.515625 \nQ 19.53125 74.21875 31.78125 74.21875 \nz\n\" id=\"DejaVuSans-48\"/>\n      </defs>\n      <g transform=\"translate(294.159055 333.425653)scale(0.1 -0.1)\">\n       <use xlink:href=\"#DejaVuSans-49\"/>\n       <use x=\"63.623047\" xlink:href=\"#DejaVuSans-48\"/>\n      </g>\n     </g>\n    </g>\n    <g id=\"xtick_6\">\n     <g id=\"line2d_6\">\n      <g>\n       <use style=\"stroke:#000000;stroke-width:0.8;\" x=\"353.731981\" xlink:href=\"#me6cb09feda\" y=\"318.827216\"/>\n      </g>\n     </g>\n     <g id=\"text_6\">\n      <!-- 12 -->\n      <g transform=\"translate(347.369481 333.425653)scale(0.1 -0.1)\">\n       <use xlink:href=\"#DejaVuSans-49\"/>\n       <use x=\"63.623047\" xlink:href=\"#DejaVuSans-50\"/>\n      </g>\n     </g>\n    </g>\n    <g id=\"xtick_7\">\n     <g id=\"line2d_7\">\n      <g>\n       <use style=\"stroke:#000000;stroke-width:0.8;\" x=\"406.942407\" xlink:href=\"#me6cb09feda\" y=\"318.827216\"/>\n      </g>\n     </g>\n     <g id=\"text_7\">\n      <!-- 14 -->\n      <g transform=\"translate(400.579907 333.425653)scale(0.1 -0.1)\">\n       <use xlink:href=\"#DejaVuSans-49\"/>\n       <use x=\"63.623047\" xlink:href=\"#DejaVuSans-52\"/>\n      </g>\n     </g>\n    </g>\n    <g id=\"text_8\">\n     <!-- Epochs -->\n     <defs>\n      <path d=\"M 9.8125 72.90625 \nL 55.90625 72.90625 \nL 55.90625 64.59375 \nL 19.671875 64.59375 \nL 19.671875 43.015625 \nL 54.390625 43.015625 \nL 54.390625 34.71875 \nL 19.671875 34.71875 \nL 19.671875 8.296875 \nL 56.78125 8.296875 \nL 56.78125 0 \nL 9.8125 0 \nz\n\" id=\"DejaVuSans-69\"/>\n      <path d=\"M 18.109375 8.203125 \nL 18.109375 -20.796875 \nL 9.078125 -20.796875 \nL 9.078125 54.6875 \nL 18.109375 54.6875 \nL 18.109375 46.390625 \nQ 20.953125 51.265625 25.265625 53.625 \nQ 29.59375 56 35.59375 56 \nQ 45.5625 56 51.78125 48.09375 \nQ 58.015625 40.1875 58.015625 27.296875 \nQ 58.015625 14.40625 51.78125 6.484375 \nQ 45.5625 -1.421875 35.59375 -1.421875 \nQ 29.59375 -1.421875 25.265625 0.953125 \nQ 20.953125 3.328125 18.109375 8.203125 \nz\nM 48.6875 27.296875 \nQ 48.6875 37.203125 44.609375 42.84375 \nQ 40.53125 48.484375 33.40625 48.484375 \nQ 26.265625 48.484375 22.1875 42.84375 \nQ 18.109375 37.203125 18.109375 27.296875 \nQ 18.109375 17.390625 22.1875 11.75 \nQ 26.265625 6.109375 33.40625 6.109375 \nQ 40.53125 6.109375 44.609375 11.75 \nQ 48.6875 17.390625 48.6875 27.296875 \nz\n\" id=\"DejaVuSans-112\"/>\n      <path d=\"M 30.609375 48.390625 \nQ 23.390625 48.390625 19.1875 42.75 \nQ 14.984375 37.109375 14.984375 27.296875 \nQ 14.984375 17.484375 19.15625 11.84375 \nQ 23.34375 6.203125 30.609375 6.203125 \nQ 37.796875 6.203125 41.984375 11.859375 \nQ 46.1875 17.53125 46.1875 27.296875 \nQ 46.1875 37.015625 41.984375 42.703125 \nQ 37.796875 48.390625 30.609375 48.390625 \nz\nM 30.609375 56 \nQ 42.328125 56 49.015625 48.375 \nQ 55.71875 40.765625 55.71875 27.296875 \nQ 55.71875 13.875 49.015625 6.21875 \nQ 42.328125 -1.421875 30.609375 -1.421875 \nQ 18.84375 -1.421875 12.171875 6.21875 \nQ 5.515625 13.875 5.515625 27.296875 \nQ 5.515625 40.765625 12.171875 48.375 \nQ 18.84375 56 30.609375 56 \nz\n\" id=\"DejaVuSans-111\"/>\n      <path d=\"M 48.78125 52.59375 \nL 48.78125 44.1875 \nQ 44.96875 46.296875 41.140625 47.34375 \nQ 37.3125 48.390625 33.40625 48.390625 \nQ 24.65625 48.390625 19.8125 42.84375 \nQ 14.984375 37.3125 14.984375 27.296875 \nQ 14.984375 17.28125 19.8125 11.734375 \nQ 24.65625 6.203125 33.40625 6.203125 \nQ 37.3125 6.203125 41.140625 7.25 \nQ 44.96875 8.296875 48.78125 10.40625 \nL 48.78125 2.09375 \nQ 45.015625 0.34375 40.984375 -0.53125 \nQ 36.96875 -1.421875 32.421875 -1.421875 \nQ 20.0625 -1.421875 12.78125 6.34375 \nQ 5.515625 14.109375 5.515625 27.296875 \nQ 5.515625 40.671875 12.859375 48.328125 \nQ 20.21875 56 33.015625 56 \nQ 37.15625 56 41.109375 55.140625 \nQ 45.0625 54.296875 48.78125 52.59375 \nz\n\" id=\"DejaVuSans-99\"/>\n      <path d=\"M 54.890625 33.015625 \nL 54.890625 0 \nL 45.90625 0 \nL 45.90625 32.71875 \nQ 45.90625 40.484375 42.875 44.328125 \nQ 39.84375 48.1875 33.796875 48.1875 \nQ 26.515625 48.1875 22.3125 43.546875 \nQ 18.109375 38.921875 18.109375 30.90625 \nL 18.109375 0 \nL 9.078125 0 \nL 9.078125 75.984375 \nL 18.109375 75.984375 \nL 18.109375 46.1875 \nQ 21.34375 51.125 25.703125 53.5625 \nQ 30.078125 56 35.796875 56 \nQ 45.21875 56 50.046875 50.171875 \nQ 54.890625 44.34375 54.890625 33.015625 \nz\n\" id=\"DejaVuSans-104\"/>\n      <path d=\"M 44.28125 53.078125 \nL 44.28125 44.578125 \nQ 40.484375 46.53125 36.375 47.5 \nQ 32.28125 48.484375 27.875 48.484375 \nQ 21.1875 48.484375 17.84375 46.4375 \nQ 14.5 44.390625 14.5 40.28125 \nQ 14.5 37.15625 16.890625 35.375 \nQ 19.28125 33.59375 26.515625 31.984375 \nL 29.59375 31.296875 \nQ 39.15625 29.25 43.1875 25.515625 \nQ 47.21875 21.78125 47.21875 15.09375 \nQ 47.21875 7.46875 41.1875 3.015625 \nQ 35.15625 -1.421875 24.609375 -1.421875 \nQ 20.21875 -1.421875 15.453125 -0.5625 \nQ 10.6875 0.296875 5.421875 2 \nL 5.421875 11.28125 \nQ 10.40625 8.6875 15.234375 7.390625 \nQ 20.0625 6.109375 24.8125 6.109375 \nQ 31.15625 6.109375 34.5625 8.28125 \nQ 37.984375 10.453125 37.984375 14.40625 \nQ 37.984375 18.0625 35.515625 20.015625 \nQ 33.0625 21.96875 24.703125 23.78125 \nL 21.578125 24.515625 \nQ 13.234375 26.265625 9.515625 29.90625 \nQ 5.8125 33.546875 5.8125 39.890625 \nQ 5.8125 47.609375 11.28125 51.796875 \nQ 16.75 56 26.8125 56 \nQ 31.78125 56 36.171875 55.265625 \nQ 40.578125 54.546875 44.28125 53.078125 \nz\n\" id=\"DejaVuSans-115\"/>\n     </defs>\n     <g transform=\"translate(216.092898 347.103778)scale(0.1 -0.1)\">\n      <use xlink:href=\"#DejaVuSans-69\"/>\n      <use x=\"63.183594\" xlink:href=\"#DejaVuSans-112\"/>\n      <use x=\"126.660156\" xlink:href=\"#DejaVuSans-111\"/>\n      <use x=\"187.841797\" xlink:href=\"#DejaVuSans-99\"/>\n      <use x=\"242.822266\" xlink:href=\"#DejaVuSans-104\"/>\n      <use x=\"306.201172\" xlink:href=\"#DejaVuSans-115\"/>\n     </g>\n    </g>\n   </g>\n   <g id=\"matplotlib.axis_2\">\n    <g id=\"ytick_1\">\n     <g id=\"line2d_8\">\n      <defs>\n       <path d=\"M 0 0 \nL -3.5 0 \n\" id=\"m5ea2a1445e\" style=\"stroke:#000000;stroke-width:0.8;\"/>\n      </defs>\n      <g>\n       <use style=\"stroke:#000000;stroke-width:0.8;\" x=\"43.78125\" xlink:href=\"#m5ea2a1445e\" y=\"281.888453\"/>\n      </g>\n     </g>\n     <g id=\"text_9\">\n      <!-- 0.2 -->\n      <defs>\n       <path d=\"M 10.6875 12.40625 \nL 21 12.40625 \nL 21 0 \nL 10.6875 0 \nz\n\" id=\"DejaVuSans-46\"/>\n      </defs>\n      <g transform=\"translate(20.878125 285.687672)scale(0.1 -0.1)\">\n       <use xlink:href=\"#DejaVuSans-48\"/>\n       <use x=\"63.623047\" xlink:href=\"#DejaVuSans-46\"/>\n       <use x=\"95.410156\" xlink:href=\"#DejaVuSans-50\"/>\n      </g>\n     </g>\n    </g>\n    <g id=\"ytick_2\">\n     <g id=\"line2d_9\">\n      <g>\n       <use style=\"stroke:#000000;stroke-width:0.8;\" x=\"43.78125\" xlink:href=\"#m5ea2a1445e\" y=\"233.736708\"/>\n      </g>\n     </g>\n     <g id=\"text_10\">\n      <!-- 0.4 -->\n      <g transform=\"translate(20.878125 237.535927)scale(0.1 -0.1)\">\n       <use xlink:href=\"#DejaVuSans-48\"/>\n       <use x=\"63.623047\" xlink:href=\"#DejaVuSans-46\"/>\n       <use x=\"95.410156\" xlink:href=\"#DejaVuSans-52\"/>\n      </g>\n     </g>\n    </g>\n    <g id=\"ytick_3\">\n     <g id=\"line2d_10\">\n      <g>\n       <use style=\"stroke:#000000;stroke-width:0.8;\" x=\"43.78125\" xlink:href=\"#m5ea2a1445e\" y=\"185.584963\"/>\n      </g>\n     </g>\n     <g id=\"text_11\">\n      <!-- 0.6 -->\n      <g transform=\"translate(20.878125 189.384182)scale(0.1 -0.1)\">\n       <use xlink:href=\"#DejaVuSans-48\"/>\n       <use x=\"63.623047\" xlink:href=\"#DejaVuSans-46\"/>\n       <use x=\"95.410156\" xlink:href=\"#DejaVuSans-54\"/>\n      </g>\n     </g>\n    </g>\n    <g id=\"ytick_4\">\n     <g id=\"line2d_11\">\n      <g>\n       <use style=\"stroke:#000000;stroke-width:0.8;\" x=\"43.78125\" xlink:href=\"#m5ea2a1445e\" y=\"137.433218\"/>\n      </g>\n     </g>\n     <g id=\"text_12\">\n      <!-- 0.8 -->\n      <g transform=\"translate(20.878125 141.232437)scale(0.1 -0.1)\">\n       <use xlink:href=\"#DejaVuSans-48\"/>\n       <use x=\"63.623047\" xlink:href=\"#DejaVuSans-46\"/>\n       <use x=\"95.410156\" xlink:href=\"#DejaVuSans-56\"/>\n      </g>\n     </g>\n    </g>\n    <g id=\"ytick_5\">\n     <g id=\"line2d_12\">\n      <g>\n       <use style=\"stroke:#000000;stroke-width:0.8;\" x=\"43.78125\" xlink:href=\"#m5ea2a1445e\" y=\"89.281473\"/>\n      </g>\n     </g>\n     <g id=\"text_13\">\n      <!-- 1.0 -->\n      <g transform=\"translate(20.878125 93.080692)scale(0.1 -0.1)\">\n       <use xlink:href=\"#DejaVuSans-49\"/>\n       <use x=\"63.623047\" xlink:href=\"#DejaVuSans-46\"/>\n       <use x=\"95.410156\" xlink:href=\"#DejaVuSans-48\"/>\n      </g>\n     </g>\n    </g>\n    <g id=\"ytick_6\">\n     <g id=\"line2d_13\">\n      <g>\n       <use style=\"stroke:#000000;stroke-width:0.8;\" x=\"43.78125\" xlink:href=\"#m5ea2a1445e\" y=\"41.129728\"/>\n      </g>\n     </g>\n     <g id=\"text_14\">\n      <!-- 1.2 -->\n      <g transform=\"translate(20.878125 44.928947)scale(0.1 -0.1)\">\n       <use xlink:href=\"#DejaVuSans-49\"/>\n       <use x=\"63.623047\" xlink:href=\"#DejaVuSans-46\"/>\n       <use x=\"95.410156\" xlink:href=\"#DejaVuSans-50\"/>\n      </g>\n     </g>\n    </g>\n    <g id=\"text_15\">\n     <!-- Loss -->\n     <defs>\n      <path d=\"M 9.8125 72.90625 \nL 19.671875 72.90625 \nL 19.671875 8.296875 \nL 55.171875 8.296875 \nL 55.171875 0 \nL 9.8125 0 \nz\n\" id=\"DejaVuSans-76\"/>\n     </defs>\n     <g transform=\"translate(14.798438 181.626577)rotate(-90)scale(0.1 -0.1)\">\n      <use xlink:href=\"#DejaVuSans-76\"/>\n      <use x=\"55.697266\" xlink:href=\"#DejaVuSans-111\"/>\n      <use x=\"116.878906\" xlink:href=\"#DejaVuSans-115\"/>\n      <use x=\"168.978516\" xlink:href=\"#DejaVuSans-115\"/>\n     </g>\n    </g>\n   </g>\n   <g id=\"line2d_14\">\n    <defs>\n     <path d=\"M 0 1.5 \nC 0.397805 1.5 0.77937 1.341951 1.06066 1.06066 \nC 1.341951 0.77937 1.5 0.397805 1.5 0 \nC 1.5 -0.397805 1.341951 -0.77937 1.06066 -1.06066 \nC 0.77937 -1.341951 0.397805 -1.5 0 -1.5 \nC -0.397805 -1.5 -0.77937 -1.341951 -1.06066 -1.06066 \nC -1.341951 -0.77937 -1.5 -0.397805 -1.5 0 \nC -1.5 0.397805 -1.341951 0.77937 -1.06066 1.06066 \nC -0.77937 1.341951 -0.397805 1.5 0 1.5 \nz\n\" id=\"mf943c25faf\" style=\"stroke:#008000;\"/>\n    </defs>\n    <g clip-path=\"url(#p8f4d99926f)\">\n     <use style=\"fill:#008000;stroke:#008000;\" x=\"61.074638\" xlink:href=\"#mf943c25faf\" y=\"35.795811\"/>\n     <use style=\"fill:#008000;stroke:#008000;\" x=\"87.679851\" xlink:href=\"#mf943c25faf\" y=\"175.126316\"/>\n     <use style=\"fill:#008000;stroke:#008000;\" x=\"114.285064\" xlink:href=\"#mf943c25faf\" y=\"223.29675\"/>\n     <use style=\"fill:#008000;stroke:#008000;\" x=\"140.890277\" xlink:href=\"#mf943c25faf\" y=\"223.267439\"/>\n     <use style=\"fill:#008000;stroke:#008000;\" x=\"167.49549\" xlink:href=\"#mf943c25faf\" y=\"244.209706\"/>\n     <use style=\"fill:#008000;stroke:#008000;\" x=\"194.100703\" xlink:href=\"#mf943c25faf\" y=\"249.547845\"/>\n     <use style=\"fill:#008000;stroke:#008000;\" x=\"220.705916\" xlink:href=\"#mf943c25faf\" y=\"256.095847\"/>\n     <use style=\"fill:#008000;stroke:#008000;\" x=\"247.311129\" xlink:href=\"#mf943c25faf\" y=\"260.882503\"/>\n     <use style=\"fill:#008000;stroke:#008000;\" x=\"273.916342\" xlink:href=\"#mf943c25faf\" y=\"272.096313\"/>\n     <use style=\"fill:#008000;stroke:#008000;\" x=\"300.521555\" xlink:href=\"#mf943c25faf\" y=\"274.640025\"/>\n     <use style=\"fill:#008000;stroke:#008000;\" x=\"327.126768\" xlink:href=\"#mf943c25faf\" y=\"278.544138\"/>\n     <use style=\"fill:#008000;stroke:#008000;\" x=\"353.731981\" xlink:href=\"#mf943c25faf\" y=\"277.746561\"/>\n     <use style=\"fill:#008000;stroke:#008000;\" x=\"380.337194\" xlink:href=\"#mf943c25faf\" y=\"276.979324\"/>\n     <use style=\"fill:#008000;stroke:#008000;\" x=\"406.942407\" xlink:href=\"#mf943c25faf\" y=\"270.393598\"/>\n    </g>\n   </g>\n   <g id=\"line2d_15\">\n    <path clip-path=\"url(#p8f4d99926f)\" d=\"M 61.074638 219.106336 \nL 87.679851 260.16533 \nL 114.285064 260.479351 \nL 140.890277 293.132775 \nL 167.49549 288.24426 \nL 194.100703 280.816952 \nL 220.705916 297.467592 \nL 247.311129 264.303925 \nL 273.916342 305.34953 \nL 300.521555 292.585822 \nL 327.126768 267.52145 \nL 353.731981 282.914007 \nL 380.337194 277.376071 \nL 406.942407 233.968601 \n\" style=\"fill:none;stroke:#008000;stroke-linecap:square;stroke-width:1.5;\"/>\n   </g>\n   <g id=\"patch_3\">\n    <path d=\"M 43.78125 318.827216 \nL 43.78125 22.318125 \n\" style=\"fill:none;stroke:#000000;stroke-linecap:square;stroke-linejoin:miter;stroke-width:0.8;\"/>\n   </g>\n   <g id=\"patch_4\">\n    <path d=\"M 424.235795 318.827216 \nL 424.235795 22.318125 \n\" style=\"fill:none;stroke:#000000;stroke-linecap:square;stroke-linejoin:miter;stroke-width:0.8;\"/>\n   </g>\n   <g id=\"patch_5\">\n    <path d=\"M 43.78125 318.827216 \nL 424.235795 318.827216 \n\" style=\"fill:none;stroke:#000000;stroke-linecap:square;stroke-linejoin:miter;stroke-width:0.8;\"/>\n   </g>\n   <g id=\"patch_6\">\n    <path d=\"M 43.78125 22.318125 \nL 424.235795 22.318125 \n\" style=\"fill:none;stroke:#000000;stroke-linecap:square;stroke-linejoin:miter;stroke-width:0.8;\"/>\n   </g>\n   <g id=\"text_16\">\n    <!-- Training and validation loss -->\n    <defs>\n     <path d=\"M -0.296875 72.90625 \nL 61.375 72.90625 \nL 61.375 64.59375 \nL 35.5 64.59375 \nL 35.5 0 \nL 25.59375 0 \nL 25.59375 64.59375 \nL -0.296875 64.59375 \nz\n\" id=\"DejaVuSans-84\"/>\n     <path d=\"M 41.109375 46.296875 \nQ 39.59375 47.171875 37.8125 47.578125 \nQ 36.03125 48 33.890625 48 \nQ 26.265625 48 22.1875 43.046875 \nQ 18.109375 38.09375 18.109375 28.8125 \nL 18.109375 0 \nL 9.078125 0 \nL 9.078125 54.6875 \nL 18.109375 54.6875 \nL 18.109375 46.1875 \nQ 20.953125 51.171875 25.484375 53.578125 \nQ 30.03125 56 36.53125 56 \nQ 37.453125 56 38.578125 55.875 \nQ 39.703125 55.765625 41.0625 55.515625 \nz\n\" id=\"DejaVuSans-114\"/>\n     <path d=\"M 34.28125 27.484375 \nQ 23.390625 27.484375 19.1875 25 \nQ 14.984375 22.515625 14.984375 16.5 \nQ 14.984375 11.71875 18.140625 8.90625 \nQ 21.296875 6.109375 26.703125 6.109375 \nQ 34.1875 6.109375 38.703125 11.40625 \nQ 43.21875 16.703125 43.21875 25.484375 \nL 43.21875 27.484375 \nz\nM 52.203125 31.203125 \nL 52.203125 0 \nL 43.21875 0 \nL 43.21875 8.296875 \nQ 40.140625 3.328125 35.546875 0.953125 \nQ 30.953125 -1.421875 24.3125 -1.421875 \nQ 15.921875 -1.421875 10.953125 3.296875 \nQ 6 8.015625 6 15.921875 \nQ 6 25.140625 12.171875 29.828125 \nQ 18.359375 34.515625 30.609375 34.515625 \nL 43.21875 34.515625 \nL 43.21875 35.40625 \nQ 43.21875 41.609375 39.140625 45 \nQ 35.0625 48.390625 27.6875 48.390625 \nQ 23 48.390625 18.546875 47.265625 \nQ 14.109375 46.140625 10.015625 43.890625 \nL 10.015625 52.203125 \nQ 14.9375 54.109375 19.578125 55.046875 \nQ 24.21875 56 28.609375 56 \nQ 40.484375 56 46.34375 49.84375 \nQ 52.203125 43.703125 52.203125 31.203125 \nz\n\" id=\"DejaVuSans-97\"/>\n     <path d=\"M 9.421875 54.6875 \nL 18.40625 54.6875 \nL 18.40625 0 \nL 9.421875 0 \nz\nM 9.421875 75.984375 \nL 18.40625 75.984375 \nL 18.40625 64.59375 \nL 9.421875 64.59375 \nz\n\" id=\"DejaVuSans-105\"/>\n     <path d=\"M 54.890625 33.015625 \nL 54.890625 0 \nL 45.90625 0 \nL 45.90625 32.71875 \nQ 45.90625 40.484375 42.875 44.328125 \nQ 39.84375 48.1875 33.796875 48.1875 \nQ 26.515625 48.1875 22.3125 43.546875 \nQ 18.109375 38.921875 18.109375 30.90625 \nL 18.109375 0 \nL 9.078125 0 \nL 9.078125 54.6875 \nL 18.109375 54.6875 \nL 18.109375 46.1875 \nQ 21.34375 51.125 25.703125 53.5625 \nQ 30.078125 56 35.796875 56 \nQ 45.21875 56 50.046875 50.171875 \nQ 54.890625 44.34375 54.890625 33.015625 \nz\n\" id=\"DejaVuSans-110\"/>\n     <path d=\"M 45.40625 27.984375 \nQ 45.40625 37.75 41.375 43.109375 \nQ 37.359375 48.484375 30.078125 48.484375 \nQ 22.859375 48.484375 18.828125 43.109375 \nQ 14.796875 37.75 14.796875 27.984375 \nQ 14.796875 18.265625 18.828125 12.890625 \nQ 22.859375 7.515625 30.078125 7.515625 \nQ 37.359375 7.515625 41.375 12.890625 \nQ 45.40625 18.265625 45.40625 27.984375 \nz\nM 54.390625 6.78125 \nQ 54.390625 -7.171875 48.1875 -13.984375 \nQ 42 -20.796875 29.203125 -20.796875 \nQ 24.46875 -20.796875 20.265625 -20.09375 \nQ 16.0625 -19.390625 12.109375 -17.921875 \nL 12.109375 -9.1875 \nQ 16.0625 -11.328125 19.921875 -12.34375 \nQ 23.78125 -13.375 27.78125 -13.375 \nQ 36.625 -13.375 41.015625 -8.765625 \nQ 45.40625 -4.15625 45.40625 5.171875 \nL 45.40625 9.625 \nQ 42.625 4.78125 38.28125 2.390625 \nQ 33.9375 0 27.875 0 \nQ 17.828125 0 11.671875 7.65625 \nQ 5.515625 15.328125 5.515625 27.984375 \nQ 5.515625 40.671875 11.671875 48.328125 \nQ 17.828125 56 27.875 56 \nQ 33.9375 56 38.28125 53.609375 \nQ 42.625 51.21875 45.40625 46.390625 \nL 45.40625 54.6875 \nL 54.390625 54.6875 \nz\n\" id=\"DejaVuSans-103\"/>\n     <path id=\"DejaVuSans-32\"/>\n     <path d=\"M 45.40625 46.390625 \nL 45.40625 75.984375 \nL 54.390625 75.984375 \nL 54.390625 0 \nL 45.40625 0 \nL 45.40625 8.203125 \nQ 42.578125 3.328125 38.25 0.953125 \nQ 33.9375 -1.421875 27.875 -1.421875 \nQ 17.96875 -1.421875 11.734375 6.484375 \nQ 5.515625 14.40625 5.515625 27.296875 \nQ 5.515625 40.1875 11.734375 48.09375 \nQ 17.96875 56 27.875 56 \nQ 33.9375 56 38.25 53.625 \nQ 42.578125 51.265625 45.40625 46.390625 \nz\nM 14.796875 27.296875 \nQ 14.796875 17.390625 18.875 11.75 \nQ 22.953125 6.109375 30.078125 6.109375 \nQ 37.203125 6.109375 41.296875 11.75 \nQ 45.40625 17.390625 45.40625 27.296875 \nQ 45.40625 37.203125 41.296875 42.84375 \nQ 37.203125 48.484375 30.078125 48.484375 \nQ 22.953125 48.484375 18.875 42.84375 \nQ 14.796875 37.203125 14.796875 27.296875 \nz\n\" id=\"DejaVuSans-100\"/>\n     <path d=\"M 2.984375 54.6875 \nL 12.5 54.6875 \nL 29.59375 8.796875 \nL 46.6875 54.6875 \nL 56.203125 54.6875 \nL 35.6875 0 \nL 23.484375 0 \nz\n\" id=\"DejaVuSans-118\"/>\n     <path d=\"M 9.421875 75.984375 \nL 18.40625 75.984375 \nL 18.40625 0 \nL 9.421875 0 \nz\n\" id=\"DejaVuSans-108\"/>\n     <path d=\"M 18.3125 70.21875 \nL 18.3125 54.6875 \nL 36.8125 54.6875 \nL 36.8125 47.703125 \nL 18.3125 47.703125 \nL 18.3125 18.015625 \nQ 18.3125 11.328125 20.140625 9.421875 \nQ 21.96875 7.515625 27.59375 7.515625 \nL 36.8125 7.515625 \nL 36.8125 0 \nL 27.59375 0 \nQ 17.1875 0 13.234375 3.875 \nQ 9.28125 7.765625 9.28125 18.015625 \nL 9.28125 47.703125 \nL 2.6875 47.703125 \nL 2.6875 54.6875 \nL 9.28125 54.6875 \nL 9.28125 70.21875 \nz\n\" id=\"DejaVuSans-116\"/>\n    </defs>\n    <g transform=\"translate(151.326648 16.318125)scale(0.12 -0.12)\">\n     <use xlink:href=\"#DejaVuSans-84\"/>\n     <use x=\"60.865234\" xlink:href=\"#DejaVuSans-114\"/>\n     <use x=\"101.978516\" xlink:href=\"#DejaVuSans-97\"/>\n     <use x=\"163.257812\" xlink:href=\"#DejaVuSans-105\"/>\n     <use x=\"191.041016\" xlink:href=\"#DejaVuSans-110\"/>\n     <use x=\"254.419922\" xlink:href=\"#DejaVuSans-105\"/>\n     <use x=\"282.203125\" xlink:href=\"#DejaVuSans-110\"/>\n     <use x=\"345.582031\" xlink:href=\"#DejaVuSans-103\"/>\n     <use x=\"409.058594\" xlink:href=\"#DejaVuSans-32\"/>\n     <use x=\"440.845703\" xlink:href=\"#DejaVuSans-97\"/>\n     <use x=\"502.125\" xlink:href=\"#DejaVuSans-110\"/>\n     <use x=\"565.503906\" xlink:href=\"#DejaVuSans-100\"/>\n     <use x=\"628.980469\" xlink:href=\"#DejaVuSans-32\"/>\n     <use x=\"660.767578\" xlink:href=\"#DejaVuSans-118\"/>\n     <use x=\"719.947266\" xlink:href=\"#DejaVuSans-97\"/>\n     <use x=\"781.226562\" xlink:href=\"#DejaVuSans-108\"/>\n     <use x=\"809.009766\" xlink:href=\"#DejaVuSans-105\"/>\n     <use x=\"836.792969\" xlink:href=\"#DejaVuSans-100\"/>\n     <use x=\"900.269531\" xlink:href=\"#DejaVuSans-97\"/>\n     <use x=\"961.548828\" xlink:href=\"#DejaVuSans-116\"/>\n     <use x=\"1000.757812\" xlink:href=\"#DejaVuSans-105\"/>\n     <use x=\"1028.541016\" xlink:href=\"#DejaVuSans-111\"/>\n     <use x=\"1089.722656\" xlink:href=\"#DejaVuSans-110\"/>\n     <use x=\"1153.101562\" xlink:href=\"#DejaVuSans-32\"/>\n     <use x=\"1184.888672\" xlink:href=\"#DejaVuSans-108\"/>\n     <use x=\"1212.671875\" xlink:href=\"#DejaVuSans-111\"/>\n     <use x=\"1273.853516\" xlink:href=\"#DejaVuSans-115\"/>\n     <use x=\"1325.953125\" xlink:href=\"#DejaVuSans-115\"/>\n    </g>\n   </g>\n   <g id=\"legend_1\">\n    <g id=\"patch_7\">\n     <path d=\"M 312.596733 59.674375 \nL 417.235795 59.674375 \nQ 419.235795 59.674375 419.235795 57.674375 \nL 419.235795 29.318125 \nQ 419.235795 27.318125 417.235795 27.318125 \nL 312.596733 27.318125 \nQ 310.596733 27.318125 310.596733 29.318125 \nL 310.596733 57.674375 \nQ 310.596733 59.674375 312.596733 59.674375 \nz\n\" style=\"fill:#ffffff;opacity:0.8;stroke:#cccccc;stroke-linejoin:miter;\"/>\n    </g>\n    <g id=\"line2d_16\"/>\n    <g id=\"line2d_17\">\n     <g>\n      <use style=\"fill:#008000;stroke:#008000;\" x=\"324.596733\" xlink:href=\"#mf943c25faf\" y=\"35.416562\"/>\n     </g>\n    </g>\n    <g id=\"text_17\">\n     <!-- Training loss -->\n     <g transform=\"translate(342.596733 38.916562)scale(0.1 -0.1)\">\n      <use xlink:href=\"#DejaVuSans-84\"/>\n      <use x=\"60.865234\" xlink:href=\"#DejaVuSans-114\"/>\n      <use x=\"101.978516\" xlink:href=\"#DejaVuSans-97\"/>\n      <use x=\"163.257812\" xlink:href=\"#DejaVuSans-105\"/>\n      <use x=\"191.041016\" xlink:href=\"#DejaVuSans-110\"/>\n      <use x=\"254.419922\" xlink:href=\"#DejaVuSans-105\"/>\n      <use x=\"282.203125\" xlink:href=\"#DejaVuSans-110\"/>\n      <use x=\"345.582031\" xlink:href=\"#DejaVuSans-103\"/>\n      <use x=\"409.058594\" xlink:href=\"#DejaVuSans-32\"/>\n      <use x=\"440.845703\" xlink:href=\"#DejaVuSans-108\"/>\n      <use x=\"468.628906\" xlink:href=\"#DejaVuSans-111\"/>\n      <use x=\"529.810547\" xlink:href=\"#DejaVuSans-115\"/>\n      <use x=\"581.910156\" xlink:href=\"#DejaVuSans-115\"/>\n     </g>\n    </g>\n    <g id=\"line2d_18\">\n     <path d=\"M 314.596733 50.094687 \nL 334.596733 50.094687 \n\" style=\"fill:none;stroke:#008000;stroke-linecap:square;stroke-width:1.5;\"/>\n    </g>\n    <g id=\"line2d_19\"/>\n    <g id=\"text_18\">\n     <!-- Validation loss -->\n     <defs>\n      <path d=\"M 28.609375 0 \nL 0.78125 72.90625 \nL 11.078125 72.90625 \nL 34.1875 11.53125 \nL 57.328125 72.90625 \nL 67.578125 72.90625 \nL 39.796875 0 \nz\n\" id=\"DejaVuSans-86\"/>\n     </defs>\n     <g transform=\"translate(342.596733 53.594687)scale(0.1 -0.1)\">\n      <use xlink:href=\"#DejaVuSans-86\"/>\n      <use x=\"68.298828\" xlink:href=\"#DejaVuSans-97\"/>\n      <use x=\"129.578125\" xlink:href=\"#DejaVuSans-108\"/>\n      <use x=\"157.361328\" xlink:href=\"#DejaVuSans-105\"/>\n      <use x=\"185.144531\" xlink:href=\"#DejaVuSans-100\"/>\n      <use x=\"248.621094\" xlink:href=\"#DejaVuSans-97\"/>\n      <use x=\"309.900391\" xlink:href=\"#DejaVuSans-116\"/>\n      <use x=\"349.109375\" xlink:href=\"#DejaVuSans-105\"/>\n      <use x=\"376.892578\" xlink:href=\"#DejaVuSans-111\"/>\n      <use x=\"438.074219\" xlink:href=\"#DejaVuSans-110\"/>\n      <use x=\"501.453125\" xlink:href=\"#DejaVuSans-32\"/>\n      <use x=\"533.240234\" xlink:href=\"#DejaVuSans-108\"/>\n      <use x=\"561.023438\" xlink:href=\"#DejaVuSans-111\"/>\n      <use x=\"622.205078\" xlink:href=\"#DejaVuSans-115\"/>\n      <use x=\"674.304688\" xlink:href=\"#DejaVuSans-115\"/>\n     </g>\n    </g>\n   </g>\n  </g>\n  <g id=\"axes_2\">\n   <g id=\"patch_8\">\n    <path d=\"M 500.326705 318.827216 \nL 880.78125 318.827216 \nL 880.78125 22.318125 \nL 500.326705 22.318125 \nz\n\" style=\"fill:#ffffff;\"/>\n   </g>\n   <g id=\"matplotlib.axis_3\">\n    <g id=\"xtick_8\">\n     <g id=\"line2d_20\">\n      <g>\n       <use style=\"stroke:#000000;stroke-width:0.8;\" x=\"544.225306\" xlink:href=\"#me6cb09feda\" y=\"318.827216\"/>\n      </g>\n     </g>\n     <g id=\"text_19\">\n      <!-- 2 -->\n      <g transform=\"translate(541.044056 333.425653)scale(0.1 -0.1)\">\n       <use xlink:href=\"#DejaVuSans-50\"/>\n      </g>\n     </g>\n    </g>\n    <g id=\"xtick_9\">\n     <g id=\"line2d_21\">\n      <g>\n       <use style=\"stroke:#000000;stroke-width:0.8;\" x=\"597.435732\" xlink:href=\"#me6cb09feda\" y=\"318.827216\"/>\n      </g>\n     </g>\n     <g id=\"text_20\">\n      <!-- 4 -->\n      <g transform=\"translate(594.254482 333.425653)scale(0.1 -0.1)\">\n       <use xlink:href=\"#DejaVuSans-52\"/>\n      </g>\n     </g>\n    </g>\n    <g id=\"xtick_10\">\n     <g id=\"line2d_22\">\n      <g>\n       <use style=\"stroke:#000000;stroke-width:0.8;\" x=\"650.646158\" xlink:href=\"#me6cb09feda\" y=\"318.827216\"/>\n      </g>\n     </g>\n     <g id=\"text_21\">\n      <!-- 6 -->\n      <g transform=\"translate(647.464908 333.425653)scale(0.1 -0.1)\">\n       <use xlink:href=\"#DejaVuSans-54\"/>\n      </g>\n     </g>\n    </g>\n    <g id=\"xtick_11\">\n     <g id=\"line2d_23\">\n      <g>\n       <use style=\"stroke:#000000;stroke-width:0.8;\" x=\"703.856584\" xlink:href=\"#me6cb09feda\" y=\"318.827216\"/>\n      </g>\n     </g>\n     <g id=\"text_22\">\n      <!-- 8 -->\n      <g transform=\"translate(700.675334 333.425653)scale(0.1 -0.1)\">\n       <use xlink:href=\"#DejaVuSans-56\"/>\n      </g>\n     </g>\n    </g>\n    <g id=\"xtick_12\">\n     <g id=\"line2d_24\">\n      <g>\n       <use style=\"stroke:#000000;stroke-width:0.8;\" x=\"757.06701\" xlink:href=\"#me6cb09feda\" y=\"318.827216\"/>\n      </g>\n     </g>\n     <g id=\"text_23\">\n      <!-- 10 -->\n      <g transform=\"translate(750.70451 333.425653)scale(0.1 -0.1)\">\n       <use xlink:href=\"#DejaVuSans-49\"/>\n       <use x=\"63.623047\" xlink:href=\"#DejaVuSans-48\"/>\n      </g>\n     </g>\n    </g>\n    <g id=\"xtick_13\">\n     <g id=\"line2d_25\">\n      <g>\n       <use style=\"stroke:#000000;stroke-width:0.8;\" x=\"810.277436\" xlink:href=\"#me6cb09feda\" y=\"318.827216\"/>\n      </g>\n     </g>\n     <g id=\"text_24\">\n      <!-- 12 -->\n      <g transform=\"translate(803.914936 333.425653)scale(0.1 -0.1)\">\n       <use xlink:href=\"#DejaVuSans-49\"/>\n       <use x=\"63.623047\" xlink:href=\"#DejaVuSans-50\"/>\n      </g>\n     </g>\n    </g>\n    <g id=\"xtick_14\">\n     <g id=\"line2d_26\">\n      <g>\n       <use style=\"stroke:#000000;stroke-width:0.8;\" x=\"863.487862\" xlink:href=\"#me6cb09feda\" y=\"318.827216\"/>\n      </g>\n     </g>\n     <g id=\"text_25\">\n      <!-- 14 -->\n      <g transform=\"translate(857.125362 333.425653)scale(0.1 -0.1)\">\n       <use xlink:href=\"#DejaVuSans-49\"/>\n       <use x=\"63.623047\" xlink:href=\"#DejaVuSans-52\"/>\n      </g>\n     </g>\n    </g>\n    <g id=\"text_26\">\n     <!-- Epochs -->\n     <g transform=\"translate(672.638352 347.103778)scale(0.1 -0.1)\">\n      <use xlink:href=\"#DejaVuSans-69\"/>\n      <use x=\"63.183594\" xlink:href=\"#DejaVuSans-112\"/>\n      <use x=\"126.660156\" xlink:href=\"#DejaVuSans-111\"/>\n      <use x=\"187.841797\" xlink:href=\"#DejaVuSans-99\"/>\n      <use x=\"242.822266\" xlink:href=\"#DejaVuSans-104\"/>\n      <use x=\"306.201172\" xlink:href=\"#DejaVuSans-115\"/>\n     </g>\n    </g>\n   </g>\n   <g id=\"matplotlib.axis_4\">\n    <g id=\"ytick_7\">\n     <g id=\"line2d_27\">\n      <g>\n       <use style=\"stroke:#000000;stroke-width:0.8;\" x=\"500.326705\" xlink:href=\"#m5ea2a1445e\" y=\"278.854987\"/>\n      </g>\n     </g>\n     <g id=\"text_27\">\n      <!-- 0.75 -->\n      <defs>\n       <path d=\"M 8.203125 72.90625 \nL 55.078125 72.90625 \nL 55.078125 68.703125 \nL 28.609375 0 \nL 18.3125 0 \nL 43.21875 64.59375 \nL 8.203125 64.59375 \nz\n\" id=\"DejaVuSans-55\"/>\n       <path d=\"M 10.796875 72.90625 \nL 49.515625 72.90625 \nL 49.515625 64.59375 \nL 19.828125 64.59375 \nL 19.828125 46.734375 \nQ 21.96875 47.46875 24.109375 47.828125 \nQ 26.265625 48.1875 28.421875 48.1875 \nQ 40.625 48.1875 47.75 41.5 \nQ 54.890625 34.8125 54.890625 23.390625 \nQ 54.890625 11.625 47.5625 5.09375 \nQ 40.234375 -1.421875 26.90625 -1.421875 \nQ 22.3125 -1.421875 17.546875 -0.640625 \nQ 12.796875 0.140625 7.71875 1.703125 \nL 7.71875 11.625 \nQ 12.109375 9.234375 16.796875 8.0625 \nQ 21.484375 6.890625 26.703125 6.890625 \nQ 35.15625 6.890625 40.078125 11.328125 \nQ 45.015625 15.765625 45.015625 23.390625 \nQ 45.015625 31 40.078125 35.4375 \nQ 35.15625 39.890625 26.703125 39.890625 \nQ 22.75 39.890625 18.8125 39.015625 \nQ 14.890625 38.140625 10.796875 36.28125 \nz\n\" id=\"DejaVuSans-53\"/>\n      </defs>\n      <g transform=\"translate(471.06108 282.654205)scale(0.1 -0.1)\">\n       <use xlink:href=\"#DejaVuSans-48\"/>\n       <use x=\"63.623047\" xlink:href=\"#DejaVuSans-46\"/>\n       <use x=\"95.410156\" xlink:href=\"#DejaVuSans-55\"/>\n       <use x=\"159.033203\" xlink:href=\"#DejaVuSans-53\"/>\n      </g>\n     </g>\n    </g>\n    <g id=\"ytick_8\">\n     <g id=\"line2d_28\">\n      <g>\n       <use style=\"stroke:#000000;stroke-width:0.8;\" x=\"500.326705\" xlink:href=\"#m5ea2a1445e\" y=\"230.243152\"/>\n      </g>\n     </g>\n     <g id=\"text_28\">\n      <!-- 0.80 -->\n      <g transform=\"translate(471.06108 234.04237)scale(0.1 -0.1)\">\n       <use xlink:href=\"#DejaVuSans-48\"/>\n       <use x=\"63.623047\" xlink:href=\"#DejaVuSans-46\"/>\n       <use x=\"95.410156\" xlink:href=\"#DejaVuSans-56\"/>\n       <use x=\"159.033203\" xlink:href=\"#DejaVuSans-48\"/>\n      </g>\n     </g>\n    </g>\n    <g id=\"ytick_9\">\n     <g id=\"line2d_29\">\n      <g>\n       <use style=\"stroke:#000000;stroke-width:0.8;\" x=\"500.326705\" xlink:href=\"#m5ea2a1445e\" y=\"181.631316\"/>\n      </g>\n     </g>\n     <g id=\"text_29\">\n      <!-- 0.85 -->\n      <g transform=\"translate(471.06108 185.430535)scale(0.1 -0.1)\">\n       <use xlink:href=\"#DejaVuSans-48\"/>\n       <use x=\"63.623047\" xlink:href=\"#DejaVuSans-46\"/>\n       <use x=\"95.410156\" xlink:href=\"#DejaVuSans-56\"/>\n       <use x=\"159.033203\" xlink:href=\"#DejaVuSans-53\"/>\n      </g>\n     </g>\n    </g>\n    <g id=\"ytick_10\">\n     <g id=\"line2d_30\">\n      <g>\n       <use style=\"stroke:#000000;stroke-width:0.8;\" x=\"500.326705\" xlink:href=\"#m5ea2a1445e\" y=\"133.019481\"/>\n      </g>\n     </g>\n     <g id=\"text_30\">\n      <!-- 0.90 -->\n      <defs>\n       <path d=\"M 10.984375 1.515625 \nL 10.984375 10.5 \nQ 14.703125 8.734375 18.5 7.8125 \nQ 22.3125 6.890625 25.984375 6.890625 \nQ 35.75 6.890625 40.890625 13.453125 \nQ 46.046875 20.015625 46.78125 33.40625 \nQ 43.953125 29.203125 39.59375 26.953125 \nQ 35.25 24.703125 29.984375 24.703125 \nQ 19.046875 24.703125 12.671875 31.3125 \nQ 6.296875 37.9375 6.296875 49.421875 \nQ 6.296875 60.640625 12.9375 67.421875 \nQ 19.578125 74.21875 30.609375 74.21875 \nQ 43.265625 74.21875 49.921875 64.515625 \nQ 56.59375 54.828125 56.59375 36.375 \nQ 56.59375 19.140625 48.40625 8.859375 \nQ 40.234375 -1.421875 26.421875 -1.421875 \nQ 22.703125 -1.421875 18.890625 -0.6875 \nQ 15.09375 0.046875 10.984375 1.515625 \nz\nM 30.609375 32.421875 \nQ 37.25 32.421875 41.125 36.953125 \nQ 45.015625 41.5 45.015625 49.421875 \nQ 45.015625 57.28125 41.125 61.84375 \nQ 37.25 66.40625 30.609375 66.40625 \nQ 23.96875 66.40625 20.09375 61.84375 \nQ 16.21875 57.28125 16.21875 49.421875 \nQ 16.21875 41.5 20.09375 36.953125 \nQ 23.96875 32.421875 30.609375 32.421875 \nz\n\" id=\"DejaVuSans-57\"/>\n      </defs>\n      <g transform=\"translate(471.06108 136.8187)scale(0.1 -0.1)\">\n       <use xlink:href=\"#DejaVuSans-48\"/>\n       <use x=\"63.623047\" xlink:href=\"#DejaVuSans-46\"/>\n       <use x=\"95.410156\" xlink:href=\"#DejaVuSans-57\"/>\n       <use x=\"159.033203\" xlink:href=\"#DejaVuSans-48\"/>\n      </g>\n     </g>\n    </g>\n    <g id=\"ytick_11\">\n     <g id=\"line2d_31\">\n      <g>\n       <use style=\"stroke:#000000;stroke-width:0.8;\" x=\"500.326705\" xlink:href=\"#m5ea2a1445e\" y=\"84.407646\"/>\n      </g>\n     </g>\n     <g id=\"text_31\">\n      <!-- 0.95 -->\n      <g transform=\"translate(471.06108 88.206865)scale(0.1 -0.1)\">\n       <use xlink:href=\"#DejaVuSans-48\"/>\n       <use x=\"63.623047\" xlink:href=\"#DejaVuSans-46\"/>\n       <use x=\"95.410156\" xlink:href=\"#DejaVuSans-57\"/>\n       <use x=\"159.033203\" xlink:href=\"#DejaVuSans-53\"/>\n      </g>\n     </g>\n    </g>\n    <g id=\"ytick_12\">\n     <g id=\"line2d_32\">\n      <g>\n       <use style=\"stroke:#000000;stroke-width:0.8;\" x=\"500.326705\" xlink:href=\"#m5ea2a1445e\" y=\"35.795811\"/>\n      </g>\n     </g>\n     <g id=\"text_32\">\n      <!-- 1.00 -->\n      <g transform=\"translate(471.06108 39.59503)scale(0.1 -0.1)\">\n       <use xlink:href=\"#DejaVuSans-49\"/>\n       <use x=\"63.623047\" xlink:href=\"#DejaVuSans-46\"/>\n       <use x=\"95.410156\" xlink:href=\"#DejaVuSans-48\"/>\n       <use x=\"159.033203\" xlink:href=\"#DejaVuSans-48\"/>\n      </g>\n     </g>\n    </g>\n    <g id=\"text_33\">\n     <!-- AUC -->\n     <defs>\n      <path d=\"M 34.1875 63.1875 \nL 20.796875 26.90625 \nL 47.609375 26.90625 \nz\nM 28.609375 72.90625 \nL 39.796875 72.90625 \nL 67.578125 0 \nL 57.328125 0 \nL 50.6875 18.703125 \nL 17.828125 18.703125 \nL 11.1875 0 \nL 0.78125 0 \nz\n\" id=\"DejaVuSans-65\"/>\n      <path d=\"M 8.6875 72.90625 \nL 18.609375 72.90625 \nL 18.609375 28.609375 \nQ 18.609375 16.890625 22.84375 11.734375 \nQ 27.09375 6.59375 36.625 6.59375 \nQ 46.09375 6.59375 50.34375 11.734375 \nQ 54.59375 16.890625 54.59375 28.609375 \nL 54.59375 72.90625 \nL 64.5 72.90625 \nL 64.5 27.390625 \nQ 64.5 13.140625 57.4375 5.859375 \nQ 50.390625 -1.421875 36.625 -1.421875 \nQ 22.796875 -1.421875 15.734375 5.859375 \nQ 8.6875 13.140625 8.6875 27.390625 \nz\n\" id=\"DejaVuSans-85\"/>\n      <path d=\"M 64.40625 67.28125 \nL 64.40625 56.890625 \nQ 59.421875 61.53125 53.78125 63.8125 \nQ 48.140625 66.109375 41.796875 66.109375 \nQ 29.296875 66.109375 22.65625 58.46875 \nQ 16.015625 50.828125 16.015625 36.375 \nQ 16.015625 21.96875 22.65625 14.328125 \nQ 29.296875 6.6875 41.796875 6.6875 \nQ 48.140625 6.6875 53.78125 8.984375 \nQ 59.421875 11.28125 64.40625 15.921875 \nL 64.40625 5.609375 \nQ 59.234375 2.09375 53.4375 0.328125 \nQ 47.65625 -1.421875 41.21875 -1.421875 \nQ 24.65625 -1.421875 15.125 8.703125 \nQ 5.609375 18.84375 5.609375 36.375 \nQ 5.609375 53.953125 15.125 64.078125 \nQ 24.65625 74.21875 41.21875 74.21875 \nQ 47.75 74.21875 53.53125 72.484375 \nQ 59.328125 70.75 64.40625 67.28125 \nz\n\" id=\"DejaVuSans-67\"/>\n     </defs>\n     <g transform=\"translate(464.981392 181.143764)rotate(-90)scale(0.1 -0.1)\">\n      <use xlink:href=\"#DejaVuSans-65\"/>\n      <use x=\"68.408203\" xlink:href=\"#DejaVuSans-85\"/>\n      <use x=\"141.601562\" xlink:href=\"#DejaVuSans-67\"/>\n     </g>\n    </g>\n   </g>\n   <g id=\"line2d_33\">\n    <defs>\n     <path d=\"M 0 1.5 \nC 0.397805 1.5 0.77937 1.341951 1.06066 1.06066 \nC 1.341951 0.77937 1.5 0.397805 1.5 0 \nC 1.5 -0.397805 1.341951 -0.77937 1.06066 -1.06066 \nC 0.77937 -1.341951 0.397805 -1.5 0 -1.5 \nC -0.397805 -1.5 -0.77937 -1.341951 -1.06066 -1.06066 \nC -1.341951 -0.77937 -1.5 -0.397805 -1.5 0 \nC -1.5 0.397805 -1.341951 0.77937 -1.06066 1.06066 \nC -0.77937 1.341951 -0.397805 1.5 0 1.5 \nz\n\" id=\"md480fab676\" style=\"stroke:#ff0000;\"/>\n    </defs>\n    <g clip-path=\"url(#p783ab4ebe1)\">\n     <use style=\"fill:#ff0000;stroke:#ff0000;\" x=\"517.620093\" xlink:href=\"#md480fab676\" y=\"305.34953\"/>\n     <use style=\"fill:#ff0000;stroke:#ff0000;\" x=\"544.225306\" xlink:href=\"#md480fab676\" y=\"93.259435\"/>\n     <use style=\"fill:#ff0000;stroke:#ff0000;\" x=\"570.830519\" xlink:href=\"#md480fab676\" y=\"64.458141\"/>\n     <use style=\"fill:#ff0000;stroke:#ff0000;\" x=\"597.435732\" xlink:href=\"#md480fab676\" y=\"64.76684\"/>\n     <use style=\"fill:#ff0000;stroke:#ff0000;\" x=\"624.040945\" xlink:href=\"#md480fab676\" y=\"54.921397\"/>\n     <use style=\"fill:#ff0000;stroke:#ff0000;\" x=\"650.646158\" xlink:href=\"#md480fab676\" y=\"52.557855\"/>\n     <use style=\"fill:#ff0000;stroke:#ff0000;\" x=\"677.251371\" xlink:href=\"#md480fab676\" y=\"50.556964\"/>\n     <use style=\"fill:#ff0000;stroke:#ff0000;\" x=\"703.856584\" xlink:href=\"#md480fab676\" y=\"48.75681\"/>\n     <use style=\"fill:#ff0000;stroke:#ff0000;\" x=\"730.461797\" xlink:href=\"#md480fab676\" y=\"44.935773\"/>\n     <use style=\"fill:#ff0000;stroke:#ff0000;\" x=\"757.06701\" xlink:href=\"#md480fab676\" y=\"44.185786\"/>\n     <use style=\"fill:#ff0000;stroke:#ff0000;\" x=\"783.672223\" xlink:href=\"#md480fab676\" y=\"43.545441\"/>\n     <use style=\"fill:#ff0000;stroke:#ff0000;\" x=\"810.277436\" xlink:href=\"#md480fab676\" y=\"43.412156\"/>\n     <use style=\"fill:#ff0000;stroke:#ff0000;\" x=\"836.882649\" xlink:href=\"#md480fab676\" y=\"44.059919\"/>\n     <use style=\"fill:#ff0000;stroke:#ff0000;\" x=\"863.487862\" xlink:href=\"#md480fab676\" y=\"45.429853\"/>\n    </g>\n   </g>\n   <g id=\"line2d_34\">\n    <path clip-path=\"url(#p783ab4ebe1)\" d=\"M 517.620093 111.751803 \nL 544.225306 35.795811 \nL 570.830519 35.795811 \nL 597.435732 35.795811 \nL 624.040945 35.795811 \nL 650.646158 35.795811 \nL 677.251371 35.795811 \nL 703.856584 35.795811 \nL 730.461797 35.795811 \nL 757.06701 35.795811 \nL 783.672223 81.369406 \nL 810.277436 35.795811 \nL 836.882649 35.795811 \nL 863.487862 35.795811 \n\" style=\"fill:none;stroke:#ff0000;stroke-linecap:square;stroke-width:1.5;\"/>\n   </g>\n   <g id=\"patch_9\">\n    <path d=\"M 500.326705 318.827216 \nL 500.326705 22.318125 \n\" style=\"fill:none;stroke:#000000;stroke-linecap:square;stroke-linejoin:miter;stroke-width:0.8;\"/>\n   </g>\n   <g id=\"patch_10\">\n    <path d=\"M 880.78125 318.827216 \nL 880.78125 22.318125 \n\" style=\"fill:none;stroke:#000000;stroke-linecap:square;stroke-linejoin:miter;stroke-width:0.8;\"/>\n   </g>\n   <g id=\"patch_11\">\n    <path d=\"M 500.326705 318.827216 \nL 880.78125 318.827216 \n\" style=\"fill:none;stroke:#000000;stroke-linecap:square;stroke-linejoin:miter;stroke-width:0.8;\"/>\n   </g>\n   <g id=\"patch_12\">\n    <path d=\"M 500.326705 22.318125 \nL 880.78125 22.318125 \n\" style=\"fill:none;stroke:#000000;stroke-linecap:square;stroke-linejoin:miter;stroke-width:0.8;\"/>\n   </g>\n   <g id=\"text_34\">\n    <!-- Training and validation AUC -->\n    <g transform=\"translate(606.776165 16.318125)scale(0.12 -0.12)\">\n     <use xlink:href=\"#DejaVuSans-84\"/>\n     <use x=\"60.865234\" xlink:href=\"#DejaVuSans-114\"/>\n     <use x=\"101.978516\" xlink:href=\"#DejaVuSans-97\"/>\n     <use x=\"163.257812\" xlink:href=\"#DejaVuSans-105\"/>\n     <use x=\"191.041016\" xlink:href=\"#DejaVuSans-110\"/>\n     <use x=\"254.419922\" xlink:href=\"#DejaVuSans-105\"/>\n     <use x=\"282.203125\" xlink:href=\"#DejaVuSans-110\"/>\n     <use x=\"345.582031\" xlink:href=\"#DejaVuSans-103\"/>\n     <use x=\"409.058594\" xlink:href=\"#DejaVuSans-32\"/>\n     <use x=\"440.845703\" xlink:href=\"#DejaVuSans-97\"/>\n     <use x=\"502.125\" xlink:href=\"#DejaVuSans-110\"/>\n     <use x=\"565.503906\" xlink:href=\"#DejaVuSans-100\"/>\n     <use x=\"628.980469\" xlink:href=\"#DejaVuSans-32\"/>\n     <use x=\"660.767578\" xlink:href=\"#DejaVuSans-118\"/>\n     <use x=\"719.947266\" xlink:href=\"#DejaVuSans-97\"/>\n     <use x=\"781.226562\" xlink:href=\"#DejaVuSans-108\"/>\n     <use x=\"809.009766\" xlink:href=\"#DejaVuSans-105\"/>\n     <use x=\"836.792969\" xlink:href=\"#DejaVuSans-100\"/>\n     <use x=\"900.269531\" xlink:href=\"#DejaVuSans-97\"/>\n     <use x=\"961.548828\" xlink:href=\"#DejaVuSans-116\"/>\n     <use x=\"1000.757812\" xlink:href=\"#DejaVuSans-105\"/>\n     <use x=\"1028.541016\" xlink:href=\"#DejaVuSans-111\"/>\n     <use x=\"1089.722656\" xlink:href=\"#DejaVuSans-110\"/>\n     <use x=\"1153.101562\" xlink:href=\"#DejaVuSans-32\"/>\n     <use x=\"1184.888672\" xlink:href=\"#DejaVuSans-65\"/>\n     <use x=\"1253.296875\" xlink:href=\"#DejaVuSans-85\"/>\n     <use x=\"1326.490234\" xlink:href=\"#DejaVuSans-67\"/>\n    </g>\n   </g>\n  </g>\n  <g id=\"axes_3\">\n   <g id=\"patch_13\">\n    <path d=\"M 43.78125 674.638125 \nL 424.235795 674.638125 \nL 424.235795 378.129034 \nL 43.78125 378.129034 \nz\n\" style=\"fill:#ffffff;\"/>\n   </g>\n   <g id=\"matplotlib.axis_5\">\n    <g id=\"xtick_15\">\n     <g id=\"line2d_35\">\n      <g>\n       <use style=\"stroke:#000000;stroke-width:0.8;\" x=\"87.679851\" xlink:href=\"#me6cb09feda\" y=\"674.638125\"/>\n      </g>\n     </g>\n     <g id=\"text_35\">\n      <!-- 2 -->\n      <g transform=\"translate(84.498601 689.236562)scale(0.1 -0.1)\">\n       <use xlink:href=\"#DejaVuSans-50\"/>\n      </g>\n     </g>\n    </g>\n    <g id=\"xtick_16\">\n     <g id=\"line2d_36\">\n      <g>\n       <use style=\"stroke:#000000;stroke-width:0.8;\" x=\"140.890277\" xlink:href=\"#me6cb09feda\" y=\"674.638125\"/>\n      </g>\n     </g>\n     <g id=\"text_36\">\n      <!-- 4 -->\n      <g transform=\"translate(137.709027 689.236562)scale(0.1 -0.1)\">\n       <use xlink:href=\"#DejaVuSans-52\"/>\n      </g>\n     </g>\n    </g>\n    <g id=\"xtick_17\">\n     <g id=\"line2d_37\">\n      <g>\n       <use style=\"stroke:#000000;stroke-width:0.8;\" x=\"194.100703\" xlink:href=\"#me6cb09feda\" y=\"674.638125\"/>\n      </g>\n     </g>\n     <g id=\"text_37\">\n      <!-- 6 -->\n      <g transform=\"translate(190.919453 689.236562)scale(0.1 -0.1)\">\n       <use xlink:href=\"#DejaVuSans-54\"/>\n      </g>\n     </g>\n    </g>\n    <g id=\"xtick_18\">\n     <g id=\"line2d_38\">\n      <g>\n       <use style=\"stroke:#000000;stroke-width:0.8;\" x=\"247.311129\" xlink:href=\"#me6cb09feda\" y=\"674.638125\"/>\n      </g>\n     </g>\n     <g id=\"text_38\">\n      <!-- 8 -->\n      <g transform=\"translate(244.129879 689.236562)scale(0.1 -0.1)\">\n       <use xlink:href=\"#DejaVuSans-56\"/>\n      </g>\n     </g>\n    </g>\n    <g id=\"xtick_19\">\n     <g id=\"line2d_39\">\n      <g>\n       <use style=\"stroke:#000000;stroke-width:0.8;\" x=\"300.521555\" xlink:href=\"#me6cb09feda\" y=\"674.638125\"/>\n      </g>\n     </g>\n     <g id=\"text_39\">\n      <!-- 10 -->\n      <g transform=\"translate(294.159055 689.236562)scale(0.1 -0.1)\">\n       <use xlink:href=\"#DejaVuSans-49\"/>\n       <use x=\"63.623047\" xlink:href=\"#DejaVuSans-48\"/>\n      </g>\n     </g>\n    </g>\n    <g id=\"xtick_20\">\n     <g id=\"line2d_40\">\n      <g>\n       <use style=\"stroke:#000000;stroke-width:0.8;\" x=\"353.731981\" xlink:href=\"#me6cb09feda\" y=\"674.638125\"/>\n      </g>\n     </g>\n     <g id=\"text_40\">\n      <!-- 12 -->\n      <g transform=\"translate(347.369481 689.236562)scale(0.1 -0.1)\">\n       <use xlink:href=\"#DejaVuSans-49\"/>\n       <use x=\"63.623047\" xlink:href=\"#DejaVuSans-50\"/>\n      </g>\n     </g>\n    </g>\n    <g id=\"xtick_21\">\n     <g id=\"line2d_41\">\n      <g>\n       <use style=\"stroke:#000000;stroke-width:0.8;\" x=\"406.942407\" xlink:href=\"#me6cb09feda\" y=\"674.638125\"/>\n      </g>\n     </g>\n     <g id=\"text_41\">\n      <!-- 14 -->\n      <g transform=\"translate(400.579907 689.236562)scale(0.1 -0.1)\">\n       <use xlink:href=\"#DejaVuSans-49\"/>\n       <use x=\"63.623047\" xlink:href=\"#DejaVuSans-52\"/>\n      </g>\n     </g>\n    </g>\n    <g id=\"text_42\">\n     <!-- Epochs -->\n     <g transform=\"translate(216.092898 702.914687)scale(0.1 -0.1)\">\n      <use xlink:href=\"#DejaVuSans-69\"/>\n      <use x=\"63.183594\" xlink:href=\"#DejaVuSans-112\"/>\n      <use x=\"126.660156\" xlink:href=\"#DejaVuSans-111\"/>\n      <use x=\"187.841797\" xlink:href=\"#DejaVuSans-99\"/>\n      <use x=\"242.822266\" xlink:href=\"#DejaVuSans-104\"/>\n      <use x=\"306.201172\" xlink:href=\"#DejaVuSans-115\"/>\n     </g>\n    </g>\n   </g>\n   <g id=\"matplotlib.axis_6\">\n    <g id=\"ytick_13\">\n     <g id=\"line2d_42\">\n      <g>\n       <use style=\"stroke:#000000;stroke-width:0.8;\" x=\"43.78125\" xlink:href=\"#m5ea2a1445e\" y=\"648.761228\"/>\n      </g>\n     </g>\n     <g id=\"text_43\">\n      <!-- 0.6 -->\n      <g transform=\"translate(20.878125 652.560447)scale(0.1 -0.1)\">\n       <use xlink:href=\"#DejaVuSans-48\"/>\n       <use x=\"63.623047\" xlink:href=\"#DejaVuSans-46\"/>\n       <use x=\"95.410156\" xlink:href=\"#DejaVuSans-54\"/>\n      </g>\n     </g>\n    </g>\n    <g id=\"ytick_14\">\n     <g id=\"line2d_43\">\n      <g>\n       <use style=\"stroke:#000000;stroke-width:0.8;\" x=\"43.78125\" xlink:href=\"#m5ea2a1445e\" y=\"584.472601\"/>\n      </g>\n     </g>\n     <g id=\"text_44\">\n      <!-- 0.7 -->\n      <g transform=\"translate(20.878125 588.27182)scale(0.1 -0.1)\">\n       <use xlink:href=\"#DejaVuSans-48\"/>\n       <use x=\"63.623047\" xlink:href=\"#DejaVuSans-46\"/>\n       <use x=\"95.410156\" xlink:href=\"#DejaVuSans-55\"/>\n      </g>\n     </g>\n    </g>\n    <g id=\"ytick_15\">\n     <g id=\"line2d_44\">\n      <g>\n       <use style=\"stroke:#000000;stroke-width:0.8;\" x=\"43.78125\" xlink:href=\"#m5ea2a1445e\" y=\"520.183974\"/>\n      </g>\n     </g>\n     <g id=\"text_45\">\n      <!-- 0.8 -->\n      <g transform=\"translate(20.878125 523.983193)scale(0.1 -0.1)\">\n       <use xlink:href=\"#DejaVuSans-48\"/>\n       <use x=\"63.623047\" xlink:href=\"#DejaVuSans-46\"/>\n       <use x=\"95.410156\" xlink:href=\"#DejaVuSans-56\"/>\n      </g>\n     </g>\n    </g>\n    <g id=\"ytick_16\">\n     <g id=\"line2d_45\">\n      <g>\n       <use style=\"stroke:#000000;stroke-width:0.8;\" x=\"43.78125\" xlink:href=\"#m5ea2a1445e\" y=\"455.895347\"/>\n      </g>\n     </g>\n     <g id=\"text_46\">\n      <!-- 0.9 -->\n      <g transform=\"translate(20.878125 459.694566)scale(0.1 -0.1)\">\n       <use xlink:href=\"#DejaVuSans-48\"/>\n       <use x=\"63.623047\" xlink:href=\"#DejaVuSans-46\"/>\n       <use x=\"95.410156\" xlink:href=\"#DejaVuSans-57\"/>\n      </g>\n     </g>\n    </g>\n    <g id=\"ytick_17\">\n     <g id=\"line2d_46\">\n      <g>\n       <use style=\"stroke:#000000;stroke-width:0.8;\" x=\"43.78125\" xlink:href=\"#m5ea2a1445e\" y=\"391.60672\"/>\n      </g>\n     </g>\n     <g id=\"text_47\">\n      <!-- 1.0 -->\n      <g transform=\"translate(20.878125 395.405939)scale(0.1 -0.1)\">\n       <use xlink:href=\"#DejaVuSans-49\"/>\n       <use x=\"63.623047\" xlink:href=\"#DejaVuSans-46\"/>\n       <use x=\"95.410156\" xlink:href=\"#DejaVuSans-48\"/>\n      </g>\n     </g>\n    </g>\n    <g id=\"text_48\">\n     <!-- Accuracy -->\n     <defs>\n      <path d=\"M 8.5 21.578125 \nL 8.5 54.6875 \nL 17.484375 54.6875 \nL 17.484375 21.921875 \nQ 17.484375 14.15625 20.5 10.265625 \nQ 23.53125 6.390625 29.59375 6.390625 \nQ 36.859375 6.390625 41.078125 11.03125 \nQ 45.3125 15.671875 45.3125 23.6875 \nL 45.3125 54.6875 \nL 54.296875 54.6875 \nL 54.296875 0 \nL 45.3125 0 \nL 45.3125 8.40625 \nQ 42.046875 3.421875 37.71875 1 \nQ 33.40625 -1.421875 27.6875 -1.421875 \nQ 18.265625 -1.421875 13.375 4.4375 \nQ 8.5 10.296875 8.5 21.578125 \nz\nM 31.109375 56 \nz\n\" id=\"DejaVuSans-117\"/>\n      <path d=\"M 32.171875 -5.078125 \nQ 28.375 -14.84375 24.75 -17.8125 \nQ 21.140625 -20.796875 15.09375 -20.796875 \nL 7.90625 -20.796875 \nL 7.90625 -13.28125 \nL 13.1875 -13.28125 \nQ 16.890625 -13.28125 18.9375 -11.515625 \nQ 21 -9.765625 23.484375 -3.21875 \nL 25.09375 0.875 \nL 2.984375 54.6875 \nL 12.5 54.6875 \nL 29.59375 11.921875 \nL 46.6875 54.6875 \nL 56.203125 54.6875 \nz\n\" id=\"DejaVuSans-121\"/>\n     </defs>\n     <g transform=\"translate(14.798438 549.298423)rotate(-90)scale(0.1 -0.1)\">\n      <use xlink:href=\"#DejaVuSans-65\"/>\n      <use x=\"68.392578\" xlink:href=\"#DejaVuSans-99\"/>\n      <use x=\"123.373047\" xlink:href=\"#DejaVuSans-99\"/>\n      <use x=\"178.353516\" xlink:href=\"#DejaVuSans-117\"/>\n      <use x=\"241.732422\" xlink:href=\"#DejaVuSans-114\"/>\n      <use x=\"282.845703\" xlink:href=\"#DejaVuSans-97\"/>\n      <use x=\"344.125\" xlink:href=\"#DejaVuSans-99\"/>\n      <use x=\"399.105469\" xlink:href=\"#DejaVuSans-121\"/>\n     </g>\n    </g>\n   </g>\n   <g id=\"line2d_47\">\n    <defs>\n     <path d=\"M 0 1.5 \nC 0.397805 1.5 0.77937 1.341951 1.06066 1.06066 \nC 1.341951 0.77937 1.5 0.397805 1.5 0 \nC 1.5 -0.397805 1.341951 -0.77937 1.06066 -1.06066 \nC 0.77937 -1.341951 0.397805 -1.5 0 -1.5 \nC -0.397805 -1.5 -0.77937 -1.341951 -1.06066 -1.06066 \nC -1.341951 -0.77937 -1.5 -0.397805 -1.5 0 \nC -1.5 0.397805 -1.341951 0.77937 -1.06066 1.06066 \nC -0.77937 1.341951 -0.397805 1.5 0 1.5 \nz\n\" id=\"mc16a32369e\" style=\"stroke:#0000ff;\"/>\n    </defs>\n    <g clip-path=\"url(#pe981d687cc)\">\n     <use style=\"fill:#0000ff;stroke:#0000ff;\" x=\"61.074638\" xlink:href=\"#mc16a32369e\" y=\"661.160439\"/>\n     <use style=\"fill:#0000ff;stroke:#0000ff;\" x=\"87.679851\" xlink:href=\"#mc16a32369e\" y=\"468.516417\"/>\n     <use style=\"fill:#0000ff;stroke:#0000ff;\" x=\"114.285064\" xlink:href=\"#mc16a32369e\" y=\"443.372864\"/>\n     <use style=\"fill:#0000ff;stroke:#0000ff;\" x=\"140.890277\" xlink:href=\"#mc16a32369e\" y=\"442.263605\"/>\n     <use style=\"fill:#0000ff;stroke:#0000ff;\" x=\"167.49549\" xlink:href=\"#mc16a32369e\" y=\"432.52663\"/>\n     <use style=\"fill:#0000ff;stroke:#0000ff;\" x=\"194.100703\" xlink:href=\"#mc16a32369e\" y=\"432.033618\"/>\n     <use style=\"fill:#0000ff;stroke:#0000ff;\" x=\"220.705916\" xlink:href=\"#mc16a32369e\" y=\"429.938335\"/>\n     <use style=\"fill:#0000ff;stroke:#0000ff;\" x=\"247.311129\" xlink:href=\"#mc16a32369e\" y=\"426.610482\"/>\n     <use style=\"fill:#0000ff;stroke:#0000ff;\" x=\"273.916342\" xlink:href=\"#mc16a32369e\" y=\"420.940878\"/>\n     <use style=\"fill:#0000ff;stroke:#0000ff;\" x=\"300.521555\" xlink:href=\"#mc16a32369e\" y=\"421.557125\"/>\n     <use style=\"fill:#0000ff;stroke:#0000ff;\" x=\"327.126768\" xlink:href=\"#mc16a32369e\" y=\"418.722323\"/>\n     <use style=\"fill:#0000ff;stroke:#0000ff;\" x=\"353.731981\" xlink:href=\"#mc16a32369e\" y=\"416.257261\"/>\n     <use style=\"fill:#0000ff;stroke:#0000ff;\" x=\"380.337194\" xlink:href=\"#mc16a32369e\" y=\"417.243286\"/>\n     <use style=\"fill:#0000ff;stroke:#0000ff;\" x=\"406.942407\" xlink:href=\"#mc16a32369e\" y=\"420.940878\"/>\n    </g>\n   </g>\n   <g id=\"line2d_48\">\n    <path clip-path=\"url(#pe981d687cc)\" d=\"M 61.074638 512.147896 \nL 87.679851 431.787112 \nL 114.285064 471.967504 \nL 140.890277 391.60672 \nL 167.49549 391.60672 \nL 194.100703 391.60672 \nL 220.705916 391.60672 \nL 247.311129 431.787112 \nL 273.916342 391.60672 \nL 300.521555 431.787112 \nL 327.126768 471.967504 \nL 353.731981 471.967504 \nL 380.337194 431.787112 \nL 406.942407 471.967504 \n\" style=\"fill:none;stroke:#0000ff;stroke-linecap:square;stroke-width:1.5;\"/>\n   </g>\n   <g id=\"patch_14\">\n    <path d=\"M 43.78125 674.638125 \nL 43.78125 378.129034 \n\" style=\"fill:none;stroke:#000000;stroke-linecap:square;stroke-linejoin:miter;stroke-width:0.8;\"/>\n   </g>\n   <g id=\"patch_15\">\n    <path d=\"M 424.235795 674.638125 \nL 424.235795 378.129034 \n\" style=\"fill:none;stroke:#000000;stroke-linecap:square;stroke-linejoin:miter;stroke-width:0.8;\"/>\n   </g>\n   <g id=\"patch_16\">\n    <path d=\"M 43.78125 674.638125 \nL 424.235795 674.638125 \n\" style=\"fill:none;stroke:#000000;stroke-linecap:square;stroke-linejoin:miter;stroke-width:0.8;\"/>\n   </g>\n   <g id=\"patch_17\">\n    <path d=\"M 43.78125 378.129034 \nL 424.235795 378.129034 \n\" style=\"fill:none;stroke:#000000;stroke-linecap:square;stroke-linejoin:miter;stroke-width:0.8;\"/>\n   </g>\n   <g id=\"text_49\">\n    <!-- Training and validation Accuracy -->\n    <g transform=\"translate(135.41821 372.129034)scale(0.12 -0.12)\">\n     <use xlink:href=\"#DejaVuSans-84\"/>\n     <use x=\"60.865234\" xlink:href=\"#DejaVuSans-114\"/>\n     <use x=\"101.978516\" xlink:href=\"#DejaVuSans-97\"/>\n     <use x=\"163.257812\" xlink:href=\"#DejaVuSans-105\"/>\n     <use x=\"191.041016\" xlink:href=\"#DejaVuSans-110\"/>\n     <use x=\"254.419922\" xlink:href=\"#DejaVuSans-105\"/>\n     <use x=\"282.203125\" xlink:href=\"#DejaVuSans-110\"/>\n     <use x=\"345.582031\" xlink:href=\"#DejaVuSans-103\"/>\n     <use x=\"409.058594\" xlink:href=\"#DejaVuSans-32\"/>\n     <use x=\"440.845703\" xlink:href=\"#DejaVuSans-97\"/>\n     <use x=\"502.125\" xlink:href=\"#DejaVuSans-110\"/>\n     <use x=\"565.503906\" xlink:href=\"#DejaVuSans-100\"/>\n     <use x=\"628.980469\" xlink:href=\"#DejaVuSans-32\"/>\n     <use x=\"660.767578\" xlink:href=\"#DejaVuSans-118\"/>\n     <use x=\"719.947266\" xlink:href=\"#DejaVuSans-97\"/>\n     <use x=\"781.226562\" xlink:href=\"#DejaVuSans-108\"/>\n     <use x=\"809.009766\" xlink:href=\"#DejaVuSans-105\"/>\n     <use x=\"836.792969\" xlink:href=\"#DejaVuSans-100\"/>\n     <use x=\"900.269531\" xlink:href=\"#DejaVuSans-97\"/>\n     <use x=\"961.548828\" xlink:href=\"#DejaVuSans-116\"/>\n     <use x=\"1000.757812\" xlink:href=\"#DejaVuSans-105\"/>\n     <use x=\"1028.541016\" xlink:href=\"#DejaVuSans-111\"/>\n     <use x=\"1089.722656\" xlink:href=\"#DejaVuSans-110\"/>\n     <use x=\"1153.101562\" xlink:href=\"#DejaVuSans-32\"/>\n     <use x=\"1184.888672\" xlink:href=\"#DejaVuSans-65\"/>\n     <use x=\"1253.28125\" xlink:href=\"#DejaVuSans-99\"/>\n     <use x=\"1308.261719\" xlink:href=\"#DejaVuSans-99\"/>\n     <use x=\"1363.242188\" xlink:href=\"#DejaVuSans-117\"/>\n     <use x=\"1426.621094\" xlink:href=\"#DejaVuSans-114\"/>\n     <use x=\"1467.734375\" xlink:href=\"#DejaVuSans-97\"/>\n     <use x=\"1529.013672\" xlink:href=\"#DejaVuSans-99\"/>\n     <use x=\"1583.994141\" xlink:href=\"#DejaVuSans-121\"/>\n    </g>\n   </g>\n  </g>\n  <g id=\"axes_4\">\n   <g id=\"patch_18\">\n    <path d=\"M 500.326705 674.638125 \nL 880.78125 674.638125 \nL 880.78125 378.129034 \nL 500.326705 378.129034 \nz\n\" style=\"fill:#ffffff;\"/>\n   </g>\n   <g id=\"matplotlib.axis_7\">\n    <g id=\"xtick_22\">\n     <g id=\"line2d_49\">\n      <g>\n       <use style=\"stroke:#000000;stroke-width:0.8;\" x=\"544.225306\" xlink:href=\"#me6cb09feda\" y=\"674.638125\"/>\n      </g>\n     </g>\n     <g id=\"text_50\">\n      <!-- 2 -->\n      <g transform=\"translate(541.044056 689.236562)scale(0.1 -0.1)\">\n       <use xlink:href=\"#DejaVuSans-50\"/>\n      </g>\n     </g>\n    </g>\n    <g id=\"xtick_23\">\n     <g id=\"line2d_50\">\n      <g>\n       <use style=\"stroke:#000000;stroke-width:0.8;\" x=\"597.435732\" xlink:href=\"#me6cb09feda\" y=\"674.638125\"/>\n      </g>\n     </g>\n     <g id=\"text_51\">\n      <!-- 4 -->\n      <g transform=\"translate(594.254482 689.236562)scale(0.1 -0.1)\">\n       <use xlink:href=\"#DejaVuSans-52\"/>\n      </g>\n     </g>\n    </g>\n    <g id=\"xtick_24\">\n     <g id=\"line2d_51\">\n      <g>\n       <use style=\"stroke:#000000;stroke-width:0.8;\" x=\"650.646158\" xlink:href=\"#me6cb09feda\" y=\"674.638125\"/>\n      </g>\n     </g>\n     <g id=\"text_52\">\n      <!-- 6 -->\n      <g transform=\"translate(647.464908 689.236562)scale(0.1 -0.1)\">\n       <use xlink:href=\"#DejaVuSans-54\"/>\n      </g>\n     </g>\n    </g>\n    <g id=\"xtick_25\">\n     <g id=\"line2d_52\">\n      <g>\n       <use style=\"stroke:#000000;stroke-width:0.8;\" x=\"703.856584\" xlink:href=\"#me6cb09feda\" y=\"674.638125\"/>\n      </g>\n     </g>\n     <g id=\"text_53\">\n      <!-- 8 -->\n      <g transform=\"translate(700.675334 689.236562)scale(0.1 -0.1)\">\n       <use xlink:href=\"#DejaVuSans-56\"/>\n      </g>\n     </g>\n    </g>\n    <g id=\"xtick_26\">\n     <g id=\"line2d_53\">\n      <g>\n       <use style=\"stroke:#000000;stroke-width:0.8;\" x=\"757.06701\" xlink:href=\"#me6cb09feda\" y=\"674.638125\"/>\n      </g>\n     </g>\n     <g id=\"text_54\">\n      <!-- 10 -->\n      <g transform=\"translate(750.70451 689.236562)scale(0.1 -0.1)\">\n       <use xlink:href=\"#DejaVuSans-49\"/>\n       <use x=\"63.623047\" xlink:href=\"#DejaVuSans-48\"/>\n      </g>\n     </g>\n    </g>\n    <g id=\"xtick_27\">\n     <g id=\"line2d_54\">\n      <g>\n       <use style=\"stroke:#000000;stroke-width:0.8;\" x=\"810.277436\" xlink:href=\"#me6cb09feda\" y=\"674.638125\"/>\n      </g>\n     </g>\n     <g id=\"text_55\">\n      <!-- 12 -->\n      <g transform=\"translate(803.914936 689.236562)scale(0.1 -0.1)\">\n       <use xlink:href=\"#DejaVuSans-49\"/>\n       <use x=\"63.623047\" xlink:href=\"#DejaVuSans-50\"/>\n      </g>\n     </g>\n    </g>\n    <g id=\"xtick_28\">\n     <g id=\"line2d_55\">\n      <g>\n       <use style=\"stroke:#000000;stroke-width:0.8;\" x=\"863.487862\" xlink:href=\"#me6cb09feda\" y=\"674.638125\"/>\n      </g>\n     </g>\n     <g id=\"text_56\">\n      <!-- 14 -->\n      <g transform=\"translate(857.125362 689.236562)scale(0.1 -0.1)\">\n       <use xlink:href=\"#DejaVuSans-49\"/>\n       <use x=\"63.623047\" xlink:href=\"#DejaVuSans-52\"/>\n      </g>\n     </g>\n    </g>\n    <g id=\"text_57\">\n     <!-- Epochs -->\n     <g transform=\"translate(672.638352 702.914687)scale(0.1 -0.1)\">\n      <use xlink:href=\"#DejaVuSans-69\"/>\n      <use x=\"63.183594\" xlink:href=\"#DejaVuSans-112\"/>\n      <use x=\"126.660156\" xlink:href=\"#DejaVuSans-111\"/>\n      <use x=\"187.841797\" xlink:href=\"#DejaVuSans-99\"/>\n      <use x=\"242.822266\" xlink:href=\"#DejaVuSans-104\"/>\n      <use x=\"306.201172\" xlink:href=\"#DejaVuSans-115\"/>\n     </g>\n    </g>\n   </g>\n   <g id=\"matplotlib.axis_8\">\n    <g id=\"ytick_18\">\n     <g id=\"line2d_56\">\n      <g>\n       <use style=\"stroke:#000000;stroke-width:0.8;\" x=\"500.326705\" xlink:href=\"#m5ea2a1445e\" y=\"674.062281\"/>\n      </g>\n     </g>\n     <g id=\"text_58\">\n      <!-- 0.5 -->\n      <g transform=\"translate(477.42358 677.8615)scale(0.1 -0.1)\">\n       <use xlink:href=\"#DejaVuSans-48\"/>\n       <use x=\"63.623047\" xlink:href=\"#DejaVuSans-46\"/>\n       <use x=\"95.410156\" xlink:href=\"#DejaVuSans-53\"/>\n      </g>\n     </g>\n    </g>\n    <g id=\"ytick_19\">\n     <g id=\"line2d_57\">\n      <g>\n       <use style=\"stroke:#000000;stroke-width:0.8;\" x=\"500.326705\" xlink:href=\"#m5ea2a1445e\" y=\"617.571169\"/>\n      </g>\n     </g>\n     <g id=\"text_59\">\n      <!-- 0.6 -->\n      <g transform=\"translate(477.42358 621.370388)scale(0.1 -0.1)\">\n       <use xlink:href=\"#DejaVuSans-48\"/>\n       <use x=\"63.623047\" xlink:href=\"#DejaVuSans-46\"/>\n       <use x=\"95.410156\" xlink:href=\"#DejaVuSans-54\"/>\n      </g>\n     </g>\n    </g>\n    <g id=\"ytick_20\">\n     <g id=\"line2d_58\">\n      <g>\n       <use style=\"stroke:#000000;stroke-width:0.8;\" x=\"500.326705\" xlink:href=\"#m5ea2a1445e\" y=\"561.080057\"/>\n      </g>\n     </g>\n     <g id=\"text_60\">\n      <!-- 0.7 -->\n      <g transform=\"translate(477.42358 564.879276)scale(0.1 -0.1)\">\n       <use xlink:href=\"#DejaVuSans-48\"/>\n       <use x=\"63.623047\" xlink:href=\"#DejaVuSans-46\"/>\n       <use x=\"95.410156\" xlink:href=\"#DejaVuSans-55\"/>\n      </g>\n     </g>\n    </g>\n    <g id=\"ytick_21\">\n     <g id=\"line2d_59\">\n      <g>\n       <use style=\"stroke:#000000;stroke-width:0.8;\" x=\"500.326705\" xlink:href=\"#m5ea2a1445e\" y=\"504.588945\"/>\n      </g>\n     </g>\n     <g id=\"text_61\">\n      <!-- 0.8 -->\n      <g transform=\"translate(477.42358 508.388163)scale(0.1 -0.1)\">\n       <use xlink:href=\"#DejaVuSans-48\"/>\n       <use x=\"63.623047\" xlink:href=\"#DejaVuSans-46\"/>\n       <use x=\"95.410156\" xlink:href=\"#DejaVuSans-56\"/>\n      </g>\n     </g>\n    </g>\n    <g id=\"ytick_22\">\n     <g id=\"line2d_60\">\n      <g>\n       <use style=\"stroke:#000000;stroke-width:0.8;\" x=\"500.326705\" xlink:href=\"#m5ea2a1445e\" y=\"448.097832\"/>\n      </g>\n     </g>\n     <g id=\"text_62\">\n      <!-- 0.9 -->\n      <g transform=\"translate(477.42358 451.897051)scale(0.1 -0.1)\">\n       <use xlink:href=\"#DejaVuSans-48\"/>\n       <use x=\"63.623047\" xlink:href=\"#DejaVuSans-46\"/>\n       <use x=\"95.410156\" xlink:href=\"#DejaVuSans-57\"/>\n      </g>\n     </g>\n    </g>\n    <g id=\"ytick_23\">\n     <g id=\"line2d_61\">\n      <g>\n       <use style=\"stroke:#000000;stroke-width:0.8;\" x=\"500.326705\" xlink:href=\"#m5ea2a1445e\" y=\"391.60672\"/>\n      </g>\n     </g>\n     <g id=\"text_63\">\n      <!-- 1.0 -->\n      <g transform=\"translate(477.42358 395.405939)scale(0.1 -0.1)\">\n       <use xlink:href=\"#DejaVuSans-49\"/>\n       <use x=\"63.623047\" xlink:href=\"#DejaVuSans-46\"/>\n       <use x=\"95.410156\" xlink:href=\"#DejaVuSans-48\"/>\n      </g>\n     </g>\n    </g>\n    <g id=\"text_64\">\n     <!-- Recall -->\n     <defs>\n      <path d=\"M 44.390625 34.1875 \nQ 47.5625 33.109375 50.5625 29.59375 \nQ 53.5625 26.078125 56.59375 19.921875 \nL 66.609375 0 \nL 56 0 \nL 46.6875 18.703125 \nQ 43.0625 26.03125 39.671875 28.421875 \nQ 36.28125 30.8125 30.421875 30.8125 \nL 19.671875 30.8125 \nL 19.671875 0 \nL 9.8125 0 \nL 9.8125 72.90625 \nL 32.078125 72.90625 \nQ 44.578125 72.90625 50.734375 67.671875 \nQ 56.890625 62.453125 56.890625 51.90625 \nQ 56.890625 45.015625 53.6875 40.46875 \nQ 50.484375 35.9375 44.390625 34.1875 \nz\nM 19.671875 64.796875 \nL 19.671875 38.921875 \nL 32.078125 38.921875 \nQ 39.203125 38.921875 42.84375 42.21875 \nQ 46.484375 45.515625 46.484375 51.90625 \nQ 46.484375 58.296875 42.84375 61.546875 \nQ 39.203125 64.796875 32.078125 64.796875 \nz\n\" id=\"DejaVuSans-82\"/>\n      <path d=\"M 56.203125 29.59375 \nL 56.203125 25.203125 \nL 14.890625 25.203125 \nQ 15.484375 15.921875 20.484375 11.0625 \nQ 25.484375 6.203125 34.421875 6.203125 \nQ 39.59375 6.203125 44.453125 7.46875 \nQ 49.3125 8.734375 54.109375 11.28125 \nL 54.109375 2.78125 \nQ 49.265625 0.734375 44.1875 -0.34375 \nQ 39.109375 -1.421875 33.890625 -1.421875 \nQ 20.796875 -1.421875 13.15625 6.1875 \nQ 5.515625 13.8125 5.515625 26.8125 \nQ 5.515625 40.234375 12.765625 48.109375 \nQ 20.015625 56 32.328125 56 \nQ 43.359375 56 49.78125 48.890625 \nQ 56.203125 41.796875 56.203125 29.59375 \nz\nM 47.21875 32.234375 \nQ 47.125 39.59375 43.09375 43.984375 \nQ 39.0625 48.390625 32.421875 48.390625 \nQ 24.90625 48.390625 20.390625 44.140625 \nQ 15.875 39.890625 15.1875 32.171875 \nz\n\" id=\"DejaVuSans-101\"/>\n     </defs>\n     <g transform=\"translate(471.343892 541.522642)rotate(-90)scale(0.1 -0.1)\">\n      <use xlink:href=\"#DejaVuSans-82\"/>\n      <use x=\"69.419922\" xlink:href=\"#DejaVuSans-101\"/>\n      <use x=\"130.943359\" xlink:href=\"#DejaVuSans-99\"/>\n      <use x=\"185.923828\" xlink:href=\"#DejaVuSans-97\"/>\n      <use x=\"247.203125\" xlink:href=\"#DejaVuSans-108\"/>\n      <use x=\"274.986328\" xlink:href=\"#DejaVuSans-108\"/>\n     </g>\n    </g>\n   </g>\n   <g id=\"line2d_62\">\n    <defs>\n     <path d=\"M 0 1.5 \nC 0.397805 1.5 0.77937 1.341951 1.06066 1.06066 \nC 1.341951 0.77937 1.5 0.397805 1.5 0 \nC 1.5 -0.397805 1.341951 -0.77937 1.06066 -1.06066 \nC 0.77937 -1.341951 0.397805 -1.5 0 -1.5 \nC -0.397805 -1.5 -0.77937 -1.341951 -1.06066 -1.06066 \nC -1.341951 -0.77937 -1.5 -0.397805 -1.5 0 \nC -1.5 0.397805 -1.341951 0.77937 -1.06066 1.06066 \nC -0.77937 1.341951 -0.397805 1.5 0 1.5 \nz\n\" id=\"mbbf27f851b\" style=\"stroke:#bfbf00;\"/>\n    </defs>\n    <g clip-path=\"url(#pf371749a37)\">\n     <use style=\"fill:#bfbf00;stroke:#bfbf00;\" x=\"517.620093\" xlink:href=\"#mbbf27f851b\" y=\"661.160439\"/>\n     <use style=\"fill:#bfbf00;stroke:#bfbf00;\" x=\"544.225306\" xlink:href=\"#mbbf27f851b\" y=\"461.874368\"/>\n     <use style=\"fill:#bfbf00;stroke:#bfbf00;\" x=\"570.830519\" xlink:href=\"#mbbf27f851b\" y=\"439.132148\"/>\n     <use style=\"fill:#bfbf00;stroke:#bfbf00;\" x=\"597.435732\" xlink:href=\"#mbbf27f851b\" y=\"436.21648\"/>\n     <use style=\"fill:#bfbf00;stroke:#bfbf00;\" x=\"624.040945\" xlink:href=\"#mbbf27f851b\" y=\"428.927312\"/>\n     <use style=\"fill:#bfbf00;stroke:#bfbf00;\" x=\"650.646158\" xlink:href=\"#mbbf27f851b\" y=\"428.198395\"/>\n     <use style=\"fill:#bfbf00;stroke:#bfbf00;\" x=\"677.251371\" xlink:href=\"#mbbf27f851b\" y=\"427.615241\"/>\n     <use style=\"fill:#bfbf00;stroke:#bfbf00;\" x=\"703.856584\" xlink:href=\"#mbbf27f851b\" y=\"423.5333\"/>\n     <use style=\"fill:#bfbf00;stroke:#bfbf00;\" x=\"730.461797\" xlink:href=\"#mbbf27f851b\" y=\"418.430882\"/>\n     <use style=\"fill:#bfbf00;stroke:#bfbf00;\" x=\"757.06701\" xlink:href=\"#mbbf27f851b\" y=\"418.868238\"/>\n     <use style=\"fill:#bfbf00;stroke:#bfbf00;\" x=\"783.672223\" xlink:href=\"#mbbf27f851b\" y=\"417.410405\"/>\n     <use style=\"fill:#bfbf00;stroke:#bfbf00;\" x=\"810.277436\" xlink:href=\"#mbbf27f851b\" y=\"414.05738\"/>\n     <use style=\"fill:#bfbf00;stroke:#bfbf00;\" x=\"836.882649\" xlink:href=\"#mbbf27f851b\" y=\"415.515214\"/>\n     <use style=\"fill:#bfbf00;stroke:#bfbf00;\" x=\"863.487862\" xlink:href=\"#mbbf27f851b\" y=\"417.701965\"/>\n    </g>\n   </g>\n   <g id=\"line2d_63\">\n    <path clip-path=\"url(#pf371749a37)\" d=\"M 517.620093 391.60672 \nL 544.225306 391.60672 \nL 570.830519 391.60672 \nL 597.435732 391.60672 \nL 624.040945 391.60672 \nL 650.646158 391.60672 \nL 677.251371 391.60672 \nL 703.856584 391.60672 \nL 730.461797 391.60672 \nL 757.06701 391.60672 \nL 783.672223 391.60672 \nL 810.277436 391.60672 \nL 836.882649 391.60672 \nL 863.487862 391.60672 \n\" style=\"fill:none;stroke:#bfbf00;stroke-linecap:square;stroke-width:1.5;\"/>\n   </g>\n   <g id=\"patch_19\">\n    <path d=\"M 500.326705 674.638125 \nL 500.326705 378.129034 \n\" style=\"fill:none;stroke:#000000;stroke-linecap:square;stroke-linejoin:miter;stroke-width:0.8;\"/>\n   </g>\n   <g id=\"patch_20\">\n    <path d=\"M 880.78125 674.638125 \nL 880.78125 378.129034 \n\" style=\"fill:none;stroke:#000000;stroke-linecap:square;stroke-linejoin:miter;stroke-width:0.8;\"/>\n   </g>\n   <g id=\"patch_21\">\n    <path d=\"M 500.326705 674.638125 \nL 880.78125 674.638125 \n\" style=\"fill:none;stroke:#000000;stroke-linecap:square;stroke-linejoin:miter;stroke-width:0.8;\"/>\n   </g>\n   <g id=\"patch_22\">\n    <path d=\"M 500.326705 378.129034 \nL 880.78125 378.129034 \n\" style=\"fill:none;stroke:#000000;stroke-linecap:square;stroke-linejoin:miter;stroke-width:0.8;\"/>\n   </g>\n   <g id=\"text_65\">\n    <!-- Training and validation Recall -->\n    <g transform=\"translate(601.294602 372.129034)scale(0.12 -0.12)\">\n     <use xlink:href=\"#DejaVuSans-84\"/>\n     <use x=\"60.865234\" xlink:href=\"#DejaVuSans-114\"/>\n     <use x=\"101.978516\" xlink:href=\"#DejaVuSans-97\"/>\n     <use x=\"163.257812\" xlink:href=\"#DejaVuSans-105\"/>\n     <use x=\"191.041016\" xlink:href=\"#DejaVuSans-110\"/>\n     <use x=\"254.419922\" xlink:href=\"#DejaVuSans-105\"/>\n     <use x=\"282.203125\" xlink:href=\"#DejaVuSans-110\"/>\n     <use x=\"345.582031\" xlink:href=\"#DejaVuSans-103\"/>\n     <use x=\"409.058594\" xlink:href=\"#DejaVuSans-32\"/>\n     <use x=\"440.845703\" xlink:href=\"#DejaVuSans-97\"/>\n     <use x=\"502.125\" xlink:href=\"#DejaVuSans-110\"/>\n     <use x=\"565.503906\" xlink:href=\"#DejaVuSans-100\"/>\n     <use x=\"628.980469\" xlink:href=\"#DejaVuSans-32\"/>\n     <use x=\"660.767578\" xlink:href=\"#DejaVuSans-118\"/>\n     <use x=\"719.947266\" xlink:href=\"#DejaVuSans-97\"/>\n     <use x=\"781.226562\" xlink:href=\"#DejaVuSans-108\"/>\n     <use x=\"809.009766\" xlink:href=\"#DejaVuSans-105\"/>\n     <use x=\"836.792969\" xlink:href=\"#DejaVuSans-100\"/>\n     <use x=\"900.269531\" xlink:href=\"#DejaVuSans-97\"/>\n     <use x=\"961.548828\" xlink:href=\"#DejaVuSans-116\"/>\n     <use x=\"1000.757812\" xlink:href=\"#DejaVuSans-105\"/>\n     <use x=\"1028.541016\" xlink:href=\"#DejaVuSans-111\"/>\n     <use x=\"1089.722656\" xlink:href=\"#DejaVuSans-110\"/>\n     <use x=\"1153.101562\" xlink:href=\"#DejaVuSans-32\"/>\n     <use x=\"1184.888672\" xlink:href=\"#DejaVuSans-82\"/>\n     <use x=\"1254.308594\" xlink:href=\"#DejaVuSans-101\"/>\n     <use x=\"1315.832031\" xlink:href=\"#DejaVuSans-99\"/>\n     <use x=\"1370.8125\" xlink:href=\"#DejaVuSans-97\"/>\n     <use x=\"1432.091797\" xlink:href=\"#DejaVuSans-108\"/>\n     <use x=\"1459.875\" xlink:href=\"#DejaVuSans-108\"/>\n    </g>\n   </g>\n   <g id=\"legend_2\">\n    <g id=\"patch_23\">\n     <path d=\"M 758.179687 669.638125 \nL 873.78125 669.638125 \nQ 875.78125 669.638125 875.78125 667.638125 \nL 875.78125 639.281875 \nQ 875.78125 637.281875 873.78125 637.281875 \nL 758.179687 637.281875 \nQ 756.179687 637.281875 756.179687 639.281875 \nL 756.179687 667.638125 \nQ 756.179687 669.638125 758.179687 669.638125 \nz\n\" style=\"fill:#ffffff;opacity:0.8;stroke:#cccccc;stroke-linejoin:miter;\"/>\n    </g>\n    <g id=\"line2d_64\"/>\n    <g id=\"line2d_65\">\n     <g>\n      <use style=\"fill:#bfbf00;stroke:#bfbf00;\" x=\"770.179687\" xlink:href=\"#mbbf27f851b\" y=\"645.380312\"/>\n     </g>\n    </g>\n    <g id=\"text_66\">\n     <!-- Training Recall -->\n     <g transform=\"translate(788.179687 648.880312)scale(0.1 -0.1)\">\n      <use xlink:href=\"#DejaVuSans-84\"/>\n      <use x=\"60.865234\" xlink:href=\"#DejaVuSans-114\"/>\n      <use x=\"101.978516\" xlink:href=\"#DejaVuSans-97\"/>\n      <use x=\"163.257812\" xlink:href=\"#DejaVuSans-105\"/>\n      <use x=\"191.041016\" xlink:href=\"#DejaVuSans-110\"/>\n      <use x=\"254.419922\" xlink:href=\"#DejaVuSans-105\"/>\n      <use x=\"282.203125\" xlink:href=\"#DejaVuSans-110\"/>\n      <use x=\"345.582031\" xlink:href=\"#DejaVuSans-103\"/>\n      <use x=\"409.058594\" xlink:href=\"#DejaVuSans-32\"/>\n      <use x=\"440.845703\" xlink:href=\"#DejaVuSans-82\"/>\n      <use x=\"510.265625\" xlink:href=\"#DejaVuSans-101\"/>\n      <use x=\"571.789062\" xlink:href=\"#DejaVuSans-99\"/>\n      <use x=\"626.769531\" xlink:href=\"#DejaVuSans-97\"/>\n      <use x=\"688.048828\" xlink:href=\"#DejaVuSans-108\"/>\n      <use x=\"715.832031\" xlink:href=\"#DejaVuSans-108\"/>\n     </g>\n    </g>\n    <g id=\"line2d_66\">\n     <path d=\"M 760.179687 660.058437 \nL 780.179687 660.058437 \n\" style=\"fill:none;stroke:#bfbf00;stroke-linecap:square;stroke-width:1.5;\"/>\n    </g>\n    <g id=\"line2d_67\"/>\n    <g id=\"text_67\">\n     <!-- Validation Recall -->\n     <g transform=\"translate(788.179687 663.558437)scale(0.1 -0.1)\">\n      <use xlink:href=\"#DejaVuSans-86\"/>\n      <use x=\"68.298828\" xlink:href=\"#DejaVuSans-97\"/>\n      <use x=\"129.578125\" xlink:href=\"#DejaVuSans-108\"/>\n      <use x=\"157.361328\" xlink:href=\"#DejaVuSans-105\"/>\n      <use x=\"185.144531\" xlink:href=\"#DejaVuSans-100\"/>\n      <use x=\"248.621094\" xlink:href=\"#DejaVuSans-97\"/>\n      <use x=\"309.900391\" xlink:href=\"#DejaVuSans-116\"/>\n      <use x=\"349.109375\" xlink:href=\"#DejaVuSans-105\"/>\n      <use x=\"376.892578\" xlink:href=\"#DejaVuSans-111\"/>\n      <use x=\"438.074219\" xlink:href=\"#DejaVuSans-110\"/>\n      <use x=\"501.453125\" xlink:href=\"#DejaVuSans-32\"/>\n      <use x=\"533.240234\" xlink:href=\"#DejaVuSans-82\"/>\n      <use x=\"602.660156\" xlink:href=\"#DejaVuSans-101\"/>\n      <use x=\"664.183594\" xlink:href=\"#DejaVuSans-99\"/>\n      <use x=\"719.164062\" xlink:href=\"#DejaVuSans-97\"/>\n      <use x=\"780.443359\" xlink:href=\"#DejaVuSans-108\"/>\n      <use x=\"808.226562\" xlink:href=\"#DejaVuSans-108\"/>\n     </g>\n    </g>\n   </g>\n  </g>\n </g>\n <defs>\n  <clipPath id=\"p8f4d99926f\">\n   <rect height=\"296.509091\" width=\"380.454545\" x=\"43.78125\" y=\"22.318125\"/>\n  </clipPath>\n  <clipPath id=\"p783ab4ebe1\">\n   <rect height=\"296.509091\" width=\"380.454545\" x=\"500.326705\" y=\"22.318125\"/>\n  </clipPath>\n  <clipPath id=\"pe981d687cc\">\n   <rect height=\"296.509091\" width=\"380.454545\" x=\"43.78125\" y=\"378.129034\"/>\n  </clipPath>\n  <clipPath id=\"pf371749a37\">\n   <rect height=\"296.509091\" width=\"380.454545\" x=\"500.326705\" y=\"378.129034\"/>\n  </clipPath>\n </defs>\n</svg>\n",
      "image/png": "[encoded data removed]"
     },
     "metadata": {
      "needs_background": "light"
     }
    }
   ],
   "source": [
    "# Plotting the progress by epoch\n",
    "\n",
    "graphs.plot_loss(cnn3.history)"
   ]
  },
  {
   "cell_type": "code",
   "execution_count": null,
   "metadata": {},
   "outputs": [],
   "source": [
    "# Generating a confusion matrix from the model predictions\n",
    "\n",
    "predictions = graphs.get_labels(cnn2, X_test, 0.5)\n",
    "graphs.plot_cmatrix(y_test, predictions)"
   ]
  },
  {
   "cell_type": "code",
   "execution_count": null,
   "metadata": {},
   "outputs": [],
   "source": [
    "# Plotting the ROC curve of our predictions\n",
    "\n",
    "graphs.plot_roc_curve(y_test, cnn2.predict(X_test))"
   ]
  },
  {
   "source": [
    "## Transfer Learning\n",
    "\n",
    "Though our initial results are looking good, we decided to bring in some pre-trained models and try to use them in conjuction- both to get ideas about the architecture that could work the best for us and to possibly use a stacking classifier to combine a variety of models for the best possible result."
   ],
   "cell_type": "markdown",
   "metadata": {}
  },
  {
   "source": [
    "### VGG16"
   ],
   "cell_type": "markdown",
   "metadata": {}
  },
  {
   "cell_type": "code",
   "execution_count": null,
   "metadata": {},
   "outputs": [],
   "source": [
    "VGG16_model = VGG16(input_shape = (224, 224, 3), \n",
    "                    # Shape of our images\n",
    "                    include_top = False, \n",
    "                    # Leave out the last fully connected layer\n",
    "                    weights = 'imagenet')\n",
    "\n",
    "for layer in VGG16_model.layers:\n",
    "    layer.trainable = False\n",
    "#making the existing layers untrainable in order to preserve them\n",
    "\n",
    "# Flatten the output layer to 1 dimension\n",
    "x = layers.Flatten()(VGG16_model.output)\n",
    "\n",
    "# Add a fully connected layer with 512 hidden units and ReLU activation\n",
    "x = layers.Dense(512, activation='relu')(x)\n",
    "\n",
    "# Add a dropout rate of 0.5\n",
    "x = layers.Dropout(0.5)(x)\n",
    "\n",
    "# Add a second fully connected layer with 256 hidden units and ReLU activation\n",
    "x = layers.Dense(256, activation='relu')(x)\n",
    "\n",
    "# Dropout with a rate of 0.3\n",
    "x = layers.Dropout(.3)(x)\n",
    "\n",
    "# Add a final sigmoid layer for classification\n",
    "x = layers.Dense(1, activation='sigmoid')(x)\n",
    "\n",
    "vggmodel = tf.keras.models.Model(VGG16_model.input, x)\n",
    "\n",
    "vggmodel.compile(optimizer = 'Adam', \n",
    "              loss = 'binary_crossentropy',\n",
    "              metrics = ['acc', 'Recall', 'AUC'])\n",
    "\n",
    "vgghist = vggmodel.fit(X_train, y_train, \n",
    "                       validation_data = (X_val, y_val), \n",
    "                       epochs = 10, \n",
    "                       batch_size=50, \n",
    "                       class_weight=weights, \n",
    "                       callbacks= callback)"
   ]
  },
  {
   "cell_type": "code",
   "execution_count": null,
   "metadata": {},
   "outputs": [],
   "source": [
    "# evaluating the model on the test set\n",
    "\n",
    "results_test3 = vggmodel.evaluate(X_test, y_test)"
   ]
  },
  {
   "cell_type": "code",
   "execution_count": null,
   "metadata": {},
   "outputs": [],
   "source": [
    "#Plotting loss by epoch\n",
    "\n",
    "graphs.plot_loss(vgghist.history)"
   ]
  },
  {
   "cell_type": "code",
   "execution_count": null,
   "metadata": {},
   "outputs": [],
   "source": [
    "# Generating a confusion matrix from the model predictions\n",
    "\n",
    "predictions = graphs.get_labels(vggmodel, X_test, 0.5)\n",
    "graphs.plot_cmatrix(y_test, predictions)"
   ]
  },
  {
   "cell_type": "code",
   "execution_count": null,
   "metadata": {},
   "outputs": [],
   "source": [
    "# Plotting the ROC curve of our predictions\n",
    "\n",
    "graphs.plot_roc_curve(y_test, vggmodel.predict(X_test))"
   ]
  },
  {
   "source": [
    "### DenseNet121"
   ],
   "cell_type": "markdown",
   "metadata": {}
  },
  {
   "cell_type": "code",
   "execution_count": null,
   "metadata": {},
   "outputs": [],
   "source": [
    "densebase = tf.keras.applications.DenseNet121(\n",
    "    include_top=False,\n",
    "    weights=\"imagenet\",\n",
    "    input_tensor=None,\n",
    "    input_shape=(224,224,3),\n",
    "    pooling='Max',\n",
    "    classes=2,)\n",
    "\n",
    "for layer in densebase.layers:\n",
    "    layer.trainable = False\n",
    "\n",
    "callback = tf.keras.callbacks.EarlyStopping(monitor='loss', patience=3)\n",
    "\n",
    "# Flatten the output layer to 1 dimension\n",
    "a = layers.Flatten()(densebase.output)\n",
    "\n",
    "# Add a fully connected layer with 512 hidden units and ReLU activation\n",
    "a = layers.Dense(512, activation='relu')(a)\n",
    "\n",
    "# Add a dropout rate of 0.5\n",
    "a = layers.Dropout(0.5)(a)\n",
    "\n",
    "# Add a second fully connected layer with 256 hidden units and ReLU activation\n",
    "a = layers.Dense(256, activation='relu')(a)\n",
    "\n",
    "a = layers.Dropout(.3)(a)\n",
    "# Add a final sigmoid layer for classification\n",
    "a = layers.Dense(1, activation='sigmoid')(a)\n",
    "\n",
    "densemodel = tf.keras.models.Model(densebase.input, a)\n",
    "\n",
    "densemodel.compile(optimizer = 'sgd', loss = 'binary_crossentropy',metrics = ['acc', 'Recall', 'AUC'])\n",
    "\n",
    "densehist = densemodel.fit(\n",
    "                      X_train, y_train, \n",
    "                      validation_data = (X_val, y_val), \n",
    "                      epochs = 25, \n",
    "                      batch_size=25, \n",
    "                      class_weight=weights)"
   ]
  },
  {
   "cell_type": "code",
   "execution_count": null,
   "metadata": {},
   "outputs": [],
   "source": [
    "# evaluating the model on the test set\n",
    "\n",
    "results_test4 = densemodel.evaluate(X_test, y_test)"
   ]
  },
  {
   "cell_type": "code",
   "execution_count": null,
   "metadata": {},
   "outputs": [],
   "source": [
    "# Plotting loss by epoch\n",
    "\n",
    "graphs.plot_loss(densehist.history)"
   ]
  },
  {
   "cell_type": "code",
   "execution_count": null,
   "metadata": {},
   "outputs": [],
   "source": [
    "# Generating a confusion matrix from the model predictions\n",
    "\n",
    "predictions = get_labels(densemodel, X_test, 0.5)\n",
    "graphs.plot_cmatrix(y_test, predictions)"
   ]
  },
  {
   "cell_type": "code",
   "execution_count": null,
   "metadata": {},
   "outputs": [],
   "source": [
    "# Plotting the ROC curve of our predictions\n",
    "\n",
    "graphs.plot_roc_curve(y_test, densemodel.predict(X_test))"
   ]
  },
  {
   "source": [
    "### MobileNetV2"
   ],
   "cell_type": "markdown",
   "metadata": {}
  },
  {
   "cell_type": "code",
   "execution_count": null,
   "metadata": {},
   "outputs": [],
   "source": [
    "mobile = tf.keras.applications.MobileNetV2(\n",
    "                input_shape=(224, 224, 3), \n",
    "                alpha=1.0, \n",
    "                include_top=False, \n",
    "                weights='imagenet',\n",
    "                input_tensor=None, \n",
    "                pooling='max', \n",
    "                classes=2)\n",
    "\n",
    "for layer in mobile.layers:\n",
    "    layer.trainable = False\n",
    "\n",
    "callback = tf.keras.callbacks.EarlyStopping(monitor='loss', patience=3)\n",
    "\n",
    "# Flatten the output layer to 1 dimension\n",
    "a = layers.Flatten()(mobile.output)\n",
    "\n",
    "# Add a fully connected layer with 512 hidden units and ReLU activation\n",
    "a = layers.Dense(512, activation='relu')(a)\n",
    "\n",
    "# Add a dropout rate of 0.5\n",
    "a = layers.Dropout(0.5)(a)\n",
    "\n",
    "# Add a second fully connected layer with 256 hidden units and ReLU activation\n",
    "a = layers.Dense(256, activation='relu')(a)\n",
    "\n",
    "a = layers.Dropout(.3)(a)\n",
    "# Add a final sigmoid layer for classification\n",
    "a = layers.Dense(1, activation='sigmoid')(a)\n",
    "\n",
    "mobilemodel = tf.keras.models.Model(mobile.input, a)\n",
    "\n",
    "mobilemodel.compile(optimizer = 'Adam', loss = 'binary_crossentropy',metrics = ['acc', 'Recall', 'AUC'])\n",
    "\n",
    "mobilehist = mobilemodel.fit(X_train, y_train, validation_data = (X_val, y_val), epochs = 20, batch_size=25, class_weight=weights)"
   ]
  },
  {
   "cell_type": "code",
   "execution_count": null,
   "metadata": {},
   "outputs": [],
   "source": [
    "mobile_test = mobilemodel.evaluate(X_test, y_test)"
   ]
  },
  {
   "cell_type": "code",
   "execution_count": null,
   "metadata": {},
   "outputs": [],
   "source": [
    "# Plotting loss by epoch\n",
    "\n",
    "graphs.plot_loss(mobilehist.history)"
   ]
  },
  {
   "cell_type": "code",
   "execution_count": null,
   "metadata": {},
   "outputs": [],
   "source": [
    "# Generating a confusion matrix from the model predictions\n",
    "\n",
    "predictions = get_labels(mobilemodel, X_test, 0.5)\n",
    "graphs.plot_cmatrix(y_test, predictions)"
   ]
  },
  {
   "cell_type": "code",
   "execution_count": null,
   "metadata": {},
   "outputs": [],
   "source": [
    "# Plotting the ROC curve of our predictions\n",
    "\n",
    "graphs.plot_roc_curve(y_test, mobilemodel.predict(X_test))"
   ]
  },
  {
   "source": [
    "### Creating a stacked classifier"
   ],
   "cell_type": "markdown",
   "metadata": {}
  },
  {
   "cell_type": "code",
   "execution_count": 31,
   "metadata": {},
   "outputs": [],
   "source": [
    "from scipy import stats\n",
    "\n",
    "def stacked_classifier(list_of_models,\n",
    "                       X_test,\n",
    "                       y_test,\n",
    "                       model_input_shape=None, \n",
    "                       model_weights=None,\n",
    "                       threshold=0.5,\n",
    "                       soft_voting=True):\n",
    "    \"\"\"\n",
    "    given a list of classifiers, returns a hard or soft voting array of predictions\n",
    "    \"\"\"\n",
    "    # instantiate a prediction matrix\n",
    "    m = len(X_test) # matrix rows\n",
    "    n = len(list_of_models) # matrix columns\n",
    "    prediction_matrix = np.ones((m,n))\n",
    "    # update predictions matrix\n",
    "    for i in range(0,n):\n",
    "        print(f\"Generating predictions for model {i+1}\")\n",
    "        model = list_of_models[i]\n",
    "        p = model.predict(X_test)\n",
    "        prediction_matrix[:,i] *= p.ravel()\n",
    "        print(f\"Finished prediction on model {i+1}\")\n",
    "    # Adjust the weights of each prediction\n",
    "    if model_weights:\n",
    "        print(\"Adjusting weights of the classifier's predictins\", end=\"/n/n\")\n",
    "        for i, weight in enumerate(model_weights):\n",
    "            prediction_matrix[:,i] *= model_weights[weight]\n",
    "    if not soft_voting:\n",
    "        print(\"Returning hard voting predictions\")\n",
    "        preditions =  prediction_matrix > threshold\n",
    "        return stats.mode(predictions, axis=1)\n",
    "    else:\n",
    "        print(\"Returning soft voting predictions\")\n",
    "        predictions = np.mean(prediction_matrix, axis=1)\n",
    "        return predictions > threshold"
   ]
  },
  {
   "cell_type": "code",
   "execution_count": 108,
   "metadata": {},
   "outputs": [
    {
     "output_type": "stream",
     "name": "stdout",
     "text": [
      "Generating predictions for model 1\n"
     ]
    },
    {
     "output_type": "error",
     "ename": "ValueError",
     "evalue": "operands could not be broadcast together with shapes (624,) (1872,) (624,) ",
     "traceback": [
      "\u001b[0;31m---------------------------------------------------------------------------\u001b[0m",
      "\u001b[0;31mValueError\u001b[0m                                Traceback (most recent call last)",
      "\u001b[0;32m<ipython-input-108-27121d7b843b>\u001b[0m in \u001b[0;36m<module>\u001b[0;34m()\u001b[0m\n\u001b[1;32m      5\u001b[0m                        \u001b[0mmodel_weights\u001b[0m\u001b[0;34m=\u001b[0m\u001b[0;32mNone\u001b[0m\u001b[0;34m,\u001b[0m\u001b[0;34m\u001b[0m\u001b[0;34m\u001b[0m\u001b[0m\n\u001b[1;32m      6\u001b[0m                        \u001b[0mthreshold\u001b[0m\u001b[0;34m=\u001b[0m\u001b[0;36m0.5\u001b[0m\u001b[0;34m,\u001b[0m\u001b[0;34m\u001b[0m\u001b[0;34m\u001b[0m\u001b[0m\n\u001b[0;32m----> 7\u001b[0;31m                        soft_voting=True)\n\u001b[0m",
      "\u001b[0;32m<ipython-input-31-a04ec49ea6af>\u001b[0m in \u001b[0;36mstacked_classifier\u001b[0;34m(list_of_models, X_test, y_test, model_input_shape, model_weights, threshold, soft_voting)\u001b[0m\n\u001b[1;32m     20\u001b[0m         \u001b[0mmodel\u001b[0m \u001b[0;34m=\u001b[0m \u001b[0mlist_of_models\u001b[0m\u001b[0;34m[\u001b[0m\u001b[0mi\u001b[0m\u001b[0;34m]\u001b[0m\u001b[0;34m\u001b[0m\u001b[0;34m\u001b[0m\u001b[0m\n\u001b[1;32m     21\u001b[0m         \u001b[0mp\u001b[0m \u001b[0;34m=\u001b[0m \u001b[0mmodel\u001b[0m\u001b[0;34m.\u001b[0m\u001b[0mpredict\u001b[0m\u001b[0;34m(\u001b[0m\u001b[0mX_test\u001b[0m\u001b[0;34m)\u001b[0m\u001b[0;34m\u001b[0m\u001b[0;34m\u001b[0m\u001b[0m\n\u001b[0;32m---> 22\u001b[0;31m         \u001b[0mprediction_matrix\u001b[0m\u001b[0;34m[\u001b[0m\u001b[0;34m:\u001b[0m\u001b[0;34m,\u001b[0m\u001b[0mi\u001b[0m\u001b[0;34m]\u001b[0m \u001b[0;34m*=\u001b[0m \u001b[0mp\u001b[0m\u001b[0;34m.\u001b[0m\u001b[0mravel\u001b[0m\u001b[0;34m(\u001b[0m\u001b[0;34m)\u001b[0m\u001b[0;34m\u001b[0m\u001b[0;34m\u001b[0m\u001b[0m\n\u001b[0m\u001b[1;32m     23\u001b[0m         \u001b[0mprint\u001b[0m\u001b[0;34m(\u001b[0m\u001b[0;34mf\"Finished prediction on model {i+1}\"\u001b[0m\u001b[0;34m)\u001b[0m\u001b[0;34m\u001b[0m\u001b[0;34m\u001b[0m\u001b[0m\n\u001b[1;32m     24\u001b[0m     \u001b[0;31m# Adjust the weights of each prediction\u001b[0m\u001b[0;34m\u001b[0m\u001b[0;34m\u001b[0m\u001b[0;34m\u001b[0m\u001b[0m\n",
      "\u001b[0;31mValueError\u001b[0m: operands could not be broadcast together with shapes (624,) (1872,) (624,) "
     ]
    }
   ],
   "source": [
    "ensemble_preds = stacked_classifier([mobilemodel, vggmodel],\n",
    "                       X_test,\n",
    "                       y_test,\n",
    "                       model_input_shape=(224,224,3), \n",
    "                       model_weights=None,\n",
    "                       threshold=0.5,\n",
    "                       soft_voting=True)"
   ]
  },
  {
   "cell_type": "code",
   "execution_count": null,
   "metadata": {},
   "outputs": [],
   "source": [
    "graphs.plot_cmatrix(y_test,ensemble_preds)"
   ]
  },
  {
   "cell_type": "code",
   "execution_count": null,
   "metadata": {},
   "outputs": [],
   "source": [
    "from sklearn.metrics import accuracy_score, recall_score\n",
    "\n",
    "print(accuracy_score(y_test, ensemble_preds))\n",
    "print(recall_score(y_test, ensemble_preds))"
   ]
  },
  {
   "cell_type": "code",
   "execution_count": 53,
   "metadata": {},
   "outputs": [
    {
     "output_type": "stream",
     "name": "stdout",
     "text": [
      "INFO:tensorflow:Assets written to: ../../src/models/2020-12-06vgg.HDF5/assets\n"
     ]
    }
   ],
   "source": [
    "#saving models\n",
    "from datetime import datetime\n",
    "today = str(datetime.today()).split()[0]\n",
    "directory = \"../../src/models/\"\n",
    "model_id = \"vgg\"\n",
    "filename = directory+today+model_id+\".HDF5\"\n",
    "\n",
    "vggmodel.save(filename)"
   ]
  },
  {
   "cell_type": "code",
   "execution_count": 54,
   "metadata": {},
   "outputs": [
    {
     "output_type": "stream",
     "name": "stdout",
     "text": [
      "INFO:tensorflow:Assets written to: ../../src/models/2020-12-06homemade.HDF5/assets\n"
     ]
    }
   ],
   "source": [
    "model_id = 'homemade'\n",
    "filename = directory+today+model_id+'.HDF5'\n",
    "\n",
    "cnn2.save(filename)"
   ]
  },
  {
   "cell_type": "code",
   "execution_count": 55,
   "metadata": {},
   "outputs": [
    {
     "output_type": "stream",
     "name": "stdout",
     "text": [
      "INFO:tensorflow:Assets written to: ../../src/models/2020-12-06mobilenetv2.HDF5/assets\n"
     ]
    }
   ],
   "source": [
    "model_id = 'mobilenetv2'\n",
    "filename = directory+today+model_id+'.HDF5'\n",
    "\n",
    "mobilemodel.save(filename)"
   ]
  },
  {
   "cell_type": "code",
   "execution_count": 60,
   "metadata": {},
   "outputs": [
    {
     "output_type": "execute_result",
     "data": {
      "text/plain": [
       "10"
      ]
     },
     "metadata": {},
     "execution_count": 60
    }
   ],
   "source": [
    "images['train'][2200][0].find('bacteria')"
   ]
  },
  {
   "source": [
    "### Creating a Multiclassification model to classify bacterial versus viral cases on pneumonia"
   ],
   "cell_type": "markdown",
   "metadata": {}
  },
  {
   "cell_type": "code",
   "execution_count": 5,
   "metadata": {},
   "outputs": [],
   "source": [
    "y_train1 = []\n",
    "for i in range(0, len(images['train'])):\n",
    "    if images['train'][i][2] == 0:\n",
    "        y_train1.append(0)\n",
    "    elif images['train'][i][2] != 0 and images['train'][i][0].find('bacteria') != -1:\n",
    "        y_train1.append(1)\n",
    "    elif images['train'][i][2] != 0 and images['train'][i][0].find('virus') != -1:\n",
    "        y_train1.append(2)\n",
    "y_train1 = np.array(y_train1)"
   ]
  },
  {
   "cell_type": "code",
   "execution_count": 39,
   "metadata": {},
   "outputs": [],
   "source": [
    "y_test1 = []\n",
    "for i in range(0, len(images['test'])):\n",
    "    if images['test'][i][2] == 0:\n",
    "        y_test1.append(0)\n",
    "    elif images['test'][i][2] != 0 and images['test'][i][0].find('bacteria') != -1:\n",
    "        y_test1.append(1)\n",
    "    elif images['test'][i][2] != 0 and images['test'][i][0].find('virus') != -1:\n",
    "        y_test1.append(2)"
   ]
  },
  {
   "cell_type": "code",
   "execution_count": 7,
   "metadata": {},
   "outputs": [],
   "source": [
    "y_val1 = []\n",
    "for i in range(0, len(images['val'])):\n",
    "    if images['val'][i][2] == 0:\n",
    "        y_val1.append(0)\n",
    "    elif images['val'][i][2] != 0 and images['val'][i][0].find('bacteria') != -1:\n",
    "        y_val1.append(1)\n",
    "    elif images['val'][i][2] != 0 and images['val'][i][0].find('virus') != -1:\n",
    "        y_val1.append(2)\n",
    "y_val1 = np.array(y_val1)"
   ]
  },
  {
   "cell_type": "code",
   "execution_count": 82,
   "metadata": {},
   "outputs": [
    {
     "output_type": "execute_result",
     "data": {
      "text/plain": [
       "array([0, 0, 0, ..., 2, 2, 2])"
      ]
     },
     "metadata": {},
     "execution_count": 82
    }
   ],
   "source": [
    "np.array(y_train1)"
   ]
  },
  {
   "cell_type": "code",
   "execution_count": 44,
   "metadata": {},
   "outputs": [],
   "source": [
    "from sklearn.preprocessing import OneHotEncoder\n",
    "encode = OneHotEncoder(sparse= False)\n",
    "y_train_dummies = encode.fit_transform(y_train1.reshape(-1,1))\n",
    "y_test_dummies = encode.transform(np.array(y_test1).reshape(-1,1))\n",
    "y_val_dummies = encode.transform(y_val1.reshape(-1,1))"
   ]
  },
  {
   "cell_type": "code",
   "execution_count": 37,
   "metadata": {},
   "outputs": [
    {
     "output_type": "execute_result",
     "data": {
      "text/plain": [
       "(5216, 3)"
      ]
     },
     "metadata": {},
     "execution_count": 37
    }
   ],
   "source": [
    "y_train_dummies.shape"
   ]
  },
  {
   "cell_type": "code",
   "execution_count": 54,
   "metadata": {},
   "outputs": [],
   "source": [
    "virus_freq = 0\n",
    "bact_freq = 0\n",
    "health_freq = 0\n",
    "for i in y_train1:\n",
    "    if i == 0:\n",
    "        health_freq += 1\n",
    "    elif i == 1:\n",
    "        bact_freq += 1\n",
    "    elif i == 2:\n",
    "        virus_freq += 1\n",
    "\n",
    "inv_virus_freq = 1/(virus_freq/len(y_train1))\n",
    "inv_bact_freq = 1/(bact_freq/len(y_train1))\n",
    "inv_health_freq = 1/(health_freq/len(y_train1))\n",
    "\n",
    "multi_weights = {\n",
    "    0: inv_health_freq,\n",
    "    1: inv_bact_freq,\n",
    "    2: inv_virus_freq\n",
    "    }"
   ]
  },
  {
   "cell_type": "code",
   "execution_count": 62,
   "metadata": {},
   "outputs": [
    {
     "output_type": "stream",
     "name": "stdout",
     "text": [
      "Epoch 1/20\n",
      "209/209 [==============================] - 89s 428ms/step - loss: 3.9192 - acc: 0.5842 - recall: 0.5485 - auc: 0.7642 - val_loss: 0.6892 - val_acc: 0.5625 - val_recall: 0.5000 - val_auc: 0.8623\n",
      "Epoch 2/20\n",
      "209/209 [==============================] - 89s 424ms/step - loss: 1.9939 - acc: 0.6618 - recall: 0.6014 - auc: 0.8563 - val_loss: 0.7927 - val_acc: 0.5625 - val_recall: 0.5000 - val_auc: 0.7832\n",
      "Epoch 3/20\n",
      "209/209 [==============================] - 89s 427ms/step - loss: 1.8613 - acc: 0.6833 - recall: 0.5961 - auc: 0.8741 - val_loss: 0.7649 - val_acc: 0.5625 - val_recall: 0.5000 - val_auc: 0.8135\n",
      "Epoch 4/20\n",
      "209/209 [==============================] - 89s 425ms/step - loss: 1.8806 - acc: 0.6731 - recall: 0.5890 - auc: 0.8712 - val_loss: 0.6337 - val_acc: 0.6250 - val_recall: 0.5000 - val_auc: 0.8545\n",
      "Epoch 5/20\n",
      "209/209 [==============================] - 89s 426ms/step - loss: 1.7887 - acc: 0.6865 - recall: 0.6003 - auc: 0.8843 - val_loss: 1.0606 - val_acc: 0.3125 - val_recall: 0.3125 - val_auc: 0.6172\n",
      "Epoch 6/20\n",
      "209/209 [==============================] - 89s 426ms/step - loss: 1.7018 - acc: 0.6898 - recall: 0.6332 - auc: 0.8926 - val_loss: 0.9111 - val_acc: 0.4375 - val_recall: 0.3125 - val_auc: 0.7021\n",
      "Epoch 7/20\n",
      "209/209 [==============================] - 89s 427ms/step - loss: 1.7756 - acc: 0.6747 - recall: 0.5830 - auc: 0.8845 - val_loss: 0.8979 - val_acc: 0.5000 - val_recall: 0.2500 - val_auc: 0.7266\n",
      "Epoch 8/20\n",
      "209/209 [==============================] - 89s 428ms/step - loss: 1.6532 - acc: 0.6860 - recall: 0.5903 - auc: 0.8946 - val_loss: 0.5048 - val_acc: 0.6875 - val_recall: 0.6875 - val_auc: 0.9160\n",
      "Epoch 9/20\n",
      "209/209 [==============================] - 90s 428ms/step - loss: 1.5840 - acc: 0.6887 - recall: 0.6411 - auc: 0.9000 - val_loss: 0.7407 - val_acc: 0.6875 - val_recall: 0.5625 - val_auc: 0.8174\n",
      "Epoch 10/20\n",
      "209/209 [==============================] - 89s 427ms/step - loss: 1.6183 - acc: 0.6867 - recall: 0.6329 - auc: 0.8985 - val_loss: 0.8697 - val_acc: 0.4375 - val_recall: 0.3125 - val_auc: 0.7266\n",
      "Epoch 11/20\n",
      "209/209 [==============================] - 89s 427ms/step - loss: 1.5890 - acc: 0.7049 - recall: 0.6609 - auc: 0.9049 - val_loss: 0.7004 - val_acc: 0.6250 - val_recall: 0.6250 - val_auc: 0.8506\n",
      "Epoch 12/20\n",
      "209/209 [==============================] - 89s 427ms/step - loss: 1.5836 - acc: 0.6952 - recall: 0.6676 - auc: 0.9003 - val_loss: 0.7771 - val_acc: 0.5625 - val_recall: 0.4375 - val_auc: 0.7822\n",
      "Epoch 13/20\n",
      "209/209 [==============================] - 89s 426ms/step - loss: 1.5980 - acc: 0.6923 - recall: 0.6355 - auc: 0.9016 - val_loss: 0.6977 - val_acc: 0.6875 - val_recall: 0.5625 - val_auc: 0.8350\n",
      "Epoch 14/20\n",
      "209/209 [==============================] - 89s 426ms/step - loss: 1.6819 - acc: 0.6455 - recall: 0.5431 - auc: 0.8835 - val_loss: 0.8696 - val_acc: 0.6250 - val_recall: 0.3750 - val_auc: 0.7471\n",
      "Epoch 15/20\n",
      "209/209 [==============================] - 90s 429ms/step - loss: 1.6408 - acc: 0.6946 - recall: 0.5828 - auc: 0.9005 - val_loss: 0.5425 - val_acc: 0.6875 - val_recall: 0.6875 - val_auc: 0.9014\n",
      "Epoch 16/20\n",
      "209/209 [==============================] - 90s 429ms/step - loss: 1.5288 - acc: 0.7059 - recall: 0.6956 - auc: 0.9065 - val_loss: 0.7081 - val_acc: 0.5000 - val_recall: 0.5000 - val_auc: 0.8369\n",
      "Epoch 17/20\n",
      "209/209 [==============================] - 90s 429ms/step - loss: 1.4757 - acc: 0.6982 - recall: 0.6865 - auc: 0.9086 - val_loss: 0.7747 - val_acc: 0.5625 - val_recall: 0.5625 - val_auc: 0.8018\n",
      "Epoch 18/20\n",
      "209/209 [==============================] - 90s 430ms/step - loss: 1.4770 - acc: 0.6954 - recall: 0.6869 - auc: 0.9063 - val_loss: 0.6177 - val_acc: 0.6250 - val_recall: 0.6250 - val_auc: 0.8838\n",
      "Epoch 19/20\n",
      "209/209 [==============================] - 90s 430ms/step - loss: 1.5484 - acc: 0.6572 - recall: 0.6246 - auc: 0.8925 - val_loss: 0.9580 - val_acc: 0.3750 - val_recall: 0.3125 - val_auc: 0.6865\n",
      "Epoch 20/20\n",
      "209/209 [==============================] - 90s 428ms/step - loss: 1.4967 - acc: 0.6984 - recall: 0.6607 - auc: 0.9115 - val_loss: 0.5912 - val_acc: 0.6875 - val_recall: 0.6875 - val_auc: 0.8818\n"
     ]
    }
   ],
   "source": [
    "mobile1 = tf.keras.applications.MobileNetV2(\n",
    "                input_shape=(224, 224, 3), \n",
    "                include_top=False, \n",
    "                weights='imagenet',\n",
    "                input_tensor=None, \n",
    "                pooling='max', \n",
    "                classes=3)\n",
    "\n",
    "for layer in mobile1.layers:\n",
    "    layer.trainable = False\n",
    "\n",
    "# callback = tf.keras.callbacks.EarlyStopping(monitor='loss', patience=3)\n",
    "\n",
    "# # Flatten the output layer to 1 dimension\n",
    "a = layers.Flatten()(mobile1.output)\n",
    "\n",
    "# Add a fully connected layer with 512 hidden units and ReLU activation\n",
    "a = layers.Dense(512, activation='relu')(a)\n",
    "\n",
    "# Add a dropout rate of 0.5\n",
    "a = layers.Dropout(0.5)(a)\n",
    "\n",
    "# Add a second fully connected layer with 256 hidden units and ReLU activation\n",
    "a = layers.Dense(256, activation='relu')(a)\n",
    "\n",
    "a = layers.Dropout(.3)(a)\n",
    "# Add a final sigmoid layer for classification\n",
    "a = layers.Dense(units= 3, activation='softmax')(a)\n",
    "\n",
    "mobilemodel = tf.keras.models.Model(mobile1.input, a)\n",
    "\n",
    "mobilemodel.compile(optimizer = 'Adam', loss = 'categorical_crossentropy', metrics = ['acc', 'Recall', 'AUC'])\n",
    "\n",
    "mobilehist = mobilemodel.fit(X_train, y_train_dummies, validation_data = (X_val, y_val_dummies), epochs = 20, batch_size=25, class_weight = multi_weights)"
   ]
  },
  {
   "cell_type": "code",
   "execution_count": 63,
   "metadata": {},
   "outputs": [
    {
     "output_type": "stream",
     "name": "stdout",
     "text": [
      "20/20 [==============================] - 9s 467ms/step - loss: 0.7775 - acc: 0.7676 - recall: 0.7356 - auc: 0.8861\n"
     ]
    }
   ],
   "source": [
    "mobilemodel.evaluate(X_test, y_test_dummies)\n",
    "y_test_pred = mobilemodel.predict(X_test)"
   ]
  },
  {
   "cell_type": "code",
   "execution_count": null,
   "metadata": {},
   "outputs": [],
   "source": []
  },
  {
   "cell_type": "code",
   "execution_count": 64,
   "metadata": {},
   "outputs": [
    {
     "output_type": "stream",
     "name": "stdout",
     "text": [
      "Epoch 1/20\n",
      "209/209 [==============================] - 311s 1s/step - loss: 11044.3896 - acc: 0.3361 - recall: 0.0199 - auc: 0.5125 - val_loss: 1.1048 - val_acc: 0.0000e+00 - val_recall: 0.0000e+00 - val_auc: 0.2500\n",
      "Epoch 2/20\n",
      "209/209 [==============================] - 316s 2s/step - loss: 52.8426 - acc: 0.2786 - recall: 0.0012 - auc: 0.4523 - val_loss: 1.0888 - val_acc: 0.5000 - val_recall: 0.0000e+00 - val_auc: 0.7500\n",
      "Epoch 3/20\n",
      "209/209 [==============================] - 319s 2s/step - loss: 39.5253 - acc: 0.3359 - recall: 0.0046 - auc: 0.5171 - val_loss: 1.0971 - val_acc: 0.5000 - val_recall: 0.0000e+00 - val_auc: 0.5000\n",
      "Epoch 4/20\n",
      "209/209 [==============================] - 320s 2s/step - loss: 6.2650 - acc: 0.3367 - recall: 1.9172e-04 - auc: 0.5084 - val_loss: 1.0947 - val_acc: 0.5000 - val_recall: 0.0000e+00 - val_auc: 0.6250\n",
      "Epoch 5/20\n",
      "209/209 [==============================] - 319s 2s/step - loss: 3.2966 - acc: 0.3064 - recall: 0.0000e+00 - auc: 0.4458 - val_loss: 1.0971 - val_acc: 0.5000 - val_recall: 0.0000e+00 - val_auc: 0.5000\n",
      "Epoch 6/20\n",
      "209/209 [==============================] - 319s 2s/step - loss: 3.2970 - acc: 0.3775 - recall: 0.0000e+00 - auc: 0.5558 - val_loss: 1.1055 - val_acc: 0.0000e+00 - val_recall: 0.0000e+00 - val_auc: 0.2500\n",
      "Epoch 7/20\n",
      "209/209 [==============================] - 322s 2s/step - loss: 3.2971 - acc: 0.2941 - recall: 0.0000e+00 - auc: 0.4710 - val_loss: 1.1013 - val_acc: 0.5000 - val_recall: 0.0000e+00 - val_auc: 0.3750\n",
      "Epoch 8/20\n",
      "209/209 [==============================] - 319s 2s/step - loss: 3.2969 - acc: 0.3884 - recall: 0.0000e+00 - auc: 0.5473 - val_loss: 1.0974 - val_acc: 0.5000 - val_recall: 0.0000e+00 - val_auc: 0.3750\n"
     ]
    }
   ],
   "source": [
    "densebase1 = tf.keras.applications.DenseNet121(\n",
    "    include_top=False,\n",
    "    weights=\"imagenet\",\n",
    "    input_tensor=None,\n",
    "    input_shape=(224,224,3),\n",
    "    pooling='Max',\n",
    "    classes=3,)\n",
    "\n",
    "for layer in densebase1.layers:\n",
    "    layer.trainable = False\n",
    "\n",
    "callback = tf.keras.callbacks.EarlyStopping(monitor='loss', patience=3)\n",
    "\n",
    "# Flatten the output layer to 1 dimension\n",
    "a = layers.Flatten()(densebase1.output)\n",
    "\n",
    "# Add a fully connected layer with 512 hidden units and ReLU activation\n",
    "a = layers.Dense(512, activation='relu')(a)\n",
    "\n",
    "# Add a dropout rate of 0.5\n",
    "a = layers.Dropout(0.5)(a)\n",
    "\n",
    "# Add a second fully connected layer with 256 hidden units and ReLU activation\n",
    "a = layers.Dense(256, activation='relu')(a)\n",
    "\n",
    "a = layers.Dropout(.3)(a)\n",
    "# Add a final sigmoid layer for classification\n",
    "a = layers.Dense(3, activation='softmax')(a)\n",
    "\n",
    "densemodel = tf.keras.models.Model(densebase1.input, a)\n",
    "\n",
    "densemodel.compile(optimizer = 'sgd', loss = 'categorical_crossentropy',metrics = ['acc', 'Recall', 'AUC'])\n",
    "\n",
    "densehist = densemodel.fit(\n",
    "                      X_train, y_train_dummies, \n",
    "                      validation_data = (X_val, y_val_dummies), \n",
    "                      epochs = 20, \n",
    "                      batch_size=25,\n",
    "                      class_weight = multi_weights,\n",
    "                      callbacks = callback)"
   ]
  },
  {
   "cell_type": "code",
   "execution_count": 65,
   "metadata": {},
   "outputs": [
    {
     "output_type": "stream",
     "name": "stdout",
     "text": [
      "20/20 [==============================] - 35s 2s/step - loss: 1.0984 - acc: 0.3750 - recall: 0.0000e+00 - auc: 0.4591\n"
     ]
    },
    {
     "output_type": "execute_result",
     "data": {
      "text/plain": [
       "[1.0983777046203613, 0.375, 0.0, 0.45913463830947876]"
      ]
     },
     "metadata": {},
     "execution_count": 65
    }
   ],
   "source": [
    "densemodel.evaluate(X_test, y_test_dummies)"
   ]
  },
  {
   "cell_type": "code",
   "execution_count": 66,
   "metadata": {},
   "outputs": [
    {
     "output_type": "stream",
     "name": "stdout",
     "text": [
      "Epoch 1/20\n",
      "105/105 [==============================] - 393s 4s/step - loss: 20.0121 - acc: 0.2765 - recall: 0.2728 - auc: 0.4565 - val_loss: 10.2247 - val_acc: 0.0000e+00 - val_recall: 0.0000e+00 - val_auc: 0.2500\n",
      "Epoch 2/20\n",
      "105/105 [==============================] - 394s 4s/step - loss: 20.0454 - acc: 0.3861 - recall: 0.3861 - auc: 0.5395 - val_loss: 10.2247 - val_acc: 0.0000e+00 - val_recall: 0.0000e+00 - val_auc: 0.2500\n",
      "Epoch 3/20\n",
      "105/105 [==============================] - 395s 4s/step - loss: 20.9276 - acc: 0.3604 - recall: 0.3604 - auc: 0.5203 - val_loss: 5.1124 - val_acc: 0.5000 - val_recall: 0.5000 - val_auc: 0.6250\n",
      "Epoch 4/20\n",
      "105/105 [==============================] - 394s 4s/step - loss: 20.4178 - acc: 0.4548 - recall: 0.4548 - auc: 0.5911 - val_loss: 5.1124 - val_acc: 0.5000 - val_recall: 0.5000 - val_auc: 0.6250\n"
     ]
    }
   ],
   "source": [
    "# Setting an early stop feature\n",
    "callback = tf.keras.callbacks.EarlyStopping(monitor='loss', patience=3)\n",
    "\n",
    "rms = tf.keras.optimizers.RMSprop(learning_rate=0.01)\n",
    "\n",
    "cnn2 = models.Sequential()\n",
    "# Input convolution layers\n",
    "cnn2.add(layers.Conv2D(64, (3, 3), activation='relu', input_shape=(224, 224,  3)))\n",
    "cnn2.add(layers.Conv2D(64, (3, 3), activation='relu'))\n",
    "\n",
    "# Overlapped pooling\n",
    "cnn2.add(layers.MaxPooling2D((2, 3)))\n",
    "\n",
    "# First hidden convolution layers and pool\n",
    "cnn2.add(layers.Conv2D(32, (3, 3), activation='relu'))\n",
    "cnn2.add(layers.Conv2D(32, (3, 3), activation='relu'))\n",
    "cnn2.add(layers.MaxPooling2D((2, 3)))\n",
    "\n",
    "# Second hidden convolution layers and pools\n",
    "cnn2.add(layers.Conv2D(16, (6, 6), activation='relu'))\n",
    "cnn2.add(layers.Conv2D(16, (3, 3), activation='relu'))\n",
    "cnn2.add(layers.MaxPooling2D((2, 3)))\n",
    "\n",
    "# Flatten layer\n",
    "cnn2.add(layers.Flatten())\n",
    "\n",
    "# 3 Graduated densely connected layers with graduated regularization\n",
    "cnn2.add(layers.Dense(64, activation='relu'))\n",
    "cnn2.add(layers.Dropout(.5))\n",
    "cnn2.add(layers.Dense(32, activation='relu'))\n",
    "cnn2.add(layers.Dropout(.3))\n",
    "cnn2.add(layers.Dense(16, activation='relu'))\n",
    "cnn2.add(layers.Dropout(.1))\n",
    "\n",
    "# Output layer\n",
    "cnn2.add(layers.Dense(3, activation='softmax'))\n",
    "cnn2.compile(loss='binary_crossentropy',\n",
    "              optimizer= rms,\n",
    "              metrics=['acc', 'Recall', 'AUC'])\n",
    "\n",
    "# Fitting the model with our additional class weight parameter\n",
    "cnn3 = cnn2.fit(X_train, y_train_dummies,\n",
    "               epochs=20,\n",
    "               batch_size=50,\n",
    "               validation_data = (X_val, y_val_dummies), \n",
    "               class_weight=multi_weights,\n",
    "               verbose=True,\n",
    "               callbacks = callback)"
   ]
  },
  {
   "cell_type": "code",
   "execution_count": 67,
   "metadata": {},
   "outputs": [
    {
     "output_type": "stream",
     "name": "stdout",
     "text": [
      "20/20 [==============================] - 11s 565ms/step - loss: 6.2594 - acc: 0.3878 - recall: 0.3878 - auc: 0.5409\n"
     ]
    },
    {
     "output_type": "execute_result",
     "data": {
      "text/plain": [
       "[6.259367942810059, 0.3878205120563507, 0.3878205120563507, 0.5408653616905212]"
      ]
     },
     "metadata": {},
     "execution_count": 67
    }
   ],
   "source": [
    "cnn2.evaluate(X_test, y_test_dummies)"
   ]
  },
  {
   "cell_type": "code",
   "execution_count": 70,
   "metadata": {},
   "outputs": [
    {
     "output_type": "stream",
     "name": "stdout",
     "text": [
      "Epoch 1/25\n",
      "209/209 [==============================] - 568s 3s/step - loss: 2.6847 - acc: 0.6342 - recall: 0.5784 - auc: 0.8183 - val_loss: 0.9120 - val_acc: 0.5000 - val_recall: 0.5000 - val_auc: 0.7324\n",
      "Epoch 2/25\n",
      "209/209 [==============================] - 578s 3s/step - loss: 1.8580 - acc: 0.6823 - recall: 0.5997 - auc: 0.8759 - val_loss: 0.6605 - val_acc: 0.7500 - val_recall: 0.6875 - val_auc: 0.8760\n",
      "Epoch 3/25\n",
      "209/209 [==============================] - 581s 3s/step - loss: 1.9358 - acc: 0.6436 - recall: 0.5320 - auc: 0.8647 - val_loss: 0.6636 - val_acc: 0.6875 - val_recall: 0.6875 - val_auc: 0.8926\n",
      "Epoch 4/25\n",
      "209/209 [==============================] - 574s 3s/step - loss: 1.8080 - acc: 0.6704 - recall: 0.5939 - auc: 0.8816 - val_loss: 0.7304 - val_acc: 0.4375 - val_recall: 0.4375 - val_auc: 0.8174\n",
      "Epoch 5/25\n",
      "209/209 [==============================] - 570s 3s/step - loss: 1.7191 - acc: 0.6271 - recall: 0.5234 - auc: 0.8722 - val_loss: 1.1337 - val_acc: 0.4375 - val_recall: 0.4375 - val_auc: 0.6621\n",
      "Epoch 6/25\n",
      "209/209 [==============================] - 583s 3s/step - loss: 1.6872 - acc: 0.6423 - recall: 0.4659 - auc: 0.8786 - val_loss: 0.7847 - val_acc: 0.5625 - val_recall: 0.5000 - val_auc: 0.7871\n",
      "Epoch 7/25\n",
      "209/209 [==============================] - 579s 3s/step - loss: 1.5909 - acc: 0.6522 - recall: 0.5288 - auc: 0.8898 - val_loss: 0.8145 - val_acc: 0.6250 - val_recall: 0.5625 - val_auc: 0.8086\n",
      "Epoch 8/25\n",
      "209/209 [==============================] - 590s 3s/step - loss: 1.5942 - acc: 0.6727 - recall: 0.5441 - auc: 0.8924 - val_loss: 0.8089 - val_acc: 0.5625 - val_recall: 0.5000 - val_auc: 0.7998\n",
      "Epoch 9/25\n",
      "209/209 [==============================] - 591s 3s/step - loss: 1.5103 - acc: 0.6762 - recall: 0.5721 - auc: 0.8970 - val_loss: 0.6439 - val_acc: 0.6875 - val_recall: 0.5000 - val_auc: 0.8652\n",
      "Epoch 10/25\n",
      "209/209 [==============================] - 598s 3s/step - loss: 1.5106 - acc: 0.6894 - recall: 0.5303 - auc: 0.9018 - val_loss: 0.7008 - val_acc: 0.4375 - val_recall: 0.4375 - val_auc: 0.8135\n",
      "Epoch 11/25\n",
      "209/209 [==============================] - 645s 3s/step - loss: 1.5486 - acc: 0.7051 - recall: 0.5263 - auc: 0.9006 - val_loss: 0.8269 - val_acc: 0.3750 - val_recall: 0.3750 - val_auc: 0.7510\n",
      "Epoch 12/25\n",
      "209/209 [==============================] - 638s 3s/step - loss: 1.6275 - acc: 0.6346 - recall: 0.6308 - auc: 0.8771 - val_loss: 0.7046 - val_acc: 0.6250 - val_recall: 0.6250 - val_auc: 0.8496\n"
     ]
    }
   ],
   "source": [
    "VGG16_model = VGG16(input_shape = (224, 224, 3), \n",
    "                    # Shape of our images\n",
    "                    include_top = False, \n",
    "                    # Leave out the last fully connected layer\n",
    "                    weights = 'imagenet')\n",
    "\n",
    "for layer in VGG16_model.layers:\n",
    "    layer.trainable = False\n",
    "#making the existing layers untrainable in order to preserve them\n",
    "\n",
    "# Flatten the output layer to 1 dimension\n",
    "x = layers.Flatten()(VGG16_model.output)\n",
    "\n",
    "# Add a fully connected layer with 512 hidden units and ReLU activation\n",
    "x = layers.Dense(512, activation='relu')(x)\n",
    "\n",
    "# Add a dropout rate of 0.5\n",
    "x = layers.Dropout(0.5)(x)\n",
    "\n",
    "# Add a second fully connected layer with 256 hidden units and ReLU activation\n",
    "x = layers.Dense(256, activation='relu')(x)\n",
    "\n",
    "# Dropout with a rate of 0.3\n",
    "x = layers.Dropout(.3)(x)\n",
    "\n",
    "# Add a final sigmoid layer for classification\n",
    "x = layers.Dense(3, activation='softmax')(x)\n",
    "\n",
    "vggmodel = tf.keras.models.Model(VGG16_model.input, x)\n",
    "\n",
    "vggmodel.compile(optimizer = 'Adam', \n",
    "              loss = 'categorical_crossentropy',\n",
    "              metrics = ['acc', 'Recall', 'AUC'])\n",
    "\n",
    "vgghist = vggmodel.fit(X_train, y_train_dummies, \n",
    "                       validation_data = (X_val, y_val_dummies), \n",
    "                       epochs = 25, \n",
    "                       batch_size=25, \n",
    "                       class_weight=multi_weights, \n",
    "                       callbacks= callback)"
   ]
  },
  {
   "cell_type": "code",
   "execution_count": 71,
   "metadata": {},
   "outputs": [
    {
     "output_type": "stream",
     "name": "stdout",
     "text": [
      "20/20 [==============================] - 70s 4s/step - loss: 0.9341 - acc: 0.7340 - recall: 0.7163 - auc: 0.8342\n"
     ]
    },
    {
     "output_type": "execute_result",
     "data": {
      "text/plain": [
       "[0.9340919852256775,\n",
       " 0.7339743375778198,\n",
       " 0.7163461446762085,\n",
       " 0.8341859579086304]"
      ]
     },
     "metadata": {},
     "execution_count": 71
    }
   ],
   "source": [
    "vggmodel.evaluate(X_test, y_test_dummies)"
   ]
  },
  {
   "cell_type": "code",
   "execution_count": 72,
   "metadata": {},
   "outputs": [
    {
     "output_type": "error",
     "ename": "ValueError",
     "evalue": "Classification metrics can't handle a mix of multilabel-indicator and continuous-multioutput targets",
     "traceback": [
      "\u001b[0;31m---------------------------------------------------------------------------\u001b[0m",
      "\u001b[0;31mValueError\u001b[0m                                Traceback (most recent call last)",
      "\u001b[0;32m<ipython-input-72-63ce80eaec30>\u001b[0m in \u001b[0;36m<module>\u001b[0;34m()\u001b[0m\n\u001b[0;32m----> 1\u001b[0;31m \u001b[0msns\u001b[0m\u001b[0;34m.\u001b[0m\u001b[0mheatmap\u001b[0m\u001b[0;34m(\u001b[0m\u001b[0mconfusion_matrix\u001b[0m\u001b[0;34m(\u001b[0m\u001b[0my_test_dummies\u001b[0m\u001b[0;34m,\u001b[0m \u001b[0mvggmodel\u001b[0m\u001b[0;34m.\u001b[0m\u001b[0mpredict\u001b[0m\u001b[0;34m(\u001b[0m\u001b[0mX_test\u001b[0m\u001b[0;34m)\u001b[0m\u001b[0;34m)\u001b[0m\u001b[0;34m)\u001b[0m\u001b[0;34m\u001b[0m\u001b[0;34m\u001b[0m\u001b[0m\n\u001b[0m",
      "\u001b[0;32m/Users/nicksubic/opt/anaconda3/envs/learn-env/lib/python3.6/site-packages/sklearn/utils/validation.py\u001b[0m in \u001b[0;36minner_f\u001b[0;34m(*args, **kwargs)\u001b[0m\n\u001b[1;32m     70\u001b[0m                           FutureWarning)\n\u001b[1;32m     71\u001b[0m         \u001b[0mkwargs\u001b[0m\u001b[0;34m.\u001b[0m\u001b[0mupdate\u001b[0m\u001b[0;34m(\u001b[0m\u001b[0;34m{\u001b[0m\u001b[0mk\u001b[0m\u001b[0;34m:\u001b[0m \u001b[0marg\u001b[0m \u001b[0;32mfor\u001b[0m \u001b[0mk\u001b[0m\u001b[0;34m,\u001b[0m \u001b[0marg\u001b[0m \u001b[0;32min\u001b[0m \u001b[0mzip\u001b[0m\u001b[0;34m(\u001b[0m\u001b[0msig\u001b[0m\u001b[0;34m.\u001b[0m\u001b[0mparameters\u001b[0m\u001b[0;34m,\u001b[0m \u001b[0margs\u001b[0m\u001b[0;34m)\u001b[0m\u001b[0;34m}\u001b[0m\u001b[0;34m)\u001b[0m\u001b[0;34m\u001b[0m\u001b[0;34m\u001b[0m\u001b[0m\n\u001b[0;32m---> 72\u001b[0;31m         \u001b[0;32mreturn\u001b[0m \u001b[0mf\u001b[0m\u001b[0;34m(\u001b[0m\u001b[0;34m**\u001b[0m\u001b[0mkwargs\u001b[0m\u001b[0;34m)\u001b[0m\u001b[0;34m\u001b[0m\u001b[0;34m\u001b[0m\u001b[0m\n\u001b[0m\u001b[1;32m     73\u001b[0m     \u001b[0;32mreturn\u001b[0m \u001b[0minner_f\u001b[0m\u001b[0;34m\u001b[0m\u001b[0;34m\u001b[0m\u001b[0m\n\u001b[1;32m     74\u001b[0m \u001b[0;34m\u001b[0m\u001b[0m\n",
      "\u001b[0;32m/Users/nicksubic/opt/anaconda3/envs/learn-env/lib/python3.6/site-packages/sklearn/metrics/_classification.py\u001b[0m in \u001b[0;36mconfusion_matrix\u001b[0;34m(y_true, y_pred, labels, sample_weight, normalize)\u001b[0m\n\u001b[1;32m    274\u001b[0m \u001b[0;34m\u001b[0m\u001b[0m\n\u001b[1;32m    275\u001b[0m     \"\"\"\n\u001b[0;32m--> 276\u001b[0;31m     \u001b[0my_type\u001b[0m\u001b[0;34m,\u001b[0m \u001b[0my_true\u001b[0m\u001b[0;34m,\u001b[0m \u001b[0my_pred\u001b[0m \u001b[0;34m=\u001b[0m \u001b[0m_check_targets\u001b[0m\u001b[0;34m(\u001b[0m\u001b[0my_true\u001b[0m\u001b[0;34m,\u001b[0m \u001b[0my_pred\u001b[0m\u001b[0;34m)\u001b[0m\u001b[0;34m\u001b[0m\u001b[0;34m\u001b[0m\u001b[0m\n\u001b[0m\u001b[1;32m    277\u001b[0m     \u001b[0;32mif\u001b[0m \u001b[0my_type\u001b[0m \u001b[0;32mnot\u001b[0m \u001b[0;32min\u001b[0m \u001b[0;34m(\u001b[0m\u001b[0;34m\"binary\"\u001b[0m\u001b[0;34m,\u001b[0m \u001b[0;34m\"multiclass\"\u001b[0m\u001b[0;34m)\u001b[0m\u001b[0;34m:\u001b[0m\u001b[0;34m\u001b[0m\u001b[0;34m\u001b[0m\u001b[0m\n\u001b[1;32m    278\u001b[0m         \u001b[0;32mraise\u001b[0m \u001b[0mValueError\u001b[0m\u001b[0;34m(\u001b[0m\u001b[0;34m\"%s is not supported\"\u001b[0m \u001b[0;34m%\u001b[0m \u001b[0my_type\u001b[0m\u001b[0;34m)\u001b[0m\u001b[0;34m\u001b[0m\u001b[0;34m\u001b[0m\u001b[0m\n",
      "\u001b[0;32m/Users/nicksubic/opt/anaconda3/envs/learn-env/lib/python3.6/site-packages/sklearn/metrics/_classification.py\u001b[0m in \u001b[0;36m_check_targets\u001b[0;34m(y_true, y_pred)\u001b[0m\n\u001b[1;32m     89\u001b[0m     \u001b[0;32mif\u001b[0m \u001b[0mlen\u001b[0m\u001b[0;34m(\u001b[0m\u001b[0my_type\u001b[0m\u001b[0;34m)\u001b[0m \u001b[0;34m>\u001b[0m \u001b[0;36m1\u001b[0m\u001b[0;34m:\u001b[0m\u001b[0;34m\u001b[0m\u001b[0;34m\u001b[0m\u001b[0m\n\u001b[1;32m     90\u001b[0m         raise ValueError(\"Classification metrics can't handle a mix of {0} \"\n\u001b[0;32m---> 91\u001b[0;31m                          \"and {1} targets\".format(type_true, type_pred))\n\u001b[0m\u001b[1;32m     92\u001b[0m \u001b[0;34m\u001b[0m\u001b[0m\n\u001b[1;32m     93\u001b[0m     \u001b[0;31m# We can't have more than one value on y_type => The set is no more needed\u001b[0m\u001b[0;34m\u001b[0m\u001b[0;34m\u001b[0m\u001b[0;34m\u001b[0m\u001b[0m\n",
      "\u001b[0;31mValueError\u001b[0m: Classification metrics can't handle a mix of multilabel-indicator and continuous-multioutput targets"
     ]
    }
   ],
   "source": [
    "sns.heatmap(confusion_matrix(y_test_dummies, vggmodel.predict(X_test)))"
   ]
  },
  {
   "cell_type": "code",
   "execution_count": 73,
   "metadata": {},
   "outputs": [],
   "source": [
    "vgg_multi_preds = vggmodel.predict(X_test)"
   ]
  }
 ]
}